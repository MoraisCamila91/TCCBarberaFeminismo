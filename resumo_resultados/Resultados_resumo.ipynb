{
 "cells": [
  {
   "cell_type": "code",
   "execution_count": 3,
   "metadata": {},
   "outputs": [],
   "source": [
    "import pandas as pd\n",
    "import plotly.express as px"
   ]
  },
  {
   "cell_type": "code",
   "execution_count": 2,
   "metadata": {},
   "outputs": [
    {
     "data": {
      "text/html": [
       "<div>\n",
       "<style scoped>\n",
       "    .dataframe tbody tr th:only-of-type {\n",
       "        vertical-align: middle;\n",
       "    }\n",
       "\n",
       "    .dataframe tbody tr th {\n",
       "        vertical-align: top;\n",
       "    }\n",
       "\n",
       "    .dataframe thead th {\n",
       "        text-align: right;\n",
       "    }\n",
       "</style>\n",
       "<table border=\"1\" class=\"dataframe\">\n",
       "  <thead>\n",
       "    <tr style=\"text-align: right;\">\n",
       "      <th></th>\n",
       "      <th>Id</th>\n",
       "      <th>Label</th>\n",
       "      <th>timeset</th>\n",
       "      <th>no</th>\n",
       "      <th>nome_usuario</th>\n",
       "      <th>nome</th>\n",
       "      <th>pessoa</th>\n",
       "      <th>genero</th>\n",
       "      <th>20210215_seguidores</th>\n",
       "      <th>tam_rel_seguidores</th>\n",
       "      <th>...</th>\n",
       "      <th>federal</th>\n",
       "      <th>federal_str</th>\n",
       "      <th>puc</th>\n",
       "      <th>puc_str</th>\n",
       "      <th>estadual</th>\n",
       "      <th>estadual_str</th>\n",
       "      <th>militar</th>\n",
       "      <th>militar_str</th>\n",
       "      <th>nome_usuario_raw</th>\n",
       "      <th>seguidores_analisados</th>\n",
       "    </tr>\n",
       "  </thead>\n",
       "  <tbody>\n",
       "    <tr>\n",
       "      <th>0</th>\n",
       "      <td>_pinheira</td>\n",
       "      <td>_pinheira</td>\n",
       "      <td>NaN</td>\n",
       "      <td>67</td>\n",
       "      <td>@_pinheira</td>\n",
       "      <td>Rosana Pinheiro-Machado</td>\n",
       "      <td>1</td>\n",
       "      <td>1</td>\n",
       "      <td>136817</td>\n",
       "      <td>0.020469</td>\n",
       "      <td>...</td>\n",
       "      <td>1</td>\n",
       "      <td>Federais</td>\n",
       "      <td>0</td>\n",
       "      <td>Não PUC</td>\n",
       "      <td>0</td>\n",
       "      <td>Não Estaduais</td>\n",
       "      <td>0</td>\n",
       "      <td>Não Militar</td>\n",
       "      <td>_pinheira</td>\n",
       "      <td>25118</td>\n",
       "    </tr>\n",
       "    <tr>\n",
       "      <th>1</th>\n",
       "      <td>AbrahamWeint</td>\n",
       "      <td>AbrahamWeint</td>\n",
       "      <td>NaN</td>\n",
       "      <td>168</td>\n",
       "      <td>@AbrahamWeint</td>\n",
       "      <td>Abraham Weintraub</td>\n",
       "      <td>1</td>\n",
       "      <td>0</td>\n",
       "      <td>1007333</td>\n",
       "      <td>0.150708</td>\n",
       "      <td>...</td>\n",
       "      <td>1</td>\n",
       "      <td>Federais</td>\n",
       "      <td>0</td>\n",
       "      <td>Não PUC</td>\n",
       "      <td>1</td>\n",
       "      <td>Estaduais</td>\n",
       "      <td>0</td>\n",
       "      <td>Não Militar</td>\n",
       "      <td>AbrahamWeint</td>\n",
       "      <td>87587</td>\n",
       "    </tr>\n",
       "    <tr>\n",
       "      <th>2</th>\n",
       "      <td>AiltonBenedito</td>\n",
       "      <td>AiltonBenedito</td>\n",
       "      <td>NaN</td>\n",
       "      <td>177</td>\n",
       "      <td>@AiltonBenedito</td>\n",
       "      <td>Ailton Benedito</td>\n",
       "      <td>1</td>\n",
       "      <td>0</td>\n",
       "      <td>228867</td>\n",
       "      <td>0.034241</td>\n",
       "      <td>...</td>\n",
       "      <td>0</td>\n",
       "      <td>Não Federais</td>\n",
       "      <td>0</td>\n",
       "      <td>Não PUC</td>\n",
       "      <td>0</td>\n",
       "      <td>Não Estaduais</td>\n",
       "      <td>0</td>\n",
       "      <td>Não Militar</td>\n",
       "      <td>AiltonBenedito</td>\n",
       "      <td>34516</td>\n",
       "    </tr>\n",
       "    <tr>\n",
       "      <th>3</th>\n",
       "      <td>AlbuquerqueDavy</td>\n",
       "      <td>AlbuquerqueDavy</td>\n",
       "      <td>NaN</td>\n",
       "      <td>180</td>\n",
       "      <td>@AlbuquerqueDavy</td>\n",
       "      <td>Davy Albuquerque</td>\n",
       "      <td>1</td>\n",
       "      <td>0</td>\n",
       "      <td>127395</td>\n",
       "      <td>0.019060</td>\n",
       "      <td>...</td>\n",
       "      <td>0</td>\n",
       "      <td>Não Federais</td>\n",
       "      <td>0</td>\n",
       "      <td>Não PUC</td>\n",
       "      <td>0</td>\n",
       "      <td>Não Estaduais</td>\n",
       "      <td>0</td>\n",
       "      <td>Não Militar</td>\n",
       "      <td>AlbuquerqueDavy</td>\n",
       "      <td>20807</td>\n",
       "    </tr>\n",
       "    <tr>\n",
       "      <th>4</th>\n",
       "      <td>alesilva_38</td>\n",
       "      <td>alesilva_38</td>\n",
       "      <td>NaN</td>\n",
       "      <td>176</td>\n",
       "      <td>@alesilva_38</td>\n",
       "      <td>Alê Silva 🇧🇷 nem lugar na fila eu quero🇧🇷</td>\n",
       "      <td>1</td>\n",
       "      <td>1</td>\n",
       "      <td>132390</td>\n",
       "      <td>0.019807</td>\n",
       "      <td>...</td>\n",
       "      <td>0</td>\n",
       "      <td>Não Federais</td>\n",
       "      <td>0</td>\n",
       "      <td>Não PUC</td>\n",
       "      <td>0</td>\n",
       "      <td>Não Estaduais</td>\n",
       "      <td>0</td>\n",
       "      <td>Não Militar</td>\n",
       "      <td>alesilva_38</td>\n",
       "      <td>18820</td>\n",
       "    </tr>\n",
       "  </tbody>\n",
       "</table>\n",
       "<p>5 rows × 63 columns</p>\n",
       "</div>"
      ],
      "text/plain": [
       "                Id            Label  timeset   no      nome_usuario  \\\n",
       "0        _pinheira        _pinheira      NaN   67        @_pinheira   \n",
       "1     AbrahamWeint     AbrahamWeint      NaN  168     @AbrahamWeint   \n",
       "2   AiltonBenedito   AiltonBenedito      NaN  177   @AiltonBenedito   \n",
       "3  AlbuquerqueDavy  AlbuquerqueDavy      NaN  180  @AlbuquerqueDavy   \n",
       "4      alesilva_38      alesilva_38      NaN  176      @alesilva_38   \n",
       "\n",
       "                                        nome  pessoa  genero  \\\n",
       "0                    Rosana Pinheiro-Machado       1       1   \n",
       "1                          Abraham Weintraub       1       0   \n",
       "2                            Ailton Benedito       1       0   \n",
       "3                           Davy Albuquerque       1       0   \n",
       "4  Alê Silva 🇧🇷 nem lugar na fila eu quero🇧🇷       1       1   \n",
       "\n",
       "   20210215_seguidores  tam_rel_seguidores  ...  federal   federal_str puc  \\\n",
       "0               136817            0.020469  ...        1      Federais   0   \n",
       "1              1007333            0.150708  ...        1      Federais   0   \n",
       "2               228867            0.034241  ...        0  Não Federais   0   \n",
       "3               127395            0.019060  ...        0  Não Federais   0   \n",
       "4               132390            0.019807  ...        0  Não Federais   0   \n",
       "\n",
       "   puc_str estadual   estadual_str  militar  militar_str nome_usuario_raw  \\\n",
       "0  Não PUC        0  Não Estaduais        0  Não Militar        _pinheira   \n",
       "1  Não PUC        1      Estaduais        0  Não Militar     AbrahamWeint   \n",
       "2  Não PUC        0  Não Estaduais        0  Não Militar   AiltonBenedito   \n",
       "3  Não PUC        0  Não Estaduais        0  Não Militar  AlbuquerqueDavy   \n",
       "4  Não PUC        0  Não Estaduais        0  Não Militar      alesilva_38   \n",
       "\n",
       "  seguidores_analisados  \n",
       "0                 25118  \n",
       "1                 87587  \n",
       "2                 34516  \n",
       "3                 20807  \n",
       "4                 18820  \n",
       "\n",
       "[5 rows x 63 columns]"
      ]
     },
     "execution_count": 2,
     "metadata": {},
     "output_type": "execute_result"
    }
   ],
   "source": [
    "df = pd.read_csv('pontos_ideais_outras_infos.csv')\n",
    "\n",
    "df.head()"
   ]
  },
  {
   "cell_type": "code",
   "execution_count": 5,
   "metadata": {},
   "outputs": [],
   "source": [
    "df['seguidores_analisados_rel'] = df['seguidores_analisados']/df['seguidores_analisados'].max()"
   ]
  },
  {
   "cell_type": "code",
   "execution_count": 6,
   "metadata": {},
   "outputs": [
    {
     "data": {
      "text/plain": [
       "Index(['Id', 'Label', 'timeset', 'no', 'nome_usuario', 'nome', 'pessoa',\n",
       "       'genero', '20210215_seguidores', 'tam_rel_seguidores', 'ponto_ideal',\n",
       "       'estado', 'afiliacao', 'universidades', 'partido', 'saido', 'suspenso',\n",
       "       'posicao', 'profissoes', 'bio', 'genero_str', 'intersec1',\n",
       "       'intersec1_str', 'intersec2', 'intersec2_str', 'art_prod',\n",
       "       'polit_militan', 'jor_com', 'jus', 'mid', 'part_col', 'polic_militar',\n",
       "       'prof', 'saude', 'ciencia', 'emp', 'rel', 'out', 'art_prod_str',\n",
       "       'intersec3', 'intersec3_str', 'polit_militan_str', 'jor_com_str',\n",
       "       'jus_str', 'mid_str', 'part_col_str', 'polic_militar_str', 'prof_str',\n",
       "       'saude_str', 'ciencia_str', 'emp_str', 'rel_str', 'out_str', 'federal',\n",
       "       'federal_str', 'puc', 'puc_str', 'estadual', 'estadual_str', 'militar',\n",
       "       'militar_str', 'nome_usuario_raw', 'seguidores_analisados',\n",
       "       'seguidores_analisados_rel'],\n",
       "      dtype='object')"
      ]
     },
     "execution_count": 6,
     "metadata": {},
     "output_type": "execute_result"
    }
   ],
   "source": [
    "df.columns"
   ]
  },
  {
   "cell_type": "code",
   "execution_count": 18,
   "metadata": {},
   "outputs": [
    {
     "data": {
      "application/vnd.plotly.v1+json": {
       "config": {
        "plotlyServerURL": "https://plot.ly"
       },
       "data": [
        {
         "customdata": [
          [
           "Rosana Pinheiro-Machado",
           "PSOL",
           "acadêmico, antropólogo, jornalista, professor"
          ],
          [
           "Amanda Audi",
           "",
           "jornalista"
          ],
          [
           "Andreza",
           "",
           "ativista negro, produtor cultural, youtuber, podcaster, jornalista"
          ],
          [
           "Anielle Franco",
           "",
           "professor, jornalista, escritor, ativista negro"
          ],
          [
           "Antonia Pellegrino",
           "PSOL",
           "diretor, produtor, escritor, roteirista"
          ],
          [
           "Áurea Carolina",
           "PSOL",
           "político, ativista negro, acadêmico, cientista social"
          ],
          [
           "Isabela Reis",
           "",
           "jornalista, ativista negro, podcaster, escritor"
          ],
          [
           "Blogueiras Feministas",
           "",
           "mídia, feminista"
          ],
          [
           "Blogueiras Negras",
           "",
           "mídia, negro"
          ],
          [
           "Eliane Brum",
           "",
           "jornalista, escritor, documentarista"
          ],
          [
           "Carina Vitral",
           "PCdoB",
           "político"
          ],
          [
           "Clara Averbuck",
           "PT",
           "jornalista, escritor"
          ],
          [
           "Cris Bartis",
           "",
           "podcaster, jornalista"
          ],
          [
           "cynara menezes",
           "",
           "jornalista, blogueiro, escritor"
          ],
          [
           "Dani Monteiro",
           "PSOL",
           "ativista negro, político"
          ],
          [
           "Benedita da Silva",
           "PT",
           "político, professor, servidor público, assistente social, auxiliar de enfermagem"
          ],
          [
           "Debora Diniz",
           "",
           "antropólogo, acadêmico, pesquisador, professor, escritor, documentarista"
          ],
          [
           "Debora Baldin",
           "",
           "podcaster, youtuber"
          ],
          [
           "Bruna de Lara",
           "",
           "jornalista, escritor"
          ],
          [
           "Elika Takimoto",
           "PT",
           "político, acadêmico, escritor, professor"
          ],
          [
           "Elza Soares",
           "",
           "ativista negro, músico"
          ],
          [
           "ERIKA HILTON",
           "PSOL",
           "ativista negro, político, ativista trans"
          ],
          [
           "Erika Kokay",
           "PT",
           "psicólogo, político, bancário, sindicalista"
          ],
          [
           "Cida Falabella",
           "PSOL",
           "ator, diretor, professor , político"
          ],
          [
           "Fernanda Melchionna",
           "PSOL",
           "bibliotecário, bancário, político"
          ],
          [
           "Flávia Oliveira",
           "",
           "jornalista, podcaster"
          ],
          [
           "Gabi Coelho",
           "",
           "jornalista, universitário, podcaster, produtor"
          ],
          [
           "gabrielle",
           "",
           "podcaster"
          ],
          [
           "Geledés Instituto da Mulher Negra",
           "",
           "mídia, negro"
          ],
          [
           "Sonia Guajajara",
           "PSOL",
           "político, ativista indígena, enfermeiro"
          ],
          [
           "Bia Ferreira",
           "",
           "músico, ativista negro, ativista lésbica"
          ],
          [
           "Instituto Marielle Franco",
           "",
           "organização, negro"
          ],
          [
           "Deputada Isa Penna #VacinaJá",
           "PSOL",
           "político, ativista ecossocialista, advogado"
          ],
          [
           "Jandira Feghali",
           "PCdoB",
           "médico, político, sindicalista"
          ],
          [
           "Suzane Jardim",
           "",
           "historiador, acadêmico, ativista negro"
          ],
          [
           "Margarida Salomão",
           "PT",
           "acadêmico, professor, sindicalista, político"
          ],
          [
           "Jout Jout",
           "",
           "escritor, jornalista, youtuber"
          ],
          [
           "Joanna Maranhão",
           "PSOL",
           "esportista"
          ],
          [
           "Jurema Werneck",
           "",
           "ativista negro, médico, acadêmico"
          ],
          [
           "Ju Wallauer",
           "",
           "podcaster, jornalista"
          ],
          [
           "Laerte Coutinho",
           "",
           "quadrinista, ativista trans"
          ],
          [
           "Laura Carvalho",
           "",
           "economista, acadêmico, escritor, podcaster"
          ],
          [
           "Leci Brandão",
           "PCdoB",
           "político, músico"
          ],
          [
           "Letícia Parks",
           "",
           "professor, político"
          ],
          [
           "Linn da Quebrada",
           "",
           "artista, ativista negro, ativista trans, ator, roteirista, jornalista, músico"
          ],
          [
           "Lola Aronovich",
           "",
           "acadêmico, blogueiro, professor"
          ],
          [
           "louie ponto",
           "",
           "youtuber, ativista lésbica"
          ],
          [
           "Luciana Boiteux",
           "PSOL",
           "advogado, acadêmico, professor, político"
          ],
          [
           "Luciana Genro",
           "PSOL",
           "político, advogado"
          ],
          [
           "Luiza Erundina",
           "PSOL",
           "político, assistente social"
          ],
          [
           "negaluy",
           "",
           "ativista negro"
          ],
          [
           "Erica Malunguinho",
           "PSOL",
           "ativista negro, político, ativista trans, artista, professor"
          ],
          [
           "Manuela Barem",
           "",
           "jornalista"
          ],
          [
           "Manuela",
           "PCdoB",
           "político, escritor, jornalista"
          ],
          [
           "marcia tiburi",
           "PT",
           "filósofo, acadêmico, professor, artista, escritor"
          ],
          [
           "Marília Arraes",
           "PT",
           "político, advogado"
          ],
          [
           "Marília Moscou",
           "PCB",
           "acadêmico, escritor, professor, cientista social"
          ],
          [
           "MC Carol",
           "PCdoB",
           "músico"
          ],
          [
           "Milly Lacombe",
           "",
           "ativista lésbica, jornalista, escritor, roteirista"
          ],
          [
           "Monica Benicio",
           "",
           "arquiteto, urbanista, ativista lésbica, político"
          ],
          [
           "Mônica Bergamo",
           "",
           "jornalista"
          ],
          [
           "Mônica Francisco",
           "PSOL",
           "ativista negro, religioso, pastor evangélico, político, cientista social"
          ],
          [
           "Monica Seixas",
           "PSOL",
           "político, ativista negro, ativista ecossocialista, jornalista, redator"
          ],
          [
           "Preta Ijimú",
           "",
           "acadêmico, cientista político, podcaster, ativista negro, professor"
          ],
          [
           "Não Me Kahlo",
           "",
           "coletivo, mídia, feminista"
          ],
          [
           "Nátaly Neri",
           "",
           "ativista negro, cientista social, ativista vegano, youtuber"
          ],
          [
           "Natália Bonavides",
           "PT",
           "político, advogado"
          ],
          [
           "ONU Mulheres Brasil",
           "",
           "coletivo, mídia, feminista"
          ],
          [
           "Paola Carosella",
           "",
           "cozinheiro, chef, empresário"
          ],
          [
           "☭Lisa Débora Perpétua da Faísca",
           "",
           "ativista lésbica"
          ],
          [
           "Perpétua Almeida",
           "PCdoB",
           "professor, bancário , político"
          ],
          [
           "Petra Costa",
           "",
           "cineasta, diretor"
          ],
          [
           "Renata Souza",
           "PSOL",
           "acadêmico, jornalista, político, ativista negro"
          ],
          [
           "Revista AzMina",
           "",
           "mídia, feminista"
          ],
          [
           "Rita Lisauskas",
           "",
           "jornalista, blogueiro"
          ],
          [
           "Sabrina Fernandes",
           "PSOL",
           "cientista social, acadêmico, escritor, youtuber, ativista ecossocialista, professor, podcaster"
          ],
          [
           "Sâmia Bomfim",
           "PSOL",
           "político, servidor público"
          ],
          [
           "Sueli Carneiro",
           "",
           "acadêmico, ativista negro, filósofo, escritor"
          ],
          [
           "Talíria Petrone",
           "PSOL",
           "político, professor, historiador, ativista negro"
          ],
          [
           "Tati Nefertari",
           "",
           "universitário, ativista negro"
          ],
          [
           "Tatiana Roque",
           "PSOL",
           "acadêmico, professor, matemático, youtuber"
          ],
          [
           "Ana Flor",
           "",
           "ativista trans, pedagogo, acadêmico"
          ],
          [
           "Tese Onze",
           "",
           "mídia, político, ecossocialista"
          ],
          [
           "Sher Machado",
           "",
           "ativista trans, ativista negro, físico, streamer"
          ],
          [
           "Bueno.",
           "",
           "acadêmico, ativista negro"
          ]
         ],
         "hovertemplate": "Classificação=Feminista<br>Ponto Ideal=%{x}<br>Tamanho relativo de Seguidores Analisados=%{y}<br>Nome=%{customdata[0]}<br>Partido=%{customdata[1]}<br>Classificações=%{customdata[2]}<extra></extra>",
         "legendgroup": "Feminista",
         "marker": {
          "color": "#800080",
          "symbol": "circle"
         },
         "mode": "markers",
         "name": "Feminista",
         "orientation": "v",
         "showlegend": true,
         "type": "scatter",
         "x": [
          -1.3834799999999998,
          -1.3184209999999998,
          -2.251423,
          -1.7380330000000002,
          -1.448386,
          -1.5805360000000002,
          -2.045617,
          -1.823219,
          -2.020968,
          -1.401738,
          -1.321101,
          -1.618628,
          -1.670168,
          -1.3220610000000002,
          -1.656366,
          -1.298902,
          -1.521974,
          -2.0058119999999997,
          -1.385043,
          -1.450352,
          -1.761039,
          -2.031606,
          -1.1654,
          -1.59273,
          -1.324394,
          -1.326052,
          -1.8704740000000002,
          -2.184599,
          -1.952359,
          -1.575197,
          -2.254809,
          -1.788807,
          -1.432304,
          -1.201901,
          -2.0657959999999997,
          -1.142013,
          -1.951114,
          -1.466502,
          -1.9856779999999998,
          -1.662236,
          -1.590255,
          -1.328849,
          -1.429151,
          -2.03648,
          -2.265995,
          -1.515064,
          -2.2264909999999998,
          -1.584902,
          -1.2614809999999999,
          -1.320881,
          -2.011198,
          -2.0100279999999997,
          -1.650467,
          -1.343015,
          -1.389608,
          -1.225918,
          -1.8225740000000001,
          -2.021261,
          -1.467044,
          -1.6855259999999999,
          -0.9054459999999999,
          -1.680734,
          -1.518306,
          -2.17928,
          -1.872436,
          -2.436118,
          -1.3322379999999998,
          -1.490895,
          -1.376681,
          -1.278515,
          -1.176082,
          -1.4258629999999999,
          -1.6349790000000002,
          -1.781304,
          -1.288384,
          -1.6520029999999999,
          -1.4454209999999998,
          -2.045003,
          -1.569423,
          -2.256308,
          -1.430445,
          -2.4336759999999997,
          -1.822257,
          -2.4905150000000003,
          -2.089623
         ],
         "xaxis": "x",
         "y": [
          0.12203037399069153,
          0.12781659006772447,
          0.06750099594819126,
          0.09012116559946365,
          0.02789626592302535,
          0.07740703673834255,
          0.034246042927796184,
          0.041096223170127386,
          0.03672862598015877,
          0.15653876424691743,
          0.02843553543146419,
          0.06019413702303798,
          0.04170836693646336,
          0.15410476403315293,
          0.025855786701905418,
          0.07657141191445534,
          0.13290807155280468,
          0.04173265835576241,
          0.07191231769289816,
          0.12558177949221216,
          0.06256012126276514,
          0.019136780123789072,
          0.11236724739353071,
          0.027016916544399857,
          0.08977136916155737,
          0.14395580905001118,
          0.022076041858973737,
          0.03259908469932081,
          0.0467075410282072,
          0.08125965583917137,
          0.04205330509050983,
          0.060330168971112645,
          0.025666313631372853,
          0.21285113246596774,
          0.019355402897480493,
          0.049729393589008616,
          0.15431367023912473,
          0.1142328283956975,
          0.01696026895459448,
          0.04618770465520759,
          0.21208838189997764,
          0.1460983122321871,
          0.02585092841804561,
          0.024461459234140132,
          0.10051303477559587,
          0.12662631052207118,
          0.09441588853153512,
          0.01849548665429424,
          0.1410068307471069,
          0.15352662825383562,
          0.02622501627525093,
          0.03559178755696338,
          0.04531807184430172,
          0.4900308015196712,
          0.09316730957956411,
          0.03116103267681724,
          0.02380073262920606,
          0.08840619139695094,
          0.048014419386495914,
          0.0506038846837743,
          0.3855582653983307,
          0.030203950756434797,
          0.02568088848295228,
          0.04305896984949037,
          0.06543136702391247,
          0.14981004110108145,
          0.047999844534916486,
          0.022396688593721154,
          0.425153278855777,
          0.030757795116453063,
          0.016668771923005917,
          0.1819087225628419,
          0.04666867475732872,
          0.02403393025447691,
          0.07792687311134215,
          0.16502132786614457,
          0.2622695958879485,
          0.03448895712078665,
          0.1942001807281596,
          0.05598200491658327,
          0.03656344432892525,
          0.03101528416102296,
          0.02691975086720367,
          0.022066325291254116,
          0.11351866066830553
         ],
         "yaxis": "y"
        },
        {
         "customdata": [
          [
           "Abraham Weintraub",
           "",
           "político"
          ],
          [
           "Ailton Benedito",
           "",
           "procurador da república"
          ],
          [
           "Davy Albuquerque",
           "Republicanos",
           "jornalista"
          ],
          [
           "Alê Silva 🇧🇷 nem lugar na fila eu quero🇧🇷",
           "PSL",
           "político"
          ],
          [
           "Alexandre Aleluia",
           "Democratas",
           "político"
          ],
          [
           "Alexandre Garcia",
           "",
           "jornalista, youtuber"
          ],
          [
           "Aline Barros",
           "",
           "músico, religioso, escritor, empresário"
          ],
          [
           "Ana Paula Valadão Bessa",
           "",
           "músico, religioso, escritor"
          ],
          [
           "Ana Paula Henkel",
           "",
           "esportista, jornalista"
          ],
          [
           "André Fernandes",
           "Republicanos",
           "político, jornalista, youtuber"
          ],
          [
           "Andre Valadao",
           "",
           "músico, religioso"
          ],
          [
           "Arthur Weintraub",
           "",
           "acadêmico"
          ],
          [
           "Bia Kicis",
           "PSL",
           "procurador da república, político, advogado, youtuber"
          ],
          [
           "Bibo Nunes",
           "PSL",
           "político, empresário, jornalista"
          ],
          [
           "Edir Macedo",
           "",
           "religioso, pastor evangélico"
          ],
          [
           "Eduardo Bolsonaro",
           "PSL",
           "político, policial federal, advogado"
          ],
          [
           "Brasil Paralelo",
           "",
           "mídia, político"
          ],
          [
           "FamíliaDireitaBrasil",
           "",
           "mídia, político"
          ],
          [
           "Bruna Karla",
           "",
           "músico, religioso"
          ],
          [
           "Bruno Engler",
           "PRTB",
           "político"
          ],
          [
           "Junio Amaral",
           "PSL",
           "político, militar"
          ],
          [
           "Capitão Derrite",
           "Progressistas",
           "militar, político"
          ],
          [
           "Carla Zambelli",
           "PSL",
           "político, escritor"
          ],
          [
           "Carlos Viana",
           "PSD",
           "político, jornalista"
          ],
          [
           "Carlos Bolsonaro",
           "Republicanos",
           "político"
          ],
          [
           "Carlos Jordy",
           "PSL",
           "político, turismólogo, servidor público"
          ],
          [
           "Carmelo Neto",
           "Republicanos",
           "político"
          ],
          [
           "Caroline De Toni",
           "PSL",
           "político, advogado"
          ],
          [
           "Gil Diniz",
           "PSL",
           "político, servidor público"
          ],
          [
           "Clau de Luca",
           "PRTB",
           "publicitário, músico"
          ],
          [
           "Conexão Política",
           "",
           "mídia, político"
          ],
          [
           "Crítica Nacional",
           "",
           "mídia, político"
          ],
          [
           "Damares Alves",
           "Progressistas",
           "político, religioso, advogado"
          ],
          [
           "Daniel Silveira",
           "PTB",
           "político, militar"
          ],
          [
           "David M. Quinlan",
           "",
           "músico, religioso"
          ],
          [
           "Helio Lopes",
           "PSL",
           "militar, político"
          ],
          [
           "Professora Dayane Pimentel",
           "PSL",
           "político, professor"
          ],
          [
           "Caneta Desesquerdizadora",
           "",
           "mídia, conservador"
          ],
          [
           "Daniel Freitas",
           "PSL",
           "político, empresário"
          ],
          [
           "Direita Goiás",
           "",
           "coletivo, político"
          ],
          [
           "Direita Minas",
           "",
           "coletivo, político"
          ],
          [
           "Dom",
           "Republicanos",
           "influencer, político"
          ],
          [
           "Douglas Garcia",
           "PTB",
           "político"
          ],
          [
           "Dra. Soraya Manato",
           "PSL",
           "médico, político"
          ],
          [
           "Delegado Éder Mauro",
           "PSD",
           "político, delegado"
          ],
          [
           "Edson Salomão",
           "PRTB",
           "político, youtuber"
          ],
          [
           "Ernesto Araújo",
           "",
           "político, diplomata, embaixador"
          ],
          [
           "Escola sem Partido",
           "",
           "coletivo, político"
          ],
          [
           "MBC – Movimento Brasil Conservador",
           "",
           "coletivo, político"
          ],
          [
           "Fabiana Barroso",
           "Patriota",
           "advogado"
          ],
          [
           "Felipe C. Pedri",
           "",
           "político, publicitário"
          ],
          [
           "Fernanda Barth vereadora",
           "PRTB",
           "cientista político, jornalista, político"
          ],
          [
           "Fernando Holiday",
           "Patriota",
           "político"
          ],
          [
           "Felipe Francischini",
           "PSL",
           "político, advogado"
          ],
          [
           "Filipe G. Martins",
           "",
           "professor, político"
          ],
          [
           "Filipe Barros",
           "PSL",
           "político, advogado"
          ],
          [
           "Flavio Bolsonaro",
           "Republicanos",
           "político, advogado, empresário"
          ],
          [
           "Heitor Freire",
           "PSL",
           "político"
          ],
          [
           "Jair M. Bolsonaro",
           "PSL",
           "político, militar"
          ],
          [
           "Brasil Sem Medo",
           "",
           "mídia, político"
          ],
          [
           "JOSÉ MEDEIROS",
           "Podemos",
           "político, policial rodoviário, professor, matemático"
          ],
          [
           "Kim Kataguiri",
           "Democratas",
           "político"
          ],
          [
           "Leandro Ruschel",
           "",
           "empreendedor, escritor, investidor, youtuber"
          ],
          [
           "Leticia Aguiar",
           "PSL",
           "político"
          ],
          [
           "Italo Lorenzon",
           "",
           "jornalista"
          ],
          [
           "LUIZ CAMARGO vlog",
           "",
           "youtuber"
          ],
          [
           "magno malta",
           "PL",
           "político, religioso, músico"
          ],
          [
           "Vítor Hugo",
           "PSL",
           "político, militar, advogado"
          ],
          [
           "Marcel van Hattem",
           "NOVO",
           "cientista político, jornalista, político"
          ],
          [
           "Marcio Labre Oficial",
           "PSL",
           "político, youtuber, empresário , jornalista"
          ],
          [
           "MARISA LOBO-Supl.Dep.Federal",
           "Avante",
           "político, psicólogo, religioso"
          ],
          [
           "Maurício Costa",
           "",
           "jornalista, podcaster"
          ],
          [
           "Movimento Avança Brasil",
           "",
           "coletivo, político"
          ],
          [
           "MBL - Movimento Brasil Livre",
           "",
           "coletivo, político"
          ],
          [
           "Marcelo Crivella",
           "Republicanos",
           "político, engenheiro, músico, escritor, religioso"
          ],
          [
           "Olavo de Carvalho",
           "",
           "filósofo, escritor, jornalista, professor"
          ],
          [
           "Onyx Lorenzoni",
           "Democratas",
           "político, veterinário, empresário"
          ],
          [
           "Otoni de Paula",
           "PSC",
           "político, religioso"
          ],
          [
           "Padre Paulo Ricardo",
           "",
           "religioso, youtuber, professor, radialista"
          ],
          [
           "Liomar de Oliveira",
           "Republicanos",
           "político, religioso"
          ],
          [
           "Silas Malafaia",
           "",
           "religioso, psicólogo, teólogo"
          ],
          [
           "Paulo A. Briguet",
           "",
           "jornalista, escritor"
          ],
          [
           "paulo eneas",
           "",
           "jornalista"
          ],
          [
           "Paulo Eduardo Martins",
           "PSC",
           "jornalista, político"
          ],
          [
           "Fernanda Brum",
           "",
           "músico, religioso, escritor, ator"
          ],
          [
           "Paula Marisa",
           "PRTB",
           "jornalista, professor"
          ],
          [
           "Partido Social Liberal - PSL",
           "",
           "partido, político"
          ],
          [
           "Rodrigo Constantino",
           "",
           "economista, jornalista"
          ],
          [
           "Fernanda Salles",
           "",
           "jornalista, youtuber"
          ],
          [
           "Rogério Marinho",
           "PSDB",
           "político, economista"
          ],
          [
           "Sarita Coelho",
           "",
           "jornalista, servidor público"
          ],
          [
           "Senso Incomum",
           "",
           "mídia, político"
          ],
          [
           "Sérgio Camargo",
           "",
           "político, jornalista"
          ],
          [
           "Aliança pelo Brasil",
           "",
           "coletivo, político"
          ],
          [
           "Tamires De Paula",
           "PSL",
           "influencer"
          ],
          [
           "TeAtualizei",
           "",
           "youtuber"
          ],
          [
           "Tenente Santini",
           "Progressistas",
           "policial militar, político, empresário"
          ],
          [
           "Portal Terça Livre",
           "",
           "mídia, político"
          ],
          [
           "Chris Tonietto",
           "PSL",
           "político, advogado"
          ]
         ],
         "hovertemplate": "Classificação=Antifeminista<br>Ponto Ideal=%{x}<br>Tamanho relativo de Seguidores Analisados=%{y}<br>Nome=%{customdata[0]}<br>Partido=%{customdata[1]}<br>Classificações=%{customdata[2]}<extra></extra>",
         "legendgroup": "Antifeminista",
         "marker": {
          "color": "#F0A202",
          "symbol": "circle"
         },
         "mode": "markers",
         "name": "Antifeminista",
         "orientation": "v",
         "showlegend": true,
         "type": "scatter",
         "x": [
          1.5077450000000001,
          1.547544,
          1.555408,
          1.538618,
          1.5921040000000002,
          1.115909,
          0.062928,
          0.05396,
          1.123759,
          1.404835,
          0.22532,
          1.569364,
          1.5002959999999999,
          1.442361,
          0.131298,
          0.966274,
          1.306806,
          1.403122,
          0.021424000000000002,
          1.549531,
          1.415577,
          1.362441,
          1.184482,
          0.513835,
          1.058905,
          1.611404,
          1.45997,
          1.564577,
          1.636417,
          1.409497,
          1.252818,
          1.517881,
          1.149155,
          1.514535,
          0.114927,
          1.478428,
          0.604191,
          0.6285350000000001,
          1.3864889999999999,
          1.18195,
          1.3503610000000001,
          1.5517100000000001,
          1.83152,
          1.214076,
          1.439951,
          1.814844,
          1.096643,
          1.135365,
          1.511924,
          1.5347680000000001,
          1.764806,
          1.565589,
          0.303846,
          0.9688700000000001,
          1.4221409999999999,
          1.659356,
          0.770213,
          0.979309,
          1.017907,
          1.675497,
          1.070514,
          0.20044,
          1.235371,
          1.394875,
          1.595204,
          1.786427,
          0.834892,
          1.317431,
          0.878639,
          1.497774,
          0.7435970000000001,
          1.21685,
          1.313536,
          0.201953,
          0.371843,
          0.861183,
          0.916351,
          1.573821,
          1.035599,
          1.281867,
          0.511582,
          1.595725,
          1.8136860000000001,
          1.153463,
          0.067284,
          1.7587720000000002,
          0.5743699999999999,
          1.125796,
          1.7270279999999998,
          1.054836,
          1.533498,
          1.137893,
          1.684748,
          1.443481,
          1.3362100000000001,
          1.808327,
          1.450986,
          1.531937,
          1.453762
         ],
         "xaxis": "x",
         "y": [
          0.4255225084291225,
          0.1676885257051799,
          0.10108631227105337,
          0.09143290224161217,
          0.028474401702342663,
          0.6397145272403976,
          0.22040090558411146,
          0.15603836100935706,
          0.3817153628652215,
          0.10681908722562843,
          0.15400759835595673,
          0.2884606041761808,
          0.32190017198324866,
          0.09804502657481272,
          0.04714964485944985,
          0.6060709115112177,
          0.15313310726119106,
          0.11556399817328526,
          0.12476072951990438,
          0.03533915679625329,
          0.06602893593866903,
          0.08325641050555302,
          0.40376225502103635,
          0.02282421757338438,
          0.5799867854679013,
          0.22025029878445737,
          0.09941506262327895,
          0.20786167494194352,
          0.14761895508030742,
          0.039050885665147646,
          0.29618527551327767,
          0.089577037807165,
          0.41589338981898033,
          0.09225395221391995,
          0.09479969295646005,
          0.19406900706394473,
          0.03450839025622589,
          0.17010309278350516,
          0.025117327555214397,
          0.016003187034212035,
          0.03229787110001263,
          0.043316458894060265,
          0.16764965943430143,
          0.02377644120990701,
          0.06670423739518253,
          0.049539920518476055,
          0.3413381657063459,
          0.10672677983229203,
          0.13506514958656005,
          0.11002555457310259,
          0.058046775557002245,
          0.01725176598618304,
          0.14545701876269226,
          0.07657141191445534,
          0.23924618867631198,
          0.20091918730627592,
          0.4880631965564484,
          0.02052624930769455,
          1,
          0.18167552493757105,
          0.0817940670637504,
          0.24526074409475596,
          0.22646404384115354,
          0.02676914406754958,
          0.1496740091530068,
          0.07161110409358998,
          0.28190192096543815,
          0.14442220430055286,
          0.20949405831883947,
          0.0669520098720328,
          0.05239173314418415,
          0.07688720036534295,
          0.03746708512684979,
          0.22672639116958326,
          0.05043384474868098,
          0.36502715780677636,
          0.3221770941632578,
          0.08234305313990886,
          0.07372445757260705,
          0.04043549656519331,
          0.23752149790607965,
          0.04355451480319092,
          0.04303953671405113,
          0.16691120028761042,
          0.18511033162645626,
          0.1660755754637232,
          0.1031753743307714,
          0.2788557769853377,
          0.13437527327846713,
          0.08551065421650456,
          0.024281702731327185,
          0.14763352993188686,
          0.15513472021143251,
          0.20403820554427354,
          0.04118853056346376,
          0.20278476830844272,
          0.016216951524043646,
          0.23860975349067695,
          0.04485653487761983
         ],
         "yaxis": "y"
        }
       ],
       "layout": {
        "legend": {
         "title": {
          "text": "Classificação"
         },
         "tracegroupgap": 0
        },
        "margin": {
         "t": 60
        },
        "template": {
         "data": {
          "bar": [
           {
            "error_x": {
             "color": "#2a3f5f"
            },
            "error_y": {
             "color": "#2a3f5f"
            },
            "marker": {
             "line": {
              "color": "#E5ECF6",
              "width": 0.5
             }
            },
            "type": "bar"
           }
          ],
          "barpolar": [
           {
            "marker": {
             "line": {
              "color": "#E5ECF6",
              "width": 0.5
             }
            },
            "type": "barpolar"
           }
          ],
          "carpet": [
           {
            "aaxis": {
             "endlinecolor": "#2a3f5f",
             "gridcolor": "white",
             "linecolor": "white",
             "minorgridcolor": "white",
             "startlinecolor": "#2a3f5f"
            },
            "baxis": {
             "endlinecolor": "#2a3f5f",
             "gridcolor": "white",
             "linecolor": "white",
             "minorgridcolor": "white",
             "startlinecolor": "#2a3f5f"
            },
            "type": "carpet"
           }
          ],
          "choropleth": [
           {
            "colorbar": {
             "outlinewidth": 0,
             "ticks": ""
            },
            "type": "choropleth"
           }
          ],
          "contour": [
           {
            "colorbar": {
             "outlinewidth": 0,
             "ticks": ""
            },
            "colorscale": [
             [
              0,
              "#0d0887"
             ],
             [
              0.1111111111111111,
              "#46039f"
             ],
             [
              0.2222222222222222,
              "#7201a8"
             ],
             [
              0.3333333333333333,
              "#9c179e"
             ],
             [
              0.4444444444444444,
              "#bd3786"
             ],
             [
              0.5555555555555556,
              "#d8576b"
             ],
             [
              0.6666666666666666,
              "#ed7953"
             ],
             [
              0.7777777777777778,
              "#fb9f3a"
             ],
             [
              0.8888888888888888,
              "#fdca26"
             ],
             [
              1,
              "#f0f921"
             ]
            ],
            "type": "contour"
           }
          ],
          "contourcarpet": [
           {
            "colorbar": {
             "outlinewidth": 0,
             "ticks": ""
            },
            "type": "contourcarpet"
           }
          ],
          "heatmap": [
           {
            "colorbar": {
             "outlinewidth": 0,
             "ticks": ""
            },
            "colorscale": [
             [
              0,
              "#0d0887"
             ],
             [
              0.1111111111111111,
              "#46039f"
             ],
             [
              0.2222222222222222,
              "#7201a8"
             ],
             [
              0.3333333333333333,
              "#9c179e"
             ],
             [
              0.4444444444444444,
              "#bd3786"
             ],
             [
              0.5555555555555556,
              "#d8576b"
             ],
             [
              0.6666666666666666,
              "#ed7953"
             ],
             [
              0.7777777777777778,
              "#fb9f3a"
             ],
             [
              0.8888888888888888,
              "#fdca26"
             ],
             [
              1,
              "#f0f921"
             ]
            ],
            "type": "heatmap"
           }
          ],
          "heatmapgl": [
           {
            "colorbar": {
             "outlinewidth": 0,
             "ticks": ""
            },
            "colorscale": [
             [
              0,
              "#0d0887"
             ],
             [
              0.1111111111111111,
              "#46039f"
             ],
             [
              0.2222222222222222,
              "#7201a8"
             ],
             [
              0.3333333333333333,
              "#9c179e"
             ],
             [
              0.4444444444444444,
              "#bd3786"
             ],
             [
              0.5555555555555556,
              "#d8576b"
             ],
             [
              0.6666666666666666,
              "#ed7953"
             ],
             [
              0.7777777777777778,
              "#fb9f3a"
             ],
             [
              0.8888888888888888,
              "#fdca26"
             ],
             [
              1,
              "#f0f921"
             ]
            ],
            "type": "heatmapgl"
           }
          ],
          "histogram": [
           {
            "marker": {
             "colorbar": {
              "outlinewidth": 0,
              "ticks": ""
             }
            },
            "type": "histogram"
           }
          ],
          "histogram2d": [
           {
            "colorbar": {
             "outlinewidth": 0,
             "ticks": ""
            },
            "colorscale": [
             [
              0,
              "#0d0887"
             ],
             [
              0.1111111111111111,
              "#46039f"
             ],
             [
              0.2222222222222222,
              "#7201a8"
             ],
             [
              0.3333333333333333,
              "#9c179e"
             ],
             [
              0.4444444444444444,
              "#bd3786"
             ],
             [
              0.5555555555555556,
              "#d8576b"
             ],
             [
              0.6666666666666666,
              "#ed7953"
             ],
             [
              0.7777777777777778,
              "#fb9f3a"
             ],
             [
              0.8888888888888888,
              "#fdca26"
             ],
             [
              1,
              "#f0f921"
             ]
            ],
            "type": "histogram2d"
           }
          ],
          "histogram2dcontour": [
           {
            "colorbar": {
             "outlinewidth": 0,
             "ticks": ""
            },
            "colorscale": [
             [
              0,
              "#0d0887"
             ],
             [
              0.1111111111111111,
              "#46039f"
             ],
             [
              0.2222222222222222,
              "#7201a8"
             ],
             [
              0.3333333333333333,
              "#9c179e"
             ],
             [
              0.4444444444444444,
              "#bd3786"
             ],
             [
              0.5555555555555556,
              "#d8576b"
             ],
             [
              0.6666666666666666,
              "#ed7953"
             ],
             [
              0.7777777777777778,
              "#fb9f3a"
             ],
             [
              0.8888888888888888,
              "#fdca26"
             ],
             [
              1,
              "#f0f921"
             ]
            ],
            "type": "histogram2dcontour"
           }
          ],
          "mesh3d": [
           {
            "colorbar": {
             "outlinewidth": 0,
             "ticks": ""
            },
            "type": "mesh3d"
           }
          ],
          "parcoords": [
           {
            "line": {
             "colorbar": {
              "outlinewidth": 0,
              "ticks": ""
             }
            },
            "type": "parcoords"
           }
          ],
          "pie": [
           {
            "automargin": true,
            "type": "pie"
           }
          ],
          "scatter": [
           {
            "marker": {
             "colorbar": {
              "outlinewidth": 0,
              "ticks": ""
             }
            },
            "type": "scatter"
           }
          ],
          "scatter3d": [
           {
            "line": {
             "colorbar": {
              "outlinewidth": 0,
              "ticks": ""
             }
            },
            "marker": {
             "colorbar": {
              "outlinewidth": 0,
              "ticks": ""
             }
            },
            "type": "scatter3d"
           }
          ],
          "scattercarpet": [
           {
            "marker": {
             "colorbar": {
              "outlinewidth": 0,
              "ticks": ""
             }
            },
            "type": "scattercarpet"
           }
          ],
          "scattergeo": [
           {
            "marker": {
             "colorbar": {
              "outlinewidth": 0,
              "ticks": ""
             }
            },
            "type": "scattergeo"
           }
          ],
          "scattergl": [
           {
            "marker": {
             "colorbar": {
              "outlinewidth": 0,
              "ticks": ""
             }
            },
            "type": "scattergl"
           }
          ],
          "scattermapbox": [
           {
            "marker": {
             "colorbar": {
              "outlinewidth": 0,
              "ticks": ""
             }
            },
            "type": "scattermapbox"
           }
          ],
          "scatterpolar": [
           {
            "marker": {
             "colorbar": {
              "outlinewidth": 0,
              "ticks": ""
             }
            },
            "type": "scatterpolar"
           }
          ],
          "scatterpolargl": [
           {
            "marker": {
             "colorbar": {
              "outlinewidth": 0,
              "ticks": ""
             }
            },
            "type": "scatterpolargl"
           }
          ],
          "scatterternary": [
           {
            "marker": {
             "colorbar": {
              "outlinewidth": 0,
              "ticks": ""
             }
            },
            "type": "scatterternary"
           }
          ],
          "surface": [
           {
            "colorbar": {
             "outlinewidth": 0,
             "ticks": ""
            },
            "colorscale": [
             [
              0,
              "#0d0887"
             ],
             [
              0.1111111111111111,
              "#46039f"
             ],
             [
              0.2222222222222222,
              "#7201a8"
             ],
             [
              0.3333333333333333,
              "#9c179e"
             ],
             [
              0.4444444444444444,
              "#bd3786"
             ],
             [
              0.5555555555555556,
              "#d8576b"
             ],
             [
              0.6666666666666666,
              "#ed7953"
             ],
             [
              0.7777777777777778,
              "#fb9f3a"
             ],
             [
              0.8888888888888888,
              "#fdca26"
             ],
             [
              1,
              "#f0f921"
             ]
            ],
            "type": "surface"
           }
          ],
          "table": [
           {
            "cells": {
             "fill": {
              "color": "#EBF0F8"
             },
             "line": {
              "color": "white"
             }
            },
            "header": {
             "fill": {
              "color": "#C8D4E3"
             },
             "line": {
              "color": "white"
             }
            },
            "type": "table"
           }
          ]
         },
         "layout": {
          "annotationdefaults": {
           "arrowcolor": "#2a3f5f",
           "arrowhead": 0,
           "arrowwidth": 1
          },
          "coloraxis": {
           "colorbar": {
            "outlinewidth": 0,
            "ticks": ""
           }
          },
          "colorscale": {
           "diverging": [
            [
             0,
             "#8e0152"
            ],
            [
             0.1,
             "#c51b7d"
            ],
            [
             0.2,
             "#de77ae"
            ],
            [
             0.3,
             "#f1b6da"
            ],
            [
             0.4,
             "#fde0ef"
            ],
            [
             0.5,
             "#f7f7f7"
            ],
            [
             0.6,
             "#e6f5d0"
            ],
            [
             0.7,
             "#b8e186"
            ],
            [
             0.8,
             "#7fbc41"
            ],
            [
             0.9,
             "#4d9221"
            ],
            [
             1,
             "#276419"
            ]
           ],
           "sequential": [
            [
             0,
             "#0d0887"
            ],
            [
             0.1111111111111111,
             "#46039f"
            ],
            [
             0.2222222222222222,
             "#7201a8"
            ],
            [
             0.3333333333333333,
             "#9c179e"
            ],
            [
             0.4444444444444444,
             "#bd3786"
            ],
            [
             0.5555555555555556,
             "#d8576b"
            ],
            [
             0.6666666666666666,
             "#ed7953"
            ],
            [
             0.7777777777777778,
             "#fb9f3a"
            ],
            [
             0.8888888888888888,
             "#fdca26"
            ],
            [
             1,
             "#f0f921"
            ]
           ],
           "sequentialminus": [
            [
             0,
             "#0d0887"
            ],
            [
             0.1111111111111111,
             "#46039f"
            ],
            [
             0.2222222222222222,
             "#7201a8"
            ],
            [
             0.3333333333333333,
             "#9c179e"
            ],
            [
             0.4444444444444444,
             "#bd3786"
            ],
            [
             0.5555555555555556,
             "#d8576b"
            ],
            [
             0.6666666666666666,
             "#ed7953"
            ],
            [
             0.7777777777777778,
             "#fb9f3a"
            ],
            [
             0.8888888888888888,
             "#fdca26"
            ],
            [
             1,
             "#f0f921"
            ]
           ]
          },
          "colorway": [
           "#636efa",
           "#EF553B",
           "#00cc96",
           "#ab63fa",
           "#FFA15A",
           "#19d3f3",
           "#FF6692",
           "#B6E880",
           "#FF97FF",
           "#FECB52"
          ],
          "font": {
           "color": "#2a3f5f"
          },
          "geo": {
           "bgcolor": "white",
           "lakecolor": "white",
           "landcolor": "#E5ECF6",
           "showlakes": true,
           "showland": true,
           "subunitcolor": "white"
          },
          "hoverlabel": {
           "align": "left"
          },
          "hovermode": "closest",
          "mapbox": {
           "style": "light"
          },
          "paper_bgcolor": "white",
          "plot_bgcolor": "#E5ECF6",
          "polar": {
           "angularaxis": {
            "gridcolor": "white",
            "linecolor": "white",
            "ticks": ""
           },
           "bgcolor": "#E5ECF6",
           "radialaxis": {
            "gridcolor": "white",
            "linecolor": "white",
            "ticks": ""
           }
          },
          "scene": {
           "xaxis": {
            "backgroundcolor": "#E5ECF6",
            "gridcolor": "white",
            "gridwidth": 2,
            "linecolor": "white",
            "showbackground": true,
            "ticks": "",
            "zerolinecolor": "white"
           },
           "yaxis": {
            "backgroundcolor": "#E5ECF6",
            "gridcolor": "white",
            "gridwidth": 2,
            "linecolor": "white",
            "showbackground": true,
            "ticks": "",
            "zerolinecolor": "white"
           },
           "zaxis": {
            "backgroundcolor": "#E5ECF6",
            "gridcolor": "white",
            "gridwidth": 2,
            "linecolor": "white",
            "showbackground": true,
            "ticks": "",
            "zerolinecolor": "white"
           }
          },
          "shapedefaults": {
           "line": {
            "color": "#2a3f5f"
           }
          },
          "ternary": {
           "aaxis": {
            "gridcolor": "white",
            "linecolor": "white",
            "ticks": ""
           },
           "baxis": {
            "gridcolor": "white",
            "linecolor": "white",
            "ticks": ""
           },
           "bgcolor": "#E5ECF6",
           "caxis": {
            "gridcolor": "white",
            "linecolor": "white",
            "ticks": ""
           }
          },
          "title": {
           "x": 0.05
          },
          "xaxis": {
           "automargin": true,
           "gridcolor": "white",
           "linecolor": "white",
           "ticks": "",
           "title": {
            "standoff": 15
           },
           "zerolinecolor": "white",
           "zerolinewidth": 2
          },
          "yaxis": {
           "automargin": true,
           "gridcolor": "white",
           "linecolor": "white",
           "ticks": "",
           "title": {
            "standoff": 15
           },
           "zerolinecolor": "white",
           "zerolinewidth": 2
          }
         }
        },
        "xaxis": {
         "anchor": "y",
         "domain": [
          0,
          1
         ],
         "title": {
          "text": "Ponto Ideal"
         }
        },
        "yaxis": {
         "anchor": "x",
         "domain": [
          0,
          1
         ],
         "title": {
          "text": "Tamanho relativo de Seguidores Analisados"
         }
        }
       }
      },
      "text/html": [
       "<div>                            <div id=\"96c50be9-c781-4a1b-803a-b6450a8d346c\" class=\"plotly-graph-div\" style=\"height:525px; width:100%;\"></div>            <script type=\"text/javascript\">                require([\"plotly\"], function(Plotly) {                    window.PLOTLYENV=window.PLOTLYENV || {};                                    if (document.getElementById(\"96c50be9-c781-4a1b-803a-b6450a8d346c\")) {                    Plotly.newPlot(                        \"96c50be9-c781-4a1b-803a-b6450a8d346c\",                        [{\"customdata\": [[\"Rosana Pinheiro-Machado\", \"PSOL\", \"acad\\u00eamico, antrop\\u00f3logo, jornalista, professor\"], [\"Amanda Audi\", \"\", \"jornalista\"], [\"Andreza\", \"\", \"ativista negro, produtor cultural, youtuber, podcaster, jornalista\"], [\"Anielle Franco\", \"\", \"professor, jornalista, escritor, ativista negro\"], [\"Antonia Pellegrino\", \"PSOL\", \"diretor, produtor, escritor, roteirista\"], [\"\\u00c1urea Carolina\", \"PSOL\", \"pol\\u00edtico, ativista negro, acad\\u00eamico, cientista social\"], [\"Isabela Reis\", \"\", \"jornalista, ativista negro, podcaster, escritor\"], [\"Blogueiras Feministas\", \"\", \"m\\u00eddia, feminista\"], [\"Blogueiras Negras\", \"\", \"m\\u00eddia, negro\"], [\"Eliane Brum\", \"\", \"jornalista, escritor, documentarista\"], [\"Carina Vitral\", \"PCdoB\", \"pol\\u00edtico\"], [\"Clara Averbuck\", \"PT\", \"jornalista, escritor\"], [\"Cris Bartis\", \"\", \"podcaster, jornalista\"], [\"cynara menezes\", \"\", \"jornalista, blogueiro, escritor\"], [\"Dani Monteiro\", \"PSOL\", \"ativista negro, pol\\u00edtico\"], [\"Benedita da Silva\", \"PT\", \"pol\\u00edtico, professor, servidor p\\u00fablico, assistente social, auxiliar de enfermagem\"], [\"Debora Diniz\", \"\", \"antrop\\u00f3logo, acad\\u00eamico, pesquisador, professor, escritor, documentarista\"], [\"Debora Baldin\", \"\", \"podcaster, youtuber\"], [\"Bruna de Lara\", \"\", \"jornalista, escritor\"], [\"Elika Takimoto\", \"PT\", \"pol\\u00edtico, acad\\u00eamico, escritor, professor\"], [\"Elza Soares\", \"\", \"ativista negro, m\\u00fasico\"], [\"ERIKA HILTON\", \"PSOL\", \"ativista negro, pol\\u00edtico, ativista trans\"], [\"Erika Kokay\", \"PT\", \"psic\\u00f3logo, pol\\u00edtico, banc\\u00e1rio, sindicalista\"], [\"Cida Falabella\", \"PSOL\", \"ator, diretor, professor , pol\\u00edtico\"], [\"Fernanda Melchionna\", \"PSOL\", \"bibliotec\\u00e1rio, banc\\u00e1rio, pol\\u00edtico\"], [\"Fl\\u00e1via Oliveira\", \"\", \"jornalista, podcaster\"], [\"Gabi Coelho\", \"\", \"jornalista, universit\\u00e1rio, podcaster, produtor\"], [\"gabrielle\", \"\", \"podcaster\"], [\"Geled\\u00e9s Instituto da Mulher Negra\", \"\", \"m\\u00eddia, negro\"], [\"Sonia Guajajara\", \"PSOL\", \"pol\\u00edtico, ativista ind\\u00edgena, enfermeiro\"], [\"Bia Ferreira\", \"\", \"m\\u00fasico, ativista negro, ativista l\\u00e9sbica\"], [\"Instituto Marielle Franco\", \"\", \"organiza\\u00e7\\u00e3o, negro\"], [\"Deputada Isa Penna #VacinaJ\\u00e1\", \"PSOL\", \"pol\\u00edtico, ativista ecossocialista, advogado\"], [\"Jandira Feghali\", \"PCdoB\", \"m\\u00e9dico, pol\\u00edtico, sindicalista\"], [\"Suzane Jardim\", \"\", \"historiador, acad\\u00eamico, ativista negro\"], [\"Margarida Salom\\u00e3o\", \"PT\", \"acad\\u00eamico, professor, sindicalista, pol\\u00edtico\"], [\"Jout Jout\", \"\", \"escritor, jornalista, youtuber\"], [\"Joanna Maranh\\u00e3o\", \"PSOL\", \"esportista\"], [\"Jurema Werneck\", \"\", \"ativista negro, m\\u00e9dico, acad\\u00eamico\"], [\"Ju Wallauer\", \"\", \"podcaster, jornalista\"], [\"Laerte Coutinho\", \"\", \"quadrinista, ativista trans\"], [\"Laura Carvalho\", \"\", \"economista, acad\\u00eamico, escritor, podcaster\"], [\"Leci Brand\\u00e3o\", \"PCdoB\", \"pol\\u00edtico, m\\u00fasico\"], [\"Let\\u00edcia Parks\", \"\", \"professor, pol\\u00edtico\"], [\"Linn da Quebrada\", \"\", \"artista, ativista negro, ativista trans, ator, roteirista, jornalista, m\\u00fasico\"], [\"Lola Aronovich\", \"\", \"acad\\u00eamico, blogueiro, professor\"], [\"louie ponto\", \"\", \"youtuber, ativista l\\u00e9sbica\"], [\"Luciana Boiteux\", \"PSOL\", \"advogado, acad\\u00eamico, professor, pol\\u00edtico\"], [\"Luciana Genro\", \"PSOL\", \"pol\\u00edtico, advogado\"], [\"Luiza Erundina\", \"PSOL\", \"pol\\u00edtico, assistente social\"], [\"negaluy\", \"\", \"ativista negro\"], [\"Erica Malunguinho\", \"PSOL\", \"ativista negro, pol\\u00edtico, ativista trans, artista, professor\"], [\"Manuela Barem\", \"\", \"jornalista\"], [\"Manuela\", \"PCdoB\", \"pol\\u00edtico, escritor, jornalista\"], [\"marcia tiburi\", \"PT\", \"fil\\u00f3sofo, acad\\u00eamico, professor, artista, escritor\"], [\"Mar\\u00edlia Arraes\", \"PT\", \"pol\\u00edtico, advogado\"], [\"Mar\\u00edlia Moscou\", \"PCB\", \"acad\\u00eamico, escritor, professor, cientista social\"], [\"MC Carol\", \"PCdoB\", \"m\\u00fasico\"], [\"Milly Lacombe\", \"\", \"ativista l\\u00e9sbica, jornalista, escritor, roteirista\"], [\"Monica Benicio\", \"\", \"arquiteto, urbanista, ativista l\\u00e9sbica, pol\\u00edtico\"], [\"M\\u00f4nica Bergamo\", \"\", \"jornalista\"], [\"M\\u00f4nica Francisco\", \"PSOL\", \"ativista negro, religioso, pastor evang\\u00e9lico, pol\\u00edtico, cientista social\"], [\"Monica Seixas\", \"PSOL\", \"pol\\u00edtico, ativista negro, ativista ecossocialista, jornalista, redator\"], [\"Preta Ijim\\u00fa\", \"\", \"acad\\u00eamico, cientista pol\\u00edtico, podcaster, ativista negro, professor\"], [\"N\\u00e3o Me Kahlo\", \"\", \"coletivo, m\\u00eddia, feminista\"], [\"N\\u00e1taly Neri\", \"\", \"ativista negro, cientista social, ativista vegano, youtuber\"], [\"Nat\\u00e1lia Bonavides\", \"PT\", \"pol\\u00edtico, advogado\"], [\"ONU Mulheres Brasil\", \"\", \"coletivo, m\\u00eddia, feminista\"], [\"Paola Carosella\", \"\", \"cozinheiro, chef, empres\\u00e1rio\"], [\"\\u262dLisa D\\u00e9bora Perp\\u00e9tua da Fa\\u00edsca\", \"\", \"ativista l\\u00e9sbica\"], [\"Perp\\u00e9tua Almeida\", \"PCdoB\", \"professor, banc\\u00e1rio , pol\\u00edtico\"], [\"Petra Costa\", \"\", \"cineasta, diretor\"], [\"Renata Souza\", \"PSOL\", \"acad\\u00eamico, jornalista, pol\\u00edtico, ativista negro\"], [\"Revista AzMina\", \"\", \"m\\u00eddia, feminista\"], [\"Rita Lisauskas\", \"\", \"jornalista, blogueiro\"], [\"Sabrina Fernandes\", \"PSOL\", \"cientista social, acad\\u00eamico, escritor, youtuber, ativista ecossocialista, professor, podcaster\"], [\"S\\u00e2mia Bomfim\", \"PSOL\", \"pol\\u00edtico, servidor p\\u00fablico\"], [\"Sueli Carneiro\", \"\", \"acad\\u00eamico, ativista negro, fil\\u00f3sofo, escritor\"], [\"Tal\\u00edria Petrone\", \"PSOL\", \"pol\\u00edtico, professor, historiador, ativista negro\"], [\"Tati Nefertari\", \"\", \"universit\\u00e1rio, ativista negro\"], [\"Tatiana Roque\", \"PSOL\", \"acad\\u00eamico, professor, matem\\u00e1tico, youtuber\"], [\"Ana Flor\", \"\", \"ativista trans, pedagogo, acad\\u00eamico\"], [\"Tese Onze\", \"\", \"m\\u00eddia, pol\\u00edtico, ecossocialista\"], [\"Sher Machado\", \"\", \"ativista trans, ativista negro, f\\u00edsico, streamer\"], [\"Bueno.\", \"\", \"acad\\u00eamico, ativista negro\"]], \"hovertemplate\": \"Classifica\\u00e7\\u00e3o=Feminista<br>Ponto Ideal=%{x}<br>Tamanho relativo de Seguidores Analisados=%{y}<br>Nome=%{customdata[0]}<br>Partido=%{customdata[1]}<br>Classifica\\u00e7\\u00f5es=%{customdata[2]}<extra></extra>\", \"legendgroup\": \"Feminista\", \"marker\": {\"color\": \"#800080\", \"symbol\": \"circle\"}, \"mode\": \"markers\", \"name\": \"Feminista\", \"orientation\": \"v\", \"showlegend\": true, \"type\": \"scatter\", \"x\": [-1.3834799999999998, -1.3184209999999998, -2.251423, -1.7380330000000002, -1.448386, -1.5805360000000002, -2.045617, -1.823219, -2.020968, -1.401738, -1.321101, -1.618628, -1.670168, -1.3220610000000002, -1.656366, -1.298902, -1.521974, -2.0058119999999997, -1.385043, -1.450352, -1.761039, -2.031606, -1.1654, -1.59273, -1.324394, -1.326052, -1.8704740000000002, -2.184599, -1.952359, -1.575197, -2.254809, -1.788807, -1.432304, -1.201901, -2.0657959999999997, -1.142013, -1.951114, -1.466502, -1.9856779999999998, -1.662236, -1.590255, -1.328849, -1.429151, -2.03648, -2.265995, -1.515064, -2.2264909999999998, -1.584902, -1.2614809999999999, -1.320881, -2.011198, -2.0100279999999997, -1.650467, -1.343015, -1.389608, -1.225918, -1.8225740000000001, -2.021261, -1.467044, -1.6855259999999999, -0.9054459999999999, -1.680734, -1.518306, -2.17928, -1.872436, -2.436118, -1.3322379999999998, -1.490895, -1.376681, -1.278515, -1.176082, -1.4258629999999999, -1.6349790000000002, -1.781304, -1.288384, -1.6520029999999999, -1.4454209999999998, -2.045003, -1.569423, -2.256308, -1.430445, -2.4336759999999997, -1.822257, -2.4905150000000003, -2.089623], \"xaxis\": \"x\", \"y\": [0.12203037399069153, 0.12781659006772447, 0.06750099594819126, 0.09012116559946365, 0.02789626592302535, 0.07740703673834255, 0.034246042927796184, 0.041096223170127386, 0.03672862598015877, 0.15653876424691743, 0.02843553543146419, 0.06019413702303798, 0.04170836693646336, 0.15410476403315293, 0.025855786701905418, 0.07657141191445534, 0.13290807155280468, 0.04173265835576241, 0.07191231769289816, 0.12558177949221216, 0.06256012126276514, 0.019136780123789072, 0.11236724739353071, 0.027016916544399857, 0.08977136916155737, 0.14395580905001118, 0.022076041858973737, 0.03259908469932081, 0.0467075410282072, 0.08125965583917137, 0.04205330509050983, 0.060330168971112645, 0.025666313631372853, 0.21285113246596774, 0.019355402897480493, 0.049729393589008616, 0.15431367023912473, 0.1142328283956975, 0.01696026895459448, 0.04618770465520759, 0.21208838189997764, 0.1460983122321871, 0.02585092841804561, 0.024461459234140132, 0.10051303477559587, 0.12662631052207118, 0.09441588853153512, 0.01849548665429424, 0.1410068307471069, 0.15352662825383562, 0.02622501627525093, 0.03559178755696338, 0.04531807184430172, 0.4900308015196712, 0.09316730957956411, 0.03116103267681724, 0.02380073262920606, 0.08840619139695094, 0.048014419386495914, 0.0506038846837743, 0.3855582653983307, 0.030203950756434797, 0.02568088848295228, 0.04305896984949037, 0.06543136702391247, 0.14981004110108145, 0.047999844534916486, 0.022396688593721154, 0.425153278855777, 0.030757795116453063, 0.016668771923005917, 0.1819087225628419, 0.04666867475732872, 0.02403393025447691, 0.07792687311134215, 0.16502132786614457, 0.2622695958879485, 0.03448895712078665, 0.1942001807281596, 0.05598200491658327, 0.03656344432892525, 0.03101528416102296, 0.02691975086720367, 0.022066325291254116, 0.11351866066830553], \"yaxis\": \"y\"}, {\"customdata\": [[\"Abraham Weintraub\", \"\", \"pol\\u00edtico\"], [\"Ailton Benedito\", \"\", \"procurador da rep\\u00fablica\"], [\"Davy Albuquerque\", \"Republicanos\", \"jornalista\"], [\"Al\\u00ea Silva \\ud83c\\udde7\\ud83c\\uddf7 nem lugar na fila eu quero\\ud83c\\udde7\\ud83c\\uddf7\", \"PSL\", \"pol\\u00edtico\"], [\"Alexandre Aleluia\", \"Democratas\", \"pol\\u00edtico\"], [\"Alexandre Garcia\", \"\", \"jornalista, youtuber\"], [\"Aline Barros\", \"\", \"m\\u00fasico, religioso, escritor, empres\\u00e1rio\"], [\"Ana Paula Valad\\u00e3o Bessa\", \"\", \"m\\u00fasico, religioso, escritor\"], [\"Ana Paula Henkel\", \"\", \"esportista, jornalista\"], [\"Andr\\u00e9 Fernandes\", \"Republicanos\", \"pol\\u00edtico, jornalista, youtuber\"], [\"Andre Valadao\", \"\", \"m\\u00fasico, religioso\"], [\"Arthur Weintraub\", \"\", \"acad\\u00eamico\"], [\"Bia Kicis\", \"PSL\", \"procurador da rep\\u00fablica, pol\\u00edtico, advogado, youtuber\"], [\"Bibo Nunes\", \"PSL\", \"pol\\u00edtico, empres\\u00e1rio, jornalista\"], [\"Edir Macedo\", \"\", \"religioso, pastor evang\\u00e9lico\"], [\"Eduardo Bolsonaro\", \"PSL\", \"pol\\u00edtico, policial federal, advogado\"], [\"Brasil Paralelo\", \"\", \"m\\u00eddia, pol\\u00edtico\"], [\"Fam\\u00edliaDireitaBrasil\", \"\", \"m\\u00eddia, pol\\u00edtico\"], [\"Bruna Karla\", \"\", \"m\\u00fasico, religioso\"], [\"Bruno Engler\", \"PRTB\", \"pol\\u00edtico\"], [\"Junio Amaral\", \"PSL\", \"pol\\u00edtico, militar\"], [\"Capit\\u00e3o Derrite\", \"Progressistas\", \"militar, pol\\u00edtico\"], [\"Carla Zambelli\", \"PSL\", \"pol\\u00edtico, escritor\"], [\"Carlos Viana\", \"PSD\", \"pol\\u00edtico, jornalista\"], [\"Carlos Bolsonaro\", \"Republicanos\", \"pol\\u00edtico\"], [\"Carlos Jordy\", \"PSL\", \"pol\\u00edtico, turism\\u00f3logo, servidor p\\u00fablico\"], [\"Carmelo Neto\", \"Republicanos\", \"pol\\u00edtico\"], [\"Caroline De Toni\", \"PSL\", \"pol\\u00edtico, advogado\"], [\"Gil Diniz\", \"PSL\", \"pol\\u00edtico, servidor p\\u00fablico\"], [\"Clau de Luca\", \"PRTB\", \"publicit\\u00e1rio, m\\u00fasico\"], [\"Conex\\u00e3o Pol\\u00edtica\", \"\", \"m\\u00eddia, pol\\u00edtico\"], [\"Cr\\u00edtica Nacional\", \"\", \"m\\u00eddia, pol\\u00edtico\"], [\"Damares Alves\", \"Progressistas\", \"pol\\u00edtico, religioso, advogado\"], [\"Daniel Silveira\", \"PTB\", \"pol\\u00edtico, militar\"], [\"David M. Quinlan\", \"\", \"m\\u00fasico, religioso\"], [\"Helio Lopes\", \"PSL\", \"militar, pol\\u00edtico\"], [\"Professora Dayane Pimentel\", \"PSL\", \"pol\\u00edtico, professor\"], [\"Caneta Desesquerdizadora\", \"\", \"m\\u00eddia, conservador\"], [\"Daniel Freitas\", \"PSL\", \"pol\\u00edtico, empres\\u00e1rio\"], [\"Direita Goi\\u00e1s\", \"\", \"coletivo, pol\\u00edtico\"], [\"Direita Minas\", \"\", \"coletivo, pol\\u00edtico\"], [\"Dom\", \"Republicanos\", \"influencer, pol\\u00edtico\"], [\"Douglas Garcia\", \"PTB\", \"pol\\u00edtico\"], [\"Dra. Soraya Manato\", \"PSL\", \"m\\u00e9dico, pol\\u00edtico\"], [\"Delegado \\u00c9der Mauro\", \"PSD\", \"pol\\u00edtico, delegado\"], [\"Edson Salom\\u00e3o\", \"PRTB\", \"pol\\u00edtico, youtuber\"], [\"Ernesto Ara\\u00fajo\", \"\", \"pol\\u00edtico, diplomata, embaixador\"], [\"Escola sem Partido\", \"\", \"coletivo, pol\\u00edtico\"], [\"MBC \\u2013 Movimento Brasil Conservador\", \"\", \"coletivo, pol\\u00edtico\"], [\"Fabiana Barroso\", \"Patriota\", \"advogado\"], [\"Felipe C. Pedri\", \"\", \"pol\\u00edtico, publicit\\u00e1rio\"], [\"Fernanda Barth vereadora\", \"PRTB\", \"cientista pol\\u00edtico, jornalista, pol\\u00edtico\"], [\"Fernando Holiday\", \"Patriota\", \"pol\\u00edtico\"], [\"Felipe Francischini\", \"PSL\", \"pol\\u00edtico, advogado\"], [\"Filipe G. Martins\", \"\", \"professor, pol\\u00edtico\"], [\"Filipe Barros\", \"PSL\", \"pol\\u00edtico, advogado\"], [\"Flavio Bolsonaro\", \"Republicanos\", \"pol\\u00edtico, advogado, empres\\u00e1rio\"], [\"Heitor Freire\", \"PSL\", \"pol\\u00edtico\"], [\"Jair M. Bolsonaro\", \"PSL\", \"pol\\u00edtico, militar\"], [\"Brasil Sem Medo\", \"\", \"m\\u00eddia, pol\\u00edtico\"], [\"JOS\\u00c9 MEDEIROS\", \"Podemos\", \"pol\\u00edtico, policial rodovi\\u00e1rio, professor, matem\\u00e1tico\"], [\"Kim Kataguiri\", \"Democratas\", \"pol\\u00edtico\"], [\"Leandro Ruschel\", \"\", \"empreendedor, escritor, investidor, youtuber\"], [\"Leticia Aguiar\", \"PSL\", \"pol\\u00edtico\"], [\"Italo Lorenzon\", \"\", \"jornalista\"], [\"LUIZ CAMARGO vlog\", \"\", \"youtuber\"], [\"magno malta\", \"PL\", \"pol\\u00edtico, religioso, m\\u00fasico\"], [\"V\\u00edtor Hugo\", \"PSL\", \"pol\\u00edtico, militar, advogado\"], [\"Marcel van Hattem\", \"NOVO\", \"cientista pol\\u00edtico, jornalista, pol\\u00edtico\"], [\"Marcio Labre Oficial\", \"PSL\", \"pol\\u00edtico, youtuber, empres\\u00e1rio , jornalista\"], [\"MARISA LOBO-Supl.Dep.Federal\", \"Avante\", \"pol\\u00edtico, psic\\u00f3logo, religioso\"], [\"Maur\\u00edcio Costa\", \"\", \"jornalista, podcaster\"], [\"Movimento Avan\\u00e7a Brasil\", \"\", \"coletivo, pol\\u00edtico\"], [\"MBL - Movimento Brasil Livre\", \"\", \"coletivo, pol\\u00edtico\"], [\"Marcelo Crivella\", \"Republicanos\", \"pol\\u00edtico, engenheiro, m\\u00fasico, escritor, religioso\"], [\"Olavo de Carvalho\", \"\", \"fil\\u00f3sofo, escritor, jornalista, professor\"], [\"Onyx Lorenzoni\", \"Democratas\", \"pol\\u00edtico, veterin\\u00e1rio, empres\\u00e1rio\"], [\"Otoni de Paula\", \"PSC\", \"pol\\u00edtico, religioso\"], [\"Padre Paulo Ricardo\", \"\", \"religioso, youtuber, professor, radialista\"], [\"Liomar de Oliveira\", \"Republicanos\", \"pol\\u00edtico, religioso\"], [\"Silas Malafaia\", \"\", \"religioso, psic\\u00f3logo, te\\u00f3logo\"], [\"Paulo A. Briguet\", \"\", \"jornalista, escritor\"], [\"paulo eneas\", \"\", \"jornalista\"], [\"Paulo Eduardo Martins\", \"PSC\", \"jornalista, pol\\u00edtico\"], [\"Fernanda Brum\", \"\", \"m\\u00fasico, religioso, escritor, ator\"], [\"Paula Marisa\", \"PRTB\", \"jornalista, professor\"], [\"Partido Social Liberal - PSL\", \"\", \"partido, pol\\u00edtico\"], [\"Rodrigo Constantino\", \"\", \"economista, jornalista\"], [\"Fernanda Salles\", \"\", \"jornalista, youtuber\"], [\"Rog\\u00e9rio Marinho\", \"PSDB\", \"pol\\u00edtico, economista\"], [\"Sarita Coelho\", \"\", \"jornalista, servidor p\\u00fablico\"], [\"Senso Incomum\", \"\", \"m\\u00eddia, pol\\u00edtico\"], [\"S\\u00e9rgio Camargo\", \"\", \"pol\\u00edtico, jornalista\"], [\"Alian\\u00e7a pelo Brasil\", \"\", \"coletivo, pol\\u00edtico\"], [\"Tamires De Paula\", \"PSL\", \"influencer\"], [\"TeAtualizei\", \"\", \"youtuber\"], [\"Tenente Santini\", \"Progressistas\", \"policial militar, pol\\u00edtico, empres\\u00e1rio\"], [\"Portal Ter\\u00e7a Livre\", \"\", \"m\\u00eddia, pol\\u00edtico\"], [\"Chris Tonietto\", \"PSL\", \"pol\\u00edtico, advogado\"]], \"hovertemplate\": \"Classifica\\u00e7\\u00e3o=Antifeminista<br>Ponto Ideal=%{x}<br>Tamanho relativo de Seguidores Analisados=%{y}<br>Nome=%{customdata[0]}<br>Partido=%{customdata[1]}<br>Classifica\\u00e7\\u00f5es=%{customdata[2]}<extra></extra>\", \"legendgroup\": \"Antifeminista\", \"marker\": {\"color\": \"#F0A202\", \"symbol\": \"circle\"}, \"mode\": \"markers\", \"name\": \"Antifeminista\", \"orientation\": \"v\", \"showlegend\": true, \"type\": \"scatter\", \"x\": [1.5077450000000001, 1.547544, 1.555408, 1.538618, 1.5921040000000002, 1.115909, 0.062928, 0.05396, 1.123759, 1.404835, 0.22532, 1.569364, 1.5002959999999999, 1.442361, 0.131298, 0.966274, 1.306806, 1.403122, 0.021424000000000002, 1.549531, 1.415577, 1.362441, 1.184482, 0.513835, 1.058905, 1.611404, 1.45997, 1.564577, 1.636417, 1.409497, 1.252818, 1.517881, 1.149155, 1.514535, 0.114927, 1.478428, 0.604191, 0.6285350000000001, 1.3864889999999999, 1.18195, 1.3503610000000001, 1.5517100000000001, 1.83152, 1.214076, 1.439951, 1.814844, 1.096643, 1.135365, 1.511924, 1.5347680000000001, 1.764806, 1.565589, 0.303846, 0.9688700000000001, 1.4221409999999999, 1.659356, 0.770213, 0.979309, 1.017907, 1.675497, 1.070514, 0.20044, 1.235371, 1.394875, 1.595204, 1.786427, 0.834892, 1.317431, 0.878639, 1.497774, 0.7435970000000001, 1.21685, 1.313536, 0.201953, 0.371843, 0.861183, 0.916351, 1.573821, 1.035599, 1.281867, 0.511582, 1.595725, 1.8136860000000001, 1.153463, 0.067284, 1.7587720000000002, 0.5743699999999999, 1.125796, 1.7270279999999998, 1.054836, 1.533498, 1.137893, 1.684748, 1.443481, 1.3362100000000001, 1.808327, 1.450986, 1.531937, 1.453762], \"xaxis\": \"x\", \"y\": [0.4255225084291225, 0.1676885257051799, 0.10108631227105337, 0.09143290224161217, 0.028474401702342663, 0.6397145272403976, 0.22040090558411146, 0.15603836100935706, 0.3817153628652215, 0.10681908722562843, 0.15400759835595673, 0.2884606041761808, 0.32190017198324866, 0.09804502657481272, 0.04714964485944985, 0.6060709115112177, 0.15313310726119106, 0.11556399817328526, 0.12476072951990438, 0.03533915679625329, 0.06602893593866903, 0.08325641050555302, 0.40376225502103635, 0.02282421757338438, 0.5799867854679013, 0.22025029878445737, 0.09941506262327895, 0.20786167494194352, 0.14761895508030742, 0.039050885665147646, 0.29618527551327767, 0.089577037807165, 0.41589338981898033, 0.09225395221391995, 0.09479969295646005, 0.19406900706394473, 0.03450839025622589, 0.17010309278350516, 0.025117327555214397, 0.016003187034212035, 0.03229787110001263, 0.043316458894060265, 0.16764965943430143, 0.02377644120990701, 0.06670423739518253, 0.049539920518476055, 0.3413381657063459, 0.10672677983229203, 0.13506514958656005, 0.11002555457310259, 0.058046775557002245, 0.01725176598618304, 0.14545701876269226, 0.07657141191445534, 0.23924618867631198, 0.20091918730627592, 0.4880631965564484, 0.02052624930769455, 1.0, 0.18167552493757105, 0.0817940670637504, 0.24526074409475596, 0.22646404384115354, 0.02676914406754958, 0.1496740091530068, 0.07161110409358998, 0.28190192096543815, 0.14442220430055286, 0.20949405831883947, 0.0669520098720328, 0.05239173314418415, 0.07688720036534295, 0.03746708512684979, 0.22672639116958326, 0.05043384474868098, 0.36502715780677636, 0.3221770941632578, 0.08234305313990886, 0.07372445757260705, 0.04043549656519331, 0.23752149790607965, 0.04355451480319092, 0.04303953671405113, 0.16691120028761042, 0.18511033162645626, 0.1660755754637232, 0.1031753743307714, 0.2788557769853377, 0.13437527327846713, 0.08551065421650456, 0.024281702731327185, 0.14763352993188686, 0.15513472021143251, 0.20403820554427354, 0.04118853056346376, 0.20278476830844272, 0.016216951524043646, 0.23860975349067695, 0.04485653487761983], \"yaxis\": \"y\"}],                        {\"legend\": {\"title\": {\"text\": \"Classifica\\u00e7\\u00e3o\"}, \"tracegroupgap\": 0}, \"margin\": {\"t\": 60}, \"template\": {\"data\": {\"bar\": [{\"error_x\": {\"color\": \"#2a3f5f\"}, \"error_y\": {\"color\": \"#2a3f5f\"}, \"marker\": {\"line\": {\"color\": \"#E5ECF6\", \"width\": 0.5}}, \"type\": \"bar\"}], \"barpolar\": [{\"marker\": {\"line\": {\"color\": \"#E5ECF6\", \"width\": 0.5}}, \"type\": \"barpolar\"}], \"carpet\": [{\"aaxis\": {\"endlinecolor\": \"#2a3f5f\", \"gridcolor\": \"white\", \"linecolor\": \"white\", \"minorgridcolor\": \"white\", \"startlinecolor\": \"#2a3f5f\"}, \"baxis\": {\"endlinecolor\": \"#2a3f5f\", \"gridcolor\": \"white\", \"linecolor\": \"white\", \"minorgridcolor\": \"white\", \"startlinecolor\": \"#2a3f5f\"}, \"type\": \"carpet\"}], \"choropleth\": [{\"colorbar\": {\"outlinewidth\": 0, \"ticks\": \"\"}, \"type\": \"choropleth\"}], \"contour\": [{\"colorbar\": {\"outlinewidth\": 0, \"ticks\": \"\"}, \"colorscale\": [[0.0, \"#0d0887\"], [0.1111111111111111, \"#46039f\"], [0.2222222222222222, \"#7201a8\"], [0.3333333333333333, \"#9c179e\"], [0.4444444444444444, \"#bd3786\"], [0.5555555555555556, \"#d8576b\"], [0.6666666666666666, \"#ed7953\"], [0.7777777777777778, \"#fb9f3a\"], [0.8888888888888888, \"#fdca26\"], [1.0, \"#f0f921\"]], \"type\": \"contour\"}], \"contourcarpet\": [{\"colorbar\": {\"outlinewidth\": 0, \"ticks\": \"\"}, \"type\": \"contourcarpet\"}], \"heatmap\": [{\"colorbar\": {\"outlinewidth\": 0, \"ticks\": \"\"}, \"colorscale\": [[0.0, \"#0d0887\"], [0.1111111111111111, \"#46039f\"], [0.2222222222222222, \"#7201a8\"], [0.3333333333333333, \"#9c179e\"], [0.4444444444444444, \"#bd3786\"], [0.5555555555555556, \"#d8576b\"], [0.6666666666666666, \"#ed7953\"], [0.7777777777777778, \"#fb9f3a\"], [0.8888888888888888, \"#fdca26\"], [1.0, \"#f0f921\"]], \"type\": \"heatmap\"}], \"heatmapgl\": [{\"colorbar\": {\"outlinewidth\": 0, \"ticks\": \"\"}, \"colorscale\": [[0.0, \"#0d0887\"], [0.1111111111111111, \"#46039f\"], [0.2222222222222222, \"#7201a8\"], [0.3333333333333333, \"#9c179e\"], [0.4444444444444444, \"#bd3786\"], [0.5555555555555556, \"#d8576b\"], [0.6666666666666666, \"#ed7953\"], [0.7777777777777778, \"#fb9f3a\"], [0.8888888888888888, \"#fdca26\"], [1.0, \"#f0f921\"]], \"type\": \"heatmapgl\"}], \"histogram\": [{\"marker\": {\"colorbar\": {\"outlinewidth\": 0, \"ticks\": \"\"}}, \"type\": \"histogram\"}], \"histogram2d\": [{\"colorbar\": {\"outlinewidth\": 0, \"ticks\": \"\"}, \"colorscale\": [[0.0, \"#0d0887\"], [0.1111111111111111, \"#46039f\"], [0.2222222222222222, \"#7201a8\"], [0.3333333333333333, \"#9c179e\"], [0.4444444444444444, \"#bd3786\"], [0.5555555555555556, \"#d8576b\"], [0.6666666666666666, \"#ed7953\"], [0.7777777777777778, \"#fb9f3a\"], [0.8888888888888888, \"#fdca26\"], [1.0, \"#f0f921\"]], \"type\": \"histogram2d\"}], \"histogram2dcontour\": [{\"colorbar\": {\"outlinewidth\": 0, \"ticks\": \"\"}, \"colorscale\": [[0.0, \"#0d0887\"], [0.1111111111111111, \"#46039f\"], [0.2222222222222222, \"#7201a8\"], [0.3333333333333333, \"#9c179e\"], [0.4444444444444444, \"#bd3786\"], [0.5555555555555556, \"#d8576b\"], [0.6666666666666666, \"#ed7953\"], [0.7777777777777778, \"#fb9f3a\"], [0.8888888888888888, \"#fdca26\"], [1.0, \"#f0f921\"]], \"type\": \"histogram2dcontour\"}], \"mesh3d\": [{\"colorbar\": {\"outlinewidth\": 0, \"ticks\": \"\"}, \"type\": \"mesh3d\"}], \"parcoords\": [{\"line\": {\"colorbar\": {\"outlinewidth\": 0, \"ticks\": \"\"}}, \"type\": \"parcoords\"}], \"pie\": [{\"automargin\": true, \"type\": \"pie\"}], \"scatter\": [{\"marker\": {\"colorbar\": {\"outlinewidth\": 0, \"ticks\": \"\"}}, \"type\": \"scatter\"}], \"scatter3d\": [{\"line\": {\"colorbar\": {\"outlinewidth\": 0, \"ticks\": \"\"}}, \"marker\": {\"colorbar\": {\"outlinewidth\": 0, \"ticks\": \"\"}}, \"type\": \"scatter3d\"}], \"scattercarpet\": [{\"marker\": {\"colorbar\": {\"outlinewidth\": 0, \"ticks\": \"\"}}, \"type\": \"scattercarpet\"}], \"scattergeo\": [{\"marker\": {\"colorbar\": {\"outlinewidth\": 0, \"ticks\": \"\"}}, \"type\": \"scattergeo\"}], \"scattergl\": [{\"marker\": {\"colorbar\": {\"outlinewidth\": 0, \"ticks\": \"\"}}, \"type\": \"scattergl\"}], \"scattermapbox\": [{\"marker\": {\"colorbar\": {\"outlinewidth\": 0, \"ticks\": \"\"}}, \"type\": \"scattermapbox\"}], \"scatterpolar\": [{\"marker\": {\"colorbar\": {\"outlinewidth\": 0, \"ticks\": \"\"}}, \"type\": \"scatterpolar\"}], \"scatterpolargl\": [{\"marker\": {\"colorbar\": {\"outlinewidth\": 0, \"ticks\": \"\"}}, \"type\": \"scatterpolargl\"}], \"scatterternary\": [{\"marker\": {\"colorbar\": {\"outlinewidth\": 0, \"ticks\": \"\"}}, \"type\": \"scatterternary\"}], \"surface\": [{\"colorbar\": {\"outlinewidth\": 0, \"ticks\": \"\"}, \"colorscale\": [[0.0, \"#0d0887\"], [0.1111111111111111, \"#46039f\"], [0.2222222222222222, \"#7201a8\"], [0.3333333333333333, \"#9c179e\"], [0.4444444444444444, \"#bd3786\"], [0.5555555555555556, \"#d8576b\"], [0.6666666666666666, \"#ed7953\"], [0.7777777777777778, \"#fb9f3a\"], [0.8888888888888888, \"#fdca26\"], [1.0, \"#f0f921\"]], \"type\": \"surface\"}], \"table\": [{\"cells\": {\"fill\": {\"color\": \"#EBF0F8\"}, \"line\": {\"color\": \"white\"}}, \"header\": {\"fill\": {\"color\": \"#C8D4E3\"}, \"line\": {\"color\": \"white\"}}, \"type\": \"table\"}]}, \"layout\": {\"annotationdefaults\": {\"arrowcolor\": \"#2a3f5f\", \"arrowhead\": 0, \"arrowwidth\": 1}, \"coloraxis\": {\"colorbar\": {\"outlinewidth\": 0, \"ticks\": \"\"}}, \"colorscale\": {\"diverging\": [[0, \"#8e0152\"], [0.1, \"#c51b7d\"], [0.2, \"#de77ae\"], [0.3, \"#f1b6da\"], [0.4, \"#fde0ef\"], [0.5, \"#f7f7f7\"], [0.6, \"#e6f5d0\"], [0.7, \"#b8e186\"], [0.8, \"#7fbc41\"], [0.9, \"#4d9221\"], [1, \"#276419\"]], \"sequential\": [[0.0, \"#0d0887\"], [0.1111111111111111, \"#46039f\"], [0.2222222222222222, \"#7201a8\"], [0.3333333333333333, \"#9c179e\"], [0.4444444444444444, \"#bd3786\"], [0.5555555555555556, \"#d8576b\"], [0.6666666666666666, \"#ed7953\"], [0.7777777777777778, \"#fb9f3a\"], [0.8888888888888888, \"#fdca26\"], [1.0, \"#f0f921\"]], \"sequentialminus\": [[0.0, \"#0d0887\"], [0.1111111111111111, \"#46039f\"], [0.2222222222222222, \"#7201a8\"], [0.3333333333333333, \"#9c179e\"], [0.4444444444444444, \"#bd3786\"], [0.5555555555555556, \"#d8576b\"], [0.6666666666666666, \"#ed7953\"], [0.7777777777777778, \"#fb9f3a\"], [0.8888888888888888, \"#fdca26\"], [1.0, \"#f0f921\"]]}, \"colorway\": [\"#636efa\", \"#EF553B\", \"#00cc96\", \"#ab63fa\", \"#FFA15A\", \"#19d3f3\", \"#FF6692\", \"#B6E880\", \"#FF97FF\", \"#FECB52\"], \"font\": {\"color\": \"#2a3f5f\"}, \"geo\": {\"bgcolor\": \"white\", \"lakecolor\": \"white\", \"landcolor\": \"#E5ECF6\", \"showlakes\": true, \"showland\": true, \"subunitcolor\": \"white\"}, \"hoverlabel\": {\"align\": \"left\"}, \"hovermode\": \"closest\", \"mapbox\": {\"style\": \"light\"}, \"paper_bgcolor\": \"white\", \"plot_bgcolor\": \"#E5ECF6\", \"polar\": {\"angularaxis\": {\"gridcolor\": \"white\", \"linecolor\": \"white\", \"ticks\": \"\"}, \"bgcolor\": \"#E5ECF6\", \"radialaxis\": {\"gridcolor\": \"white\", \"linecolor\": \"white\", \"ticks\": \"\"}}, \"scene\": {\"xaxis\": {\"backgroundcolor\": \"#E5ECF6\", \"gridcolor\": \"white\", \"gridwidth\": 2, \"linecolor\": \"white\", \"showbackground\": true, \"ticks\": \"\", \"zerolinecolor\": \"white\"}, \"yaxis\": {\"backgroundcolor\": \"#E5ECF6\", \"gridcolor\": \"white\", \"gridwidth\": 2, \"linecolor\": \"white\", \"showbackground\": true, \"ticks\": \"\", \"zerolinecolor\": \"white\"}, \"zaxis\": {\"backgroundcolor\": \"#E5ECF6\", \"gridcolor\": \"white\", \"gridwidth\": 2, \"linecolor\": \"white\", \"showbackground\": true, \"ticks\": \"\", \"zerolinecolor\": \"white\"}}, \"shapedefaults\": {\"line\": {\"color\": \"#2a3f5f\"}}, \"ternary\": {\"aaxis\": {\"gridcolor\": \"white\", \"linecolor\": \"white\", \"ticks\": \"\"}, \"baxis\": {\"gridcolor\": \"white\", \"linecolor\": \"white\", \"ticks\": \"\"}, \"bgcolor\": \"#E5ECF6\", \"caxis\": {\"gridcolor\": \"white\", \"linecolor\": \"white\", \"ticks\": \"\"}}, \"title\": {\"x\": 0.05}, \"xaxis\": {\"automargin\": true, \"gridcolor\": \"white\", \"linecolor\": \"white\", \"ticks\": \"\", \"title\": {\"standoff\": 15}, \"zerolinecolor\": \"white\", \"zerolinewidth\": 2}, \"yaxis\": {\"automargin\": true, \"gridcolor\": \"white\", \"linecolor\": \"white\", \"ticks\": \"\", \"title\": {\"standoff\": 15}, \"zerolinecolor\": \"white\", \"zerolinewidth\": 2}}}, \"xaxis\": {\"anchor\": \"y\", \"domain\": [0.0, 1.0], \"title\": {\"text\": \"Ponto Ideal\"}}, \"yaxis\": {\"anchor\": \"x\", \"domain\": [0.0, 1.0], \"title\": {\"text\": \"Tamanho relativo de Seguidores Analisados\"}}},                        {\"responsive\": true}                    ).then(function(){\n",
       "                            \n",
       "var gd = document.getElementById('96c50be9-c781-4a1b-803a-b6450a8d346c');\n",
       "var x = new MutationObserver(function (mutations, observer) {{\n",
       "        var display = window.getComputedStyle(gd).display;\n",
       "        if (!display || display === 'none') {{\n",
       "            console.log([gd, 'removed!']);\n",
       "            Plotly.purge(gd);\n",
       "            observer.disconnect();\n",
       "        }}\n",
       "}});\n",
       "\n",
       "// Listen for the removal of the full notebook cells\n",
       "var notebookContainer = gd.closest('#notebook-container');\n",
       "if (notebookContainer) {{\n",
       "    x.observe(notebookContainer, {childList: true});\n",
       "}}\n",
       "\n",
       "// Listen for the clearing of the current output cell\n",
       "var outputEl = gd.closest('.output');\n",
       "if (outputEl) {{\n",
       "    x.observe(outputEl, {childList: true});\n",
       "}}\n",
       "\n",
       "                        })                };                });            </script>        </div>"
      ]
     },
     "metadata": {},
     "output_type": "display_data"
    }
   ],
   "source": [
    "df['partido'].fillna('', inplace=True)\n",
    "fig = px.scatter(df, x=\"ponto_ideal\", \n",
    "                 y=\"seguidores_analisados_rel\", \n",
    "                 color=\"posicao\",\n",
    "                 color_discrete_sequence=['#800080', '#F0A202'],\n",
    "                 hover_data=['nome', 'partido', 'profissoes'],\n",
    "                 labels={'seguidores_analisados_rel':'Tamanho relativo de Seguidores Analisados', \n",
    "                         'ponto_ideal':'Ponto Ideal',\n",
    "                         'posicao': 'Classificação',\n",
    "                         'nome': 'Nome',\n",
    "                         'partido': 'Partido',\n",
    "                         'profissoes': 'Classificações'})\n",
    "fig.show()"
   ]
  },
  {
   "cell_type": "code",
   "execution_count": 48,
   "metadata": {},
   "outputs": [
    {
     "data": {
      "application/vnd.plotly.v1+json": {
       "config": {
        "plotlyServerURL": "https://plot.ly"
       },
       "data": [
        {
         "customdata": [
          [
           "Rosana Pinheiro-Machado",
           "PSOL",
           "acadêmico, antropólogo, jornalista, professor"
          ],
          [
           "Abraham Weintraub",
           "",
           "político"
          ],
          [
           "Ailton Benedito",
           "",
           "procurador da república"
          ],
          [
           "Davy Albuquerque",
           "Republicanos",
           "jornalista"
          ],
          [
           "Alê Silva 🇧🇷 nem lugar na fila eu quero🇧🇷",
           "PSL",
           "político"
          ],
          [
           "Alexandre Aleluia",
           "Democratas",
           "político"
          ],
          [
           "Alexandre Garcia",
           "",
           "jornalista, youtuber"
          ],
          [
           "Aline Barros",
           "",
           "músico, religioso, escritor, empresário"
          ],
          [
           "Amanda Audi",
           "",
           "jornalista"
          ],
          [
           "Ana Paula Valadão Bessa",
           "",
           "músico, religioso, escritor"
          ],
          [
           "Ana Paula Henkel",
           "",
           "esportista, jornalista"
          ],
          [
           "André Fernandes",
           "Republicanos",
           "político, jornalista, youtuber"
          ],
          [
           "Andre Valadao",
           "",
           "músico, religioso"
          ],
          [
           "Antonia Pellegrino",
           "PSOL",
           "diretor, produtor, escritor, roteirista"
          ],
          [
           "Arthur Weintraub",
           "",
           "acadêmico"
          ],
          [
           "Bia Kicis",
           "PSL",
           "procurador da república, político, advogado, youtuber"
          ],
          [
           "Bibo Nunes",
           "PSL",
           "político, empresário, jornalista"
          ],
          [
           "Edir Macedo",
           "",
           "religioso, pastor evangélico"
          ],
          [
           "Blogueiras Feministas",
           "",
           "mídia, feminista"
          ],
          [
           "Eduardo Bolsonaro",
           "PSL",
           "político, policial federal, advogado"
          ],
          [
           "Brasil Paralelo",
           "",
           "mídia, político"
          ],
          [
           "FamíliaDireitaBrasil",
           "",
           "mídia, político"
          ],
          [
           "Eliane Brum",
           "",
           "jornalista, escritor, documentarista"
          ],
          [
           "Bruna Karla",
           "",
           "músico, religioso"
          ],
          [
           "Bruno Engler",
           "PRTB",
           "político"
          ],
          [
           "Junio Amaral",
           "PSL",
           "político, militar"
          ],
          [
           "Capitão Derrite",
           "Progressistas",
           "militar, político"
          ],
          [
           "Carina Vitral",
           "PCdoB",
           "político"
          ],
          [
           "Carla Zambelli",
           "PSL",
           "político, escritor"
          ],
          [
           "Carlos Viana",
           "PSD",
           "político, jornalista"
          ],
          [
           "Carlos Bolsonaro",
           "Republicanos",
           "político"
          ],
          [
           "Carlos Jordy",
           "PSL",
           "político, turismólogo, servidor público"
          ],
          [
           "Carmelo Neto",
           "Republicanos",
           "político"
          ],
          [
           "Caroline De Toni",
           "PSL",
           "político, advogado"
          ],
          [
           "Gil Diniz",
           "PSL",
           "político, servidor público"
          ],
          [
           "Clara Averbuck",
           "PT",
           "jornalista, escritor"
          ],
          [
           "Clau de Luca",
           "PRTB",
           "publicitário, músico"
          ],
          [
           "Conexão Política",
           "",
           "mídia, político"
          ],
          [
           "Cris Bartis",
           "",
           "podcaster, jornalista"
          ],
          [
           "Crítica Nacional",
           "",
           "mídia, político"
          ],
          [
           "cynara menezes",
           "",
           "jornalista, blogueiro, escritor"
          ],
          [
           "Damares Alves",
           "Progressistas",
           "político, religioso, advogado"
          ],
          [
           "Daniel Silveira",
           "PTB",
           "político, militar"
          ],
          [
           "David M. Quinlan",
           "",
           "músico, religioso"
          ],
          [
           "Debora Diniz",
           "",
           "antropólogo, acadêmico, pesquisador, professor, escritor, documentarista"
          ],
          [
           "Debora Baldin",
           "",
           "podcaster, youtuber"
          ],
          [
           "Bruna de Lara",
           "",
           "jornalista, escritor"
          ],
          [
           "Helio Lopes",
           "PSL",
           "militar, político"
          ],
          [
           "Professora Dayane Pimentel",
           "PSL",
           "político, professor"
          ],
          [
           "Caneta Desesquerdizadora",
           "",
           "mídia, conservador"
          ],
          [
           "Daniel Freitas",
           "PSL",
           "político, empresário"
          ],
          [
           "Direita Goiás",
           "",
           "coletivo, político"
          ],
          [
           "Direita Minas",
           "",
           "coletivo, político"
          ],
          [
           "Dom",
           "Republicanos",
           "influencer, político"
          ],
          [
           "Douglas Garcia",
           "PTB",
           "político"
          ],
          [
           "Dra. Soraya Manato",
           "PSL",
           "médico, político"
          ],
          [
           "Delegado Éder Mauro",
           "PSD",
           "político, delegado"
          ],
          [
           "Edson Salomão",
           "PRTB",
           "político, youtuber"
          ],
          [
           "Elika Takimoto",
           "PT",
           "político, acadêmico, escritor, professor"
          ],
          [
           "Erika Kokay",
           "PT",
           "psicólogo, político, bancário, sindicalista"
          ],
          [
           "Ernesto Araújo",
           "",
           "político, diplomata, embaixador"
          ],
          [
           "Escola sem Partido",
           "",
           "coletivo, político"
          ],
          [
           "MBC – Movimento Brasil Conservador",
           "",
           "coletivo, político"
          ],
          [
           "Fabiana Barroso",
           "Patriota",
           "advogado"
          ],
          [
           "Cida Falabella",
           "PSOL",
           "ator, diretor, professor , político"
          ],
          [
           "Felipe C. Pedri",
           "",
           "político, publicitário"
          ],
          [
           "Fernanda Barth vereadora",
           "PRTB",
           "cientista político, jornalista, político"
          ],
          [
           "Fernanda Melchionna",
           "PSOL",
           "bibliotecário, bancário, político"
          ],
          [
           "Fernando Holiday",
           "Patriota",
           "político"
          ],
          [
           "Felipe Francischini",
           "PSL",
           "político, advogado"
          ],
          [
           "Filipe G. Martins",
           "",
           "professor, político"
          ],
          [
           "Filipe Barros",
           "PSL",
           "político, advogado"
          ],
          [
           "Flávia Oliveira",
           "",
           "jornalista, podcaster"
          ],
          [
           "Flavio Bolsonaro",
           "Republicanos",
           "político, advogado, empresário"
          ],
          [
           "Gabi Coelho",
           "",
           "jornalista, universitário, podcaster, produtor"
          ],
          [
           "Sonia Guajajara",
           "PSOL",
           "político, ativista indígena, enfermeiro"
          ],
          [
           "Heitor Freire",
           "PSL",
           "político"
          ],
          [
           "Deputada Isa Penna #VacinaJá",
           "PSOL",
           "político, ativista ecossocialista, advogado"
          ],
          [
           "Jair M. Bolsonaro",
           "PSL",
           "político, militar"
          ],
          [
           "Jandira Feghali",
           "PCdoB",
           "médico, político, sindicalista"
          ],
          [
           "Margarida Salomão",
           "PT",
           "acadêmico, professor, sindicalista, político"
          ],
          [
           "Brasil Sem Medo",
           "",
           "mídia, político"
          ],
          [
           "JOSÉ MEDEIROS",
           "Podemos",
           "político, policial rodoviário, professor, matemático"
          ],
          [
           "Jout Jout",
           "",
           "escritor, jornalista, youtuber"
          ],
          [
           "Joanna Maranhão",
           "PSOL",
           "esportista"
          ],
          [
           "Ju Wallauer",
           "",
           "podcaster, jornalista"
          ],
          [
           "Kim Kataguiri",
           "Democratas",
           "político"
          ],
          [
           "Laura Carvalho",
           "",
           "economista, acadêmico, escritor, podcaster"
          ],
          [
           "Leandro Ruschel",
           "",
           "empreendedor, escritor, investidor, youtuber"
          ],
          [
           "Leticia Aguiar",
           "PSL",
           "político"
          ],
          [
           "Lola Aronovich",
           "",
           "acadêmico, blogueiro, professor"
          ],
          [
           "Italo Lorenzon",
           "",
           "jornalista"
          ],
          [
           "louie ponto",
           "",
           "youtuber, ativista lésbica"
          ],
          [
           "Luciana Boiteux",
           "PSOL",
           "advogado, acadêmico, professor, político"
          ],
          [
           "Luciana Genro",
           "PSOL",
           "político, advogado"
          ],
          [
           "Luiza Erundina",
           "PSOL",
           "político, assistente social"
          ],
          [
           "LUIZ CAMARGO vlog",
           "",
           "youtuber"
          ],
          [
           "magno malta",
           "PL",
           "político, religioso, músico"
          ],
          [
           "Vítor Hugo",
           "PSL",
           "político, militar, advogado"
          ],
          [
           "Manuela Barem",
           "",
           "jornalista"
          ],
          [
           "Manuela",
           "PCdoB",
           "político, escritor, jornalista"
          ],
          [
           "Marcel van Hattem",
           "NOVO",
           "cientista político, jornalista, político"
          ],
          [
           "marcia tiburi",
           "PT",
           "filósofo, acadêmico, professor, artista, escritor"
          ],
          [
           "Marcio Labre Oficial",
           "PSL",
           "político, youtuber, empresário , jornalista"
          ],
          [
           "Marília Arraes",
           "PT",
           "político, advogado"
          ],
          [
           "Marília Moscou",
           "PCB",
           "acadêmico, escritor, professor, cientista social"
          ],
          [
           "MARISA LOBO-Supl.Dep.Federal",
           "Avante",
           "político, psicólogo, religioso"
          ],
          [
           "Maurício Costa",
           "",
           "jornalista, podcaster"
          ],
          [
           "Movimento Avança Brasil",
           "",
           "coletivo, político"
          ],
          [
           "MBL - Movimento Brasil Livre",
           "",
           "coletivo, político"
          ],
          [
           "Marcelo Crivella",
           "Republicanos",
           "político, engenheiro, músico, escritor, religioso"
          ],
          [
           "Milly Lacombe",
           "",
           "ativista lésbica, jornalista, escritor, roteirista"
          ],
          [
           "Monica Benicio",
           "",
           "arquiteto, urbanista, ativista lésbica, político"
          ],
          [
           "Mônica Bergamo",
           "",
           "jornalista"
          ],
          [
           "Não Me Kahlo",
           "",
           "coletivo, mídia, feminista"
          ],
          [
           "Natália Bonavides",
           "PT",
           "político, advogado"
          ],
          [
           "Olavo de Carvalho",
           "",
           "filósofo, escritor, jornalista, professor"
          ],
          [
           "ONU Mulheres Brasil",
           "",
           "coletivo, mídia, feminista"
          ],
          [
           "Onyx Lorenzoni",
           "Democratas",
           "político, veterinário, empresário"
          ],
          [
           "Otoni de Paula",
           "PSC",
           "político, religioso"
          ],
          [
           "Padre Paulo Ricardo",
           "",
           "religioso, youtuber, professor, radialista"
          ],
          [
           "Paola Carosella",
           "",
           "cozinheiro, chef, empresário"
          ],
          [
           "☭Lisa Débora Perpétua da Faísca",
           "",
           "ativista lésbica"
          ],
          [
           "Liomar de Oliveira",
           "Republicanos",
           "político, religioso"
          ],
          [
           "Silas Malafaia",
           "",
           "religioso, psicólogo, teólogo"
          ],
          [
           "Paulo A. Briguet",
           "",
           "jornalista, escritor"
          ],
          [
           "paulo eneas",
           "",
           "jornalista"
          ],
          [
           "Paulo Eduardo Martins",
           "PSC",
           "jornalista, político"
          ],
          [
           "Perpétua Almeida",
           "PCdoB",
           "professor, bancário , político"
          ],
          [
           "Petra Costa",
           "",
           "cineasta, diretor"
          ],
          [
           "Fernanda Brum",
           "",
           "músico, religioso, escritor, ator"
          ],
          [
           "Paula Marisa",
           "PRTB",
           "jornalista, professor"
          ],
          [
           "Partido Social Liberal - PSL",
           "",
           "partido, político"
          ],
          [
           "Rodrigo Constantino",
           "",
           "economista, jornalista"
          ],
          [
           "Fernanda Salles",
           "",
           "jornalista, youtuber"
          ],
          [
           "Revista AzMina",
           "",
           "mídia, feminista"
          ],
          [
           "Rita Lisauskas",
           "",
           "jornalista, blogueiro"
          ],
          [
           "Rogério Marinho",
           "PSDB",
           "político, economista"
          ],
          [
           "Sabrina Fernandes",
           "PSOL",
           "cientista social, acadêmico, escritor, youtuber, ativista ecossocialista, professor, podcaster"
          ],
          [
           "Sâmia Bomfim",
           "PSOL",
           "político, servidor público"
          ],
          [
           "Sarita Coelho",
           "",
           "jornalista, servidor público"
          ],
          [
           "Senso Incomum",
           "",
           "mídia, político"
          ],
          [
           "Sérgio Camargo",
           "",
           "político, jornalista"
          ],
          [
           "Aliança pelo Brasil",
           "",
           "coletivo, político"
          ],
          [
           "Tamires De Paula",
           "PSL",
           "influencer"
          ],
          [
           "TeAtualizei",
           "",
           "youtuber"
          ],
          [
           "Tatiana Roque",
           "PSOL",
           "acadêmico, professor, matemático, youtuber"
          ],
          [
           "Tenente Santini",
           "Progressistas",
           "policial militar, político, empresário"
          ],
          [
           "Portal Terça Livre",
           "",
           "mídia, político"
          ],
          [
           "Tese Onze",
           "",
           "mídia, político, ecossocialista"
          ],
          [
           "Chris Tonietto",
           "PSL",
           "político, advogado"
          ]
         ],
         "hovertemplate": "Classificações=%{customdata[2]}<br>Ponto Ideal=%{x}<br>Tamanho relativo de Seguidores Analisados=%{y}<br>Nome=%{customdata[0]}<br>Partido=%{customdata[1]}<extra></extra>",
         "legendgroup": "Não Negra e Não Trans",
         "marker": {
          "color": "lightgrey",
          "symbol": "circle"
         },
         "mode": "markers",
         "name": "Não Negra e Não Trans",
         "orientation": "v",
         "showlegend": true,
         "type": "scatter",
         "x": [
          -1.3834799999999998,
          1.5077450000000001,
          1.547544,
          1.555408,
          1.538618,
          1.5921040000000002,
          1.115909,
          0.062928,
          -1.3184209999999998,
          0.05396,
          1.123759,
          1.404835,
          0.22532,
          -1.448386,
          1.569364,
          1.5002959999999999,
          1.442361,
          0.131298,
          -1.823219,
          0.966274,
          1.306806,
          1.403122,
          -1.401738,
          0.021424000000000002,
          1.549531,
          1.415577,
          1.362441,
          -1.321101,
          1.184482,
          0.513835,
          1.058905,
          1.611404,
          1.45997,
          1.564577,
          1.636417,
          -1.618628,
          1.409497,
          1.252818,
          -1.670168,
          1.517881,
          -1.3220610000000002,
          1.149155,
          1.514535,
          0.114927,
          -1.521974,
          -2.0058119999999997,
          -1.385043,
          1.478428,
          0.604191,
          0.6285350000000001,
          1.3864889999999999,
          1.18195,
          1.3503610000000001,
          1.5517100000000001,
          1.83152,
          1.214076,
          1.439951,
          1.814844,
          -1.450352,
          -1.1654,
          1.096643,
          1.135365,
          1.511924,
          1.5347680000000001,
          -1.59273,
          1.764806,
          1.565589,
          -1.324394,
          0.303846,
          0.9688700000000001,
          1.4221409999999999,
          1.659356,
          -1.326052,
          0.770213,
          -1.8704740000000002,
          -1.575197,
          0.979309,
          -1.432304,
          1.017907,
          -1.201901,
          -1.142013,
          1.675497,
          1.070514,
          -1.951114,
          -1.466502,
          -1.662236,
          0.20044,
          -1.328849,
          1.235371,
          1.394875,
          -1.515064,
          1.595204,
          -2.2264909999999998,
          -1.584902,
          -1.2614809999999999,
          -1.320881,
          1.786427,
          0.834892,
          1.317431,
          -1.650467,
          -1.343015,
          0.878639,
          -1.389608,
          1.497774,
          -1.225918,
          -1.8225740000000001,
          0.7435970000000001,
          1.21685,
          1.313536,
          0.201953,
          0.371843,
          -1.467044,
          -1.6855259999999999,
          -0.9054459999999999,
          -1.872436,
          -1.3322379999999998,
          0.861183,
          -1.490895,
          0.916351,
          1.573821,
          1.035599,
          -1.376681,
          -1.278515,
          1.281867,
          0.511582,
          1.595725,
          1.8136860000000001,
          1.153463,
          -1.176082,
          -1.4258629999999999,
          0.067284,
          1.7587720000000002,
          0.5743699999999999,
          1.125796,
          1.7270279999999998,
          -1.781304,
          -1.288384,
          1.054836,
          -1.6520029999999999,
          -1.4454209999999998,
          1.533498,
          1.137893,
          1.684748,
          1.443481,
          1.3362100000000001,
          1.808327,
          -1.430445,
          1.450986,
          1.531937,
          -1.822257,
          1.453762
         ],
         "xaxis": "x",
         "y": [
          0.12203037399069153,
          0.4255225084291225,
          0.1676885257051799,
          0.10108631227105337,
          0.09143290224161217,
          0.028474401702342663,
          0.6397145272403976,
          0.22040090558411146,
          0.12781659006772447,
          0.15603836100935706,
          0.3817153628652215,
          0.10681908722562843,
          0.15400759835595673,
          0.02789626592302535,
          0.2884606041761808,
          0.32190017198324866,
          0.09804502657481272,
          0.04714964485944985,
          0.041096223170127386,
          0.6060709115112177,
          0.15313310726119106,
          0.11556399817328526,
          0.15653876424691743,
          0.12476072951990438,
          0.03533915679625329,
          0.06602893593866903,
          0.08325641050555302,
          0.02843553543146419,
          0.40376225502103635,
          0.02282421757338438,
          0.5799867854679013,
          0.22025029878445737,
          0.09941506262327895,
          0.20786167494194352,
          0.14761895508030742,
          0.06019413702303798,
          0.039050885665147646,
          0.29618527551327767,
          0.04170836693646336,
          0.089577037807165,
          0.15410476403315293,
          0.41589338981898033,
          0.09225395221391995,
          0.09479969295646005,
          0.13290807155280468,
          0.04173265835576241,
          0.07191231769289816,
          0.19406900706394473,
          0.03450839025622589,
          0.17010309278350516,
          0.025117327555214397,
          0.016003187034212035,
          0.03229787110001263,
          0.043316458894060265,
          0.16764965943430143,
          0.02377644120990701,
          0.06670423739518253,
          0.049539920518476055,
          0.12558177949221216,
          0.11236724739353071,
          0.3413381657063459,
          0.10672677983229203,
          0.13506514958656005,
          0.11002555457310259,
          0.027016916544399857,
          0.058046775557002245,
          0.01725176598618304,
          0.08977136916155737,
          0.14545701876269226,
          0.07657141191445534,
          0.23924618867631198,
          0.20091918730627592,
          0.14395580905001118,
          0.4880631965564484,
          0.022076041858973737,
          0.08125965583917137,
          0.02052624930769455,
          0.025666313631372853,
          1,
          0.21285113246596774,
          0.049729393589008616,
          0.18167552493757105,
          0.0817940670637504,
          0.15431367023912473,
          0.1142328283956975,
          0.04618770465520759,
          0.24526074409475596,
          0.1460983122321871,
          0.22646404384115354,
          0.02676914406754958,
          0.12662631052207118,
          0.1496740091530068,
          0.09441588853153512,
          0.01849548665429424,
          0.1410068307471069,
          0.15352662825383562,
          0.07161110409358998,
          0.28190192096543815,
          0.14442220430055286,
          0.04531807184430172,
          0.4900308015196712,
          0.20949405831883947,
          0.09316730957956411,
          0.0669520098720328,
          0.03116103267681724,
          0.02380073262920606,
          0.05239173314418415,
          0.07688720036534295,
          0.03746708512684979,
          0.22672639116958326,
          0.05043384474868098,
          0.048014419386495914,
          0.0506038846837743,
          0.3855582653983307,
          0.06543136702391247,
          0.047999844534916486,
          0.36502715780677636,
          0.022396688593721154,
          0.3221770941632578,
          0.08234305313990886,
          0.07372445757260705,
          0.425153278855777,
          0.030757795116453063,
          0.04043549656519331,
          0.23752149790607965,
          0.04355451480319092,
          0.04303953671405113,
          0.16691120028761042,
          0.016668771923005917,
          0.1819087225628419,
          0.18511033162645626,
          0.1660755754637232,
          0.1031753743307714,
          0.2788557769853377,
          0.13437527327846713,
          0.02403393025447691,
          0.07792687311134215,
          0.08551065421650456,
          0.16502132786614457,
          0.2622695958879485,
          0.024281702731327185,
          0.14763352993188686,
          0.15513472021143251,
          0.20403820554427354,
          0.04118853056346376,
          0.20278476830844272,
          0.03656344432892525,
          0.016216951524043646,
          0.23860975349067695,
          0.02691975086720367,
          0.04485653487761983
         ],
         "yaxis": "y"
        },
        {
         "customdata": [
          [
           "Andreza",
           "",
           "ativista negro, produtor cultural, youtuber, podcaster, jornalista"
          ],
          [
           "Anielle Franco",
           "",
           "professor, jornalista, escritor, ativista negro"
          ],
          [
           "Áurea Carolina",
           "PSOL",
           "político, ativista negro, acadêmico, cientista social"
          ],
          [
           "Isabela Reis",
           "",
           "jornalista, ativista negro, podcaster, escritor"
          ],
          [
           "Blogueiras Negras",
           "",
           "mídia, negro"
          ],
          [
           "Dani Monteiro",
           "PSOL",
           "ativista negro, político"
          ],
          [
           "Benedita da Silva",
           "PT",
           "político, professor, servidor público, assistente social, auxiliar de enfermagem"
          ],
          [
           "Elza Soares",
           "",
           "ativista negro, músico"
          ],
          [
           "ERIKA HILTON",
           "PSOL",
           "ativista negro, político, ativista trans"
          ],
          [
           "gabrielle",
           "",
           "podcaster"
          ],
          [
           "Geledés Instituto da Mulher Negra",
           "",
           "mídia, negro"
          ],
          [
           "Bia Ferreira",
           "",
           "músico, ativista negro, ativista lésbica"
          ],
          [
           "Instituto Marielle Franco",
           "",
           "organização, negro"
          ],
          [
           "Suzane Jardim",
           "",
           "historiador, acadêmico, ativista negro"
          ],
          [
           "Jurema Werneck",
           "",
           "ativista negro, médico, acadêmico"
          ],
          [
           "Laerte Coutinho",
           "",
           "quadrinista, ativista trans"
          ],
          [
           "Leci Brandão",
           "PCdoB",
           "político, músico"
          ],
          [
           "Letícia Parks",
           "",
           "professor, político"
          ],
          [
           "Linn da Quebrada",
           "",
           "artista, ativista negro, ativista trans, ator, roteirista, jornalista, músico"
          ],
          [
           "negaluy",
           "",
           "ativista negro"
          ],
          [
           "Erica Malunguinho",
           "PSOL",
           "ativista negro, político, ativista trans, artista, professor"
          ],
          [
           "MC Carol",
           "PCdoB",
           "músico"
          ],
          [
           "Mônica Francisco",
           "PSOL",
           "ativista negro, religioso, pastor evangélico, político, cientista social"
          ],
          [
           "Monica Seixas",
           "PSOL",
           "político, ativista negro, ativista ecossocialista, jornalista, redator"
          ],
          [
           "Preta Ijimú",
           "",
           "acadêmico, cientista político, podcaster, ativista negro, professor"
          ],
          [
           "Nátaly Neri",
           "",
           "ativista negro, cientista social, ativista vegano, youtuber"
          ],
          [
           "Renata Souza",
           "PSOL",
           "acadêmico, jornalista, político, ativista negro"
          ],
          [
           "Sueli Carneiro",
           "",
           "acadêmico, ativista negro, filósofo, escritor"
          ],
          [
           "Talíria Petrone",
           "PSOL",
           "político, professor, historiador, ativista negro"
          ],
          [
           "Tati Nefertari",
           "",
           "universitário, ativista negro"
          ],
          [
           "Ana Flor",
           "",
           "ativista trans, pedagogo, acadêmico"
          ],
          [
           "Sher Machado",
           "",
           "ativista trans, ativista negro, físico, streamer"
          ],
          [
           "Bueno.",
           "",
           "acadêmico, ativista negro"
          ]
         ],
         "hovertemplate": "Classificações=%{customdata[2]}<br>Ponto Ideal=%{x}<br>Tamanho relativo de Seguidores Analisados=%{y}<br>Nome=%{customdata[0]}<br>Partido=%{customdata[1]}<extra></extra>",
         "legendgroup": "Negra ou Trans",
         "marker": {
          "color": "#000000",
          "symbol": "circle"
         },
         "mode": "markers",
         "name": "Negra ou Trans",
         "orientation": "v",
         "showlegend": true,
         "type": "scatter",
         "x": [
          -2.251423,
          -1.7380330000000002,
          -1.5805360000000002,
          -2.045617,
          -2.020968,
          -1.656366,
          -1.298902,
          -1.761039,
          -2.031606,
          -2.184599,
          -1.952359,
          -2.254809,
          -1.788807,
          -2.0657959999999997,
          -1.9856779999999998,
          -1.590255,
          -1.429151,
          -2.03648,
          -2.265995,
          -2.011198,
          -2.0100279999999997,
          -2.021261,
          -1.680734,
          -1.518306,
          -2.17928,
          -2.436118,
          -1.6349790000000002,
          -2.045003,
          -1.569423,
          -2.256308,
          -2.4336759999999997,
          -2.4905150000000003,
          -2.089623
         ],
         "xaxis": "x",
         "y": [
          0.06750099594819126,
          0.09012116559946365,
          0.07740703673834255,
          0.034246042927796184,
          0.03672862598015877,
          0.025855786701905418,
          0.07657141191445534,
          0.06256012126276514,
          0.019136780123789072,
          0.03259908469932081,
          0.0467075410282072,
          0.04205330509050983,
          0.060330168971112645,
          0.019355402897480493,
          0.01696026895459448,
          0.21208838189997764,
          0.02585092841804561,
          0.024461459234140132,
          0.10051303477559587,
          0.02622501627525093,
          0.03559178755696338,
          0.08840619139695094,
          0.030203950756434797,
          0.02568088848295228,
          0.04305896984949037,
          0.14981004110108145,
          0.04666867475732872,
          0.03448895712078665,
          0.1942001807281596,
          0.05598200491658327,
          0.03101528416102296,
          0.022066325291254116,
          0.11351866066830553
         ],
         "yaxis": "y"
        }
       ],
       "layout": {
        "legend": {
         "title": {
          "text": "Classificações"
         },
         "tracegroupgap": 0
        },
        "margin": {
         "t": 60
        },
        "template": {
         "data": {
          "bar": [
           {
            "error_x": {
             "color": "#2a3f5f"
            },
            "error_y": {
             "color": "#2a3f5f"
            },
            "marker": {
             "line": {
              "color": "#E5ECF6",
              "width": 0.5
             }
            },
            "type": "bar"
           }
          ],
          "barpolar": [
           {
            "marker": {
             "line": {
              "color": "#E5ECF6",
              "width": 0.5
             }
            },
            "type": "barpolar"
           }
          ],
          "carpet": [
           {
            "aaxis": {
             "endlinecolor": "#2a3f5f",
             "gridcolor": "white",
             "linecolor": "white",
             "minorgridcolor": "white",
             "startlinecolor": "#2a3f5f"
            },
            "baxis": {
             "endlinecolor": "#2a3f5f",
             "gridcolor": "white",
             "linecolor": "white",
             "minorgridcolor": "white",
             "startlinecolor": "#2a3f5f"
            },
            "type": "carpet"
           }
          ],
          "choropleth": [
           {
            "colorbar": {
             "outlinewidth": 0,
             "ticks": ""
            },
            "type": "choropleth"
           }
          ],
          "contour": [
           {
            "colorbar": {
             "outlinewidth": 0,
             "ticks": ""
            },
            "colorscale": [
             [
              0,
              "#0d0887"
             ],
             [
              0.1111111111111111,
              "#46039f"
             ],
             [
              0.2222222222222222,
              "#7201a8"
             ],
             [
              0.3333333333333333,
              "#9c179e"
             ],
             [
              0.4444444444444444,
              "#bd3786"
             ],
             [
              0.5555555555555556,
              "#d8576b"
             ],
             [
              0.6666666666666666,
              "#ed7953"
             ],
             [
              0.7777777777777778,
              "#fb9f3a"
             ],
             [
              0.8888888888888888,
              "#fdca26"
             ],
             [
              1,
              "#f0f921"
             ]
            ],
            "type": "contour"
           }
          ],
          "contourcarpet": [
           {
            "colorbar": {
             "outlinewidth": 0,
             "ticks": ""
            },
            "type": "contourcarpet"
           }
          ],
          "heatmap": [
           {
            "colorbar": {
             "outlinewidth": 0,
             "ticks": ""
            },
            "colorscale": [
             [
              0,
              "#0d0887"
             ],
             [
              0.1111111111111111,
              "#46039f"
             ],
             [
              0.2222222222222222,
              "#7201a8"
             ],
             [
              0.3333333333333333,
              "#9c179e"
             ],
             [
              0.4444444444444444,
              "#bd3786"
             ],
             [
              0.5555555555555556,
              "#d8576b"
             ],
             [
              0.6666666666666666,
              "#ed7953"
             ],
             [
              0.7777777777777778,
              "#fb9f3a"
             ],
             [
              0.8888888888888888,
              "#fdca26"
             ],
             [
              1,
              "#f0f921"
             ]
            ],
            "type": "heatmap"
           }
          ],
          "heatmapgl": [
           {
            "colorbar": {
             "outlinewidth": 0,
             "ticks": ""
            },
            "colorscale": [
             [
              0,
              "#0d0887"
             ],
             [
              0.1111111111111111,
              "#46039f"
             ],
             [
              0.2222222222222222,
              "#7201a8"
             ],
             [
              0.3333333333333333,
              "#9c179e"
             ],
             [
              0.4444444444444444,
              "#bd3786"
             ],
             [
              0.5555555555555556,
              "#d8576b"
             ],
             [
              0.6666666666666666,
              "#ed7953"
             ],
             [
              0.7777777777777778,
              "#fb9f3a"
             ],
             [
              0.8888888888888888,
              "#fdca26"
             ],
             [
              1,
              "#f0f921"
             ]
            ],
            "type": "heatmapgl"
           }
          ],
          "histogram": [
           {
            "marker": {
             "colorbar": {
              "outlinewidth": 0,
              "ticks": ""
             }
            },
            "type": "histogram"
           }
          ],
          "histogram2d": [
           {
            "colorbar": {
             "outlinewidth": 0,
             "ticks": ""
            },
            "colorscale": [
             [
              0,
              "#0d0887"
             ],
             [
              0.1111111111111111,
              "#46039f"
             ],
             [
              0.2222222222222222,
              "#7201a8"
             ],
             [
              0.3333333333333333,
              "#9c179e"
             ],
             [
              0.4444444444444444,
              "#bd3786"
             ],
             [
              0.5555555555555556,
              "#d8576b"
             ],
             [
              0.6666666666666666,
              "#ed7953"
             ],
             [
              0.7777777777777778,
              "#fb9f3a"
             ],
             [
              0.8888888888888888,
              "#fdca26"
             ],
             [
              1,
              "#f0f921"
             ]
            ],
            "type": "histogram2d"
           }
          ],
          "histogram2dcontour": [
           {
            "colorbar": {
             "outlinewidth": 0,
             "ticks": ""
            },
            "colorscale": [
             [
              0,
              "#0d0887"
             ],
             [
              0.1111111111111111,
              "#46039f"
             ],
             [
              0.2222222222222222,
              "#7201a8"
             ],
             [
              0.3333333333333333,
              "#9c179e"
             ],
             [
              0.4444444444444444,
              "#bd3786"
             ],
             [
              0.5555555555555556,
              "#d8576b"
             ],
             [
              0.6666666666666666,
              "#ed7953"
             ],
             [
              0.7777777777777778,
              "#fb9f3a"
             ],
             [
              0.8888888888888888,
              "#fdca26"
             ],
             [
              1,
              "#f0f921"
             ]
            ],
            "type": "histogram2dcontour"
           }
          ],
          "mesh3d": [
           {
            "colorbar": {
             "outlinewidth": 0,
             "ticks": ""
            },
            "type": "mesh3d"
           }
          ],
          "parcoords": [
           {
            "line": {
             "colorbar": {
              "outlinewidth": 0,
              "ticks": ""
             }
            },
            "type": "parcoords"
           }
          ],
          "pie": [
           {
            "automargin": true,
            "type": "pie"
           }
          ],
          "scatter": [
           {
            "marker": {
             "colorbar": {
              "outlinewidth": 0,
              "ticks": ""
             }
            },
            "type": "scatter"
           }
          ],
          "scatter3d": [
           {
            "line": {
             "colorbar": {
              "outlinewidth": 0,
              "ticks": ""
             }
            },
            "marker": {
             "colorbar": {
              "outlinewidth": 0,
              "ticks": ""
             }
            },
            "type": "scatter3d"
           }
          ],
          "scattercarpet": [
           {
            "marker": {
             "colorbar": {
              "outlinewidth": 0,
              "ticks": ""
             }
            },
            "type": "scattercarpet"
           }
          ],
          "scattergeo": [
           {
            "marker": {
             "colorbar": {
              "outlinewidth": 0,
              "ticks": ""
             }
            },
            "type": "scattergeo"
           }
          ],
          "scattergl": [
           {
            "marker": {
             "colorbar": {
              "outlinewidth": 0,
              "ticks": ""
             }
            },
            "type": "scattergl"
           }
          ],
          "scattermapbox": [
           {
            "marker": {
             "colorbar": {
              "outlinewidth": 0,
              "ticks": ""
             }
            },
            "type": "scattermapbox"
           }
          ],
          "scatterpolar": [
           {
            "marker": {
             "colorbar": {
              "outlinewidth": 0,
              "ticks": ""
             }
            },
            "type": "scatterpolar"
           }
          ],
          "scatterpolargl": [
           {
            "marker": {
             "colorbar": {
              "outlinewidth": 0,
              "ticks": ""
             }
            },
            "type": "scatterpolargl"
           }
          ],
          "scatterternary": [
           {
            "marker": {
             "colorbar": {
              "outlinewidth": 0,
              "ticks": ""
             }
            },
            "type": "scatterternary"
           }
          ],
          "surface": [
           {
            "colorbar": {
             "outlinewidth": 0,
             "ticks": ""
            },
            "colorscale": [
             [
              0,
              "#0d0887"
             ],
             [
              0.1111111111111111,
              "#46039f"
             ],
             [
              0.2222222222222222,
              "#7201a8"
             ],
             [
              0.3333333333333333,
              "#9c179e"
             ],
             [
              0.4444444444444444,
              "#bd3786"
             ],
             [
              0.5555555555555556,
              "#d8576b"
             ],
             [
              0.6666666666666666,
              "#ed7953"
             ],
             [
              0.7777777777777778,
              "#fb9f3a"
             ],
             [
              0.8888888888888888,
              "#fdca26"
             ],
             [
              1,
              "#f0f921"
             ]
            ],
            "type": "surface"
           }
          ],
          "table": [
           {
            "cells": {
             "fill": {
              "color": "#EBF0F8"
             },
             "line": {
              "color": "white"
             }
            },
            "header": {
             "fill": {
              "color": "#C8D4E3"
             },
             "line": {
              "color": "white"
             }
            },
            "type": "table"
           }
          ]
         },
         "layout": {
          "annotationdefaults": {
           "arrowcolor": "#2a3f5f",
           "arrowhead": 0,
           "arrowwidth": 1
          },
          "coloraxis": {
           "colorbar": {
            "outlinewidth": 0,
            "ticks": ""
           }
          },
          "colorscale": {
           "diverging": [
            [
             0,
             "#8e0152"
            ],
            [
             0.1,
             "#c51b7d"
            ],
            [
             0.2,
             "#de77ae"
            ],
            [
             0.3,
             "#f1b6da"
            ],
            [
             0.4,
             "#fde0ef"
            ],
            [
             0.5,
             "#f7f7f7"
            ],
            [
             0.6,
             "#e6f5d0"
            ],
            [
             0.7,
             "#b8e186"
            ],
            [
             0.8,
             "#7fbc41"
            ],
            [
             0.9,
             "#4d9221"
            ],
            [
             1,
             "#276419"
            ]
           ],
           "sequential": [
            [
             0,
             "#0d0887"
            ],
            [
             0.1111111111111111,
             "#46039f"
            ],
            [
             0.2222222222222222,
             "#7201a8"
            ],
            [
             0.3333333333333333,
             "#9c179e"
            ],
            [
             0.4444444444444444,
             "#bd3786"
            ],
            [
             0.5555555555555556,
             "#d8576b"
            ],
            [
             0.6666666666666666,
             "#ed7953"
            ],
            [
             0.7777777777777778,
             "#fb9f3a"
            ],
            [
             0.8888888888888888,
             "#fdca26"
            ],
            [
             1,
             "#f0f921"
            ]
           ],
           "sequentialminus": [
            [
             0,
             "#0d0887"
            ],
            [
             0.1111111111111111,
             "#46039f"
            ],
            [
             0.2222222222222222,
             "#7201a8"
            ],
            [
             0.3333333333333333,
             "#9c179e"
            ],
            [
             0.4444444444444444,
             "#bd3786"
            ],
            [
             0.5555555555555556,
             "#d8576b"
            ],
            [
             0.6666666666666666,
             "#ed7953"
            ],
            [
             0.7777777777777778,
             "#fb9f3a"
            ],
            [
             0.8888888888888888,
             "#fdca26"
            ],
            [
             1,
             "#f0f921"
            ]
           ]
          },
          "colorway": [
           "#636efa",
           "#EF553B",
           "#00cc96",
           "#ab63fa",
           "#FFA15A",
           "#19d3f3",
           "#FF6692",
           "#B6E880",
           "#FF97FF",
           "#FECB52"
          ],
          "font": {
           "color": "#2a3f5f"
          },
          "geo": {
           "bgcolor": "white",
           "lakecolor": "white",
           "landcolor": "#E5ECF6",
           "showlakes": true,
           "showland": true,
           "subunitcolor": "white"
          },
          "hoverlabel": {
           "align": "left"
          },
          "hovermode": "closest",
          "mapbox": {
           "style": "light"
          },
          "paper_bgcolor": "white",
          "plot_bgcolor": "#E5ECF6",
          "polar": {
           "angularaxis": {
            "gridcolor": "white",
            "linecolor": "white",
            "ticks": ""
           },
           "bgcolor": "#E5ECF6",
           "radialaxis": {
            "gridcolor": "white",
            "linecolor": "white",
            "ticks": ""
           }
          },
          "scene": {
           "xaxis": {
            "backgroundcolor": "#E5ECF6",
            "gridcolor": "white",
            "gridwidth": 2,
            "linecolor": "white",
            "showbackground": true,
            "ticks": "",
            "zerolinecolor": "white"
           },
           "yaxis": {
            "backgroundcolor": "#E5ECF6",
            "gridcolor": "white",
            "gridwidth": 2,
            "linecolor": "white",
            "showbackground": true,
            "ticks": "",
            "zerolinecolor": "white"
           },
           "zaxis": {
            "backgroundcolor": "#E5ECF6",
            "gridcolor": "white",
            "gridwidth": 2,
            "linecolor": "white",
            "showbackground": true,
            "ticks": "",
            "zerolinecolor": "white"
           }
          },
          "shapedefaults": {
           "line": {
            "color": "#2a3f5f"
           }
          },
          "ternary": {
           "aaxis": {
            "gridcolor": "white",
            "linecolor": "white",
            "ticks": ""
           },
           "baxis": {
            "gridcolor": "white",
            "linecolor": "white",
            "ticks": ""
           },
           "bgcolor": "#E5ECF6",
           "caxis": {
            "gridcolor": "white",
            "linecolor": "white",
            "ticks": ""
           }
          },
          "title": {
           "x": 0.05
          },
          "xaxis": {
           "automargin": true,
           "gridcolor": "white",
           "linecolor": "white",
           "ticks": "",
           "title": {
            "standoff": 15
           },
           "zerolinecolor": "white",
           "zerolinewidth": 2
          },
          "yaxis": {
           "automargin": true,
           "gridcolor": "white",
           "linecolor": "white",
           "ticks": "",
           "title": {
            "standoff": 15
           },
           "zerolinecolor": "white",
           "zerolinewidth": 2
          }
         }
        },
        "xaxis": {
         "anchor": "y",
         "domain": [
          0,
          1
         ],
         "title": {
          "text": "Ponto Ideal"
         }
        },
        "yaxis": {
         "anchor": "x",
         "domain": [
          0,
          1
         ],
         "title": {
          "text": "Tamanho relativo de Seguidores Analisados"
         }
        }
       }
      },
      "text/html": [
       "<div>                            <div id=\"c525bda7-173f-4dbf-a213-364cbeb38210\" class=\"plotly-graph-div\" style=\"height:525px; width:100%;\"></div>            <script type=\"text/javascript\">                require([\"plotly\"], function(Plotly) {                    window.PLOTLYENV=window.PLOTLYENV || {};                                    if (document.getElementById(\"c525bda7-173f-4dbf-a213-364cbeb38210\")) {                    Plotly.newPlot(                        \"c525bda7-173f-4dbf-a213-364cbeb38210\",                        [{\"customdata\": [[\"Rosana Pinheiro-Machado\", \"PSOL\", \"acad\\u00eamico, antrop\\u00f3logo, jornalista, professor\"], [\"Abraham Weintraub\", \"\", \"pol\\u00edtico\"], [\"Ailton Benedito\", \"\", \"procurador da rep\\u00fablica\"], [\"Davy Albuquerque\", \"Republicanos\", \"jornalista\"], [\"Al\\u00ea Silva \\ud83c\\udde7\\ud83c\\uddf7 nem lugar na fila eu quero\\ud83c\\udde7\\ud83c\\uddf7\", \"PSL\", \"pol\\u00edtico\"], [\"Alexandre Aleluia\", \"Democratas\", \"pol\\u00edtico\"], [\"Alexandre Garcia\", \"\", \"jornalista, youtuber\"], [\"Aline Barros\", \"\", \"m\\u00fasico, religioso, escritor, empres\\u00e1rio\"], [\"Amanda Audi\", \"\", \"jornalista\"], [\"Ana Paula Valad\\u00e3o Bessa\", \"\", \"m\\u00fasico, religioso, escritor\"], [\"Ana Paula Henkel\", \"\", \"esportista, jornalista\"], [\"Andr\\u00e9 Fernandes\", \"Republicanos\", \"pol\\u00edtico, jornalista, youtuber\"], [\"Andre Valadao\", \"\", \"m\\u00fasico, religioso\"], [\"Antonia Pellegrino\", \"PSOL\", \"diretor, produtor, escritor, roteirista\"], [\"Arthur Weintraub\", \"\", \"acad\\u00eamico\"], [\"Bia Kicis\", \"PSL\", \"procurador da rep\\u00fablica, pol\\u00edtico, advogado, youtuber\"], [\"Bibo Nunes\", \"PSL\", \"pol\\u00edtico, empres\\u00e1rio, jornalista\"], [\"Edir Macedo\", \"\", \"religioso, pastor evang\\u00e9lico\"], [\"Blogueiras Feministas\", \"\", \"m\\u00eddia, feminista\"], [\"Eduardo Bolsonaro\", \"PSL\", \"pol\\u00edtico, policial federal, advogado\"], [\"Brasil Paralelo\", \"\", \"m\\u00eddia, pol\\u00edtico\"], [\"Fam\\u00edliaDireitaBrasil\", \"\", \"m\\u00eddia, pol\\u00edtico\"], [\"Eliane Brum\", \"\", \"jornalista, escritor, documentarista\"], [\"Bruna Karla\", \"\", \"m\\u00fasico, religioso\"], [\"Bruno Engler\", \"PRTB\", \"pol\\u00edtico\"], [\"Junio Amaral\", \"PSL\", \"pol\\u00edtico, militar\"], [\"Capit\\u00e3o Derrite\", \"Progressistas\", \"militar, pol\\u00edtico\"], [\"Carina Vitral\", \"PCdoB\", \"pol\\u00edtico\"], [\"Carla Zambelli\", \"PSL\", \"pol\\u00edtico, escritor\"], [\"Carlos Viana\", \"PSD\", \"pol\\u00edtico, jornalista\"], [\"Carlos Bolsonaro\", \"Republicanos\", \"pol\\u00edtico\"], [\"Carlos Jordy\", \"PSL\", \"pol\\u00edtico, turism\\u00f3logo, servidor p\\u00fablico\"], [\"Carmelo Neto\", \"Republicanos\", \"pol\\u00edtico\"], [\"Caroline De Toni\", \"PSL\", \"pol\\u00edtico, advogado\"], [\"Gil Diniz\", \"PSL\", \"pol\\u00edtico, servidor p\\u00fablico\"], [\"Clara Averbuck\", \"PT\", \"jornalista, escritor\"], [\"Clau de Luca\", \"PRTB\", \"publicit\\u00e1rio, m\\u00fasico\"], [\"Conex\\u00e3o Pol\\u00edtica\", \"\", \"m\\u00eddia, pol\\u00edtico\"], [\"Cris Bartis\", \"\", \"podcaster, jornalista\"], [\"Cr\\u00edtica Nacional\", \"\", \"m\\u00eddia, pol\\u00edtico\"], [\"cynara menezes\", \"\", \"jornalista, blogueiro, escritor\"], [\"Damares Alves\", \"Progressistas\", \"pol\\u00edtico, religioso, advogado\"], [\"Daniel Silveira\", \"PTB\", \"pol\\u00edtico, militar\"], [\"David M. Quinlan\", \"\", \"m\\u00fasico, religioso\"], [\"Debora Diniz\", \"\", \"antrop\\u00f3logo, acad\\u00eamico, pesquisador, professor, escritor, documentarista\"], [\"Debora Baldin\", \"\", \"podcaster, youtuber\"], [\"Bruna de Lara\", \"\", \"jornalista, escritor\"], [\"Helio Lopes\", \"PSL\", \"militar, pol\\u00edtico\"], [\"Professora Dayane Pimentel\", \"PSL\", \"pol\\u00edtico, professor\"], [\"Caneta Desesquerdizadora\", \"\", \"m\\u00eddia, conservador\"], [\"Daniel Freitas\", \"PSL\", \"pol\\u00edtico, empres\\u00e1rio\"], [\"Direita Goi\\u00e1s\", \"\", \"coletivo, pol\\u00edtico\"], [\"Direita Minas\", \"\", \"coletivo, pol\\u00edtico\"], [\"Dom\", \"Republicanos\", \"influencer, pol\\u00edtico\"], [\"Douglas Garcia\", \"PTB\", \"pol\\u00edtico\"], [\"Dra. Soraya Manato\", \"PSL\", \"m\\u00e9dico, pol\\u00edtico\"], [\"Delegado \\u00c9der Mauro\", \"PSD\", \"pol\\u00edtico, delegado\"], [\"Edson Salom\\u00e3o\", \"PRTB\", \"pol\\u00edtico, youtuber\"], [\"Elika Takimoto\", \"PT\", \"pol\\u00edtico, acad\\u00eamico, escritor, professor\"], [\"Erika Kokay\", \"PT\", \"psic\\u00f3logo, pol\\u00edtico, banc\\u00e1rio, sindicalista\"], [\"Ernesto Ara\\u00fajo\", \"\", \"pol\\u00edtico, diplomata, embaixador\"], [\"Escola sem Partido\", \"\", \"coletivo, pol\\u00edtico\"], [\"MBC \\u2013 Movimento Brasil Conservador\", \"\", \"coletivo, pol\\u00edtico\"], [\"Fabiana Barroso\", \"Patriota\", \"advogado\"], [\"Cida Falabella\", \"PSOL\", \"ator, diretor, professor , pol\\u00edtico\"], [\"Felipe C. Pedri\", \"\", \"pol\\u00edtico, publicit\\u00e1rio\"], [\"Fernanda Barth vereadora\", \"PRTB\", \"cientista pol\\u00edtico, jornalista, pol\\u00edtico\"], [\"Fernanda Melchionna\", \"PSOL\", \"bibliotec\\u00e1rio, banc\\u00e1rio, pol\\u00edtico\"], [\"Fernando Holiday\", \"Patriota\", \"pol\\u00edtico\"], [\"Felipe Francischini\", \"PSL\", \"pol\\u00edtico, advogado\"], [\"Filipe G. Martins\", \"\", \"professor, pol\\u00edtico\"], [\"Filipe Barros\", \"PSL\", \"pol\\u00edtico, advogado\"], [\"Fl\\u00e1via Oliveira\", \"\", \"jornalista, podcaster\"], [\"Flavio Bolsonaro\", \"Republicanos\", \"pol\\u00edtico, advogado, empres\\u00e1rio\"], [\"Gabi Coelho\", \"\", \"jornalista, universit\\u00e1rio, podcaster, produtor\"], [\"Sonia Guajajara\", \"PSOL\", \"pol\\u00edtico, ativista ind\\u00edgena, enfermeiro\"], [\"Heitor Freire\", \"PSL\", \"pol\\u00edtico\"], [\"Deputada Isa Penna #VacinaJ\\u00e1\", \"PSOL\", \"pol\\u00edtico, ativista ecossocialista, advogado\"], [\"Jair M. Bolsonaro\", \"PSL\", \"pol\\u00edtico, militar\"], [\"Jandira Feghali\", \"PCdoB\", \"m\\u00e9dico, pol\\u00edtico, sindicalista\"], [\"Margarida Salom\\u00e3o\", \"PT\", \"acad\\u00eamico, professor, sindicalista, pol\\u00edtico\"], [\"Brasil Sem Medo\", \"\", \"m\\u00eddia, pol\\u00edtico\"], [\"JOS\\u00c9 MEDEIROS\", \"Podemos\", \"pol\\u00edtico, policial rodovi\\u00e1rio, professor, matem\\u00e1tico\"], [\"Jout Jout\", \"\", \"escritor, jornalista, youtuber\"], [\"Joanna Maranh\\u00e3o\", \"PSOL\", \"esportista\"], [\"Ju Wallauer\", \"\", \"podcaster, jornalista\"], [\"Kim Kataguiri\", \"Democratas\", \"pol\\u00edtico\"], [\"Laura Carvalho\", \"\", \"economista, acad\\u00eamico, escritor, podcaster\"], [\"Leandro Ruschel\", \"\", \"empreendedor, escritor, investidor, youtuber\"], [\"Leticia Aguiar\", \"PSL\", \"pol\\u00edtico\"], [\"Lola Aronovich\", \"\", \"acad\\u00eamico, blogueiro, professor\"], [\"Italo Lorenzon\", \"\", \"jornalista\"], [\"louie ponto\", \"\", \"youtuber, ativista l\\u00e9sbica\"], [\"Luciana Boiteux\", \"PSOL\", \"advogado, acad\\u00eamico, professor, pol\\u00edtico\"], [\"Luciana Genro\", \"PSOL\", \"pol\\u00edtico, advogado\"], [\"Luiza Erundina\", \"PSOL\", \"pol\\u00edtico, assistente social\"], [\"LUIZ CAMARGO vlog\", \"\", \"youtuber\"], [\"magno malta\", \"PL\", \"pol\\u00edtico, religioso, m\\u00fasico\"], [\"V\\u00edtor Hugo\", \"PSL\", \"pol\\u00edtico, militar, advogado\"], [\"Manuela Barem\", \"\", \"jornalista\"], [\"Manuela\", \"PCdoB\", \"pol\\u00edtico, escritor, jornalista\"], [\"Marcel van Hattem\", \"NOVO\", \"cientista pol\\u00edtico, jornalista, pol\\u00edtico\"], [\"marcia tiburi\", \"PT\", \"fil\\u00f3sofo, acad\\u00eamico, professor, artista, escritor\"], [\"Marcio Labre Oficial\", \"PSL\", \"pol\\u00edtico, youtuber, empres\\u00e1rio , jornalista\"], [\"Mar\\u00edlia Arraes\", \"PT\", \"pol\\u00edtico, advogado\"], [\"Mar\\u00edlia Moscou\", \"PCB\", \"acad\\u00eamico, escritor, professor, cientista social\"], [\"MARISA LOBO-Supl.Dep.Federal\", \"Avante\", \"pol\\u00edtico, psic\\u00f3logo, religioso\"], [\"Maur\\u00edcio Costa\", \"\", \"jornalista, podcaster\"], [\"Movimento Avan\\u00e7a Brasil\", \"\", \"coletivo, pol\\u00edtico\"], [\"MBL - Movimento Brasil Livre\", \"\", \"coletivo, pol\\u00edtico\"], [\"Marcelo Crivella\", \"Republicanos\", \"pol\\u00edtico, engenheiro, m\\u00fasico, escritor, religioso\"], [\"Milly Lacombe\", \"\", \"ativista l\\u00e9sbica, jornalista, escritor, roteirista\"], [\"Monica Benicio\", \"\", \"arquiteto, urbanista, ativista l\\u00e9sbica, pol\\u00edtico\"], [\"M\\u00f4nica Bergamo\", \"\", \"jornalista\"], [\"N\\u00e3o Me Kahlo\", \"\", \"coletivo, m\\u00eddia, feminista\"], [\"Nat\\u00e1lia Bonavides\", \"PT\", \"pol\\u00edtico, advogado\"], [\"Olavo de Carvalho\", \"\", \"fil\\u00f3sofo, escritor, jornalista, professor\"], [\"ONU Mulheres Brasil\", \"\", \"coletivo, m\\u00eddia, feminista\"], [\"Onyx Lorenzoni\", \"Democratas\", \"pol\\u00edtico, veterin\\u00e1rio, empres\\u00e1rio\"], [\"Otoni de Paula\", \"PSC\", \"pol\\u00edtico, religioso\"], [\"Padre Paulo Ricardo\", \"\", \"religioso, youtuber, professor, radialista\"], [\"Paola Carosella\", \"\", \"cozinheiro, chef, empres\\u00e1rio\"], [\"\\u262dLisa D\\u00e9bora Perp\\u00e9tua da Fa\\u00edsca\", \"\", \"ativista l\\u00e9sbica\"], [\"Liomar de Oliveira\", \"Republicanos\", \"pol\\u00edtico, religioso\"], [\"Silas Malafaia\", \"\", \"religioso, psic\\u00f3logo, te\\u00f3logo\"], [\"Paulo A. Briguet\", \"\", \"jornalista, escritor\"], [\"paulo eneas\", \"\", \"jornalista\"], [\"Paulo Eduardo Martins\", \"PSC\", \"jornalista, pol\\u00edtico\"], [\"Perp\\u00e9tua Almeida\", \"PCdoB\", \"professor, banc\\u00e1rio , pol\\u00edtico\"], [\"Petra Costa\", \"\", \"cineasta, diretor\"], [\"Fernanda Brum\", \"\", \"m\\u00fasico, religioso, escritor, ator\"], [\"Paula Marisa\", \"PRTB\", \"jornalista, professor\"], [\"Partido Social Liberal - PSL\", \"\", \"partido, pol\\u00edtico\"], [\"Rodrigo Constantino\", \"\", \"economista, jornalista\"], [\"Fernanda Salles\", \"\", \"jornalista, youtuber\"], [\"Revista AzMina\", \"\", \"m\\u00eddia, feminista\"], [\"Rita Lisauskas\", \"\", \"jornalista, blogueiro\"], [\"Rog\\u00e9rio Marinho\", \"PSDB\", \"pol\\u00edtico, economista\"], [\"Sabrina Fernandes\", \"PSOL\", \"cientista social, acad\\u00eamico, escritor, youtuber, ativista ecossocialista, professor, podcaster\"], [\"S\\u00e2mia Bomfim\", \"PSOL\", \"pol\\u00edtico, servidor p\\u00fablico\"], [\"Sarita Coelho\", \"\", \"jornalista, servidor p\\u00fablico\"], [\"Senso Incomum\", \"\", \"m\\u00eddia, pol\\u00edtico\"], [\"S\\u00e9rgio Camargo\", \"\", \"pol\\u00edtico, jornalista\"], [\"Alian\\u00e7a pelo Brasil\", \"\", \"coletivo, pol\\u00edtico\"], [\"Tamires De Paula\", \"PSL\", \"influencer\"], [\"TeAtualizei\", \"\", \"youtuber\"], [\"Tatiana Roque\", \"PSOL\", \"acad\\u00eamico, professor, matem\\u00e1tico, youtuber\"], [\"Tenente Santini\", \"Progressistas\", \"policial militar, pol\\u00edtico, empres\\u00e1rio\"], [\"Portal Ter\\u00e7a Livre\", \"\", \"m\\u00eddia, pol\\u00edtico\"], [\"Tese Onze\", \"\", \"m\\u00eddia, pol\\u00edtico, ecossocialista\"], [\"Chris Tonietto\", \"PSL\", \"pol\\u00edtico, advogado\"]], \"hovertemplate\": \"Classifica\\u00e7\\u00f5es=%{customdata[2]}<br>Ponto Ideal=%{x}<br>Tamanho relativo de Seguidores Analisados=%{y}<br>Nome=%{customdata[0]}<br>Partido=%{customdata[1]}<extra></extra>\", \"legendgroup\": \"N\\u00e3o Negra e N\\u00e3o Trans\", \"marker\": {\"color\": \"lightgrey\", \"symbol\": \"circle\"}, \"mode\": \"markers\", \"name\": \"N\\u00e3o Negra e N\\u00e3o Trans\", \"orientation\": \"v\", \"showlegend\": true, \"type\": \"scatter\", \"x\": [-1.3834799999999998, 1.5077450000000001, 1.547544, 1.555408, 1.538618, 1.5921040000000002, 1.115909, 0.062928, -1.3184209999999998, 0.05396, 1.123759, 1.404835, 0.22532, -1.448386, 1.569364, 1.5002959999999999, 1.442361, 0.131298, -1.823219, 0.966274, 1.306806, 1.403122, -1.401738, 0.021424000000000002, 1.549531, 1.415577, 1.362441, -1.321101, 1.184482, 0.513835, 1.058905, 1.611404, 1.45997, 1.564577, 1.636417, -1.618628, 1.409497, 1.252818, -1.670168, 1.517881, -1.3220610000000002, 1.149155, 1.514535, 0.114927, -1.521974, -2.0058119999999997, -1.385043, 1.478428, 0.604191, 0.6285350000000001, 1.3864889999999999, 1.18195, 1.3503610000000001, 1.5517100000000001, 1.83152, 1.214076, 1.439951, 1.814844, -1.450352, -1.1654, 1.096643, 1.135365, 1.511924, 1.5347680000000001, -1.59273, 1.764806, 1.565589, -1.324394, 0.303846, 0.9688700000000001, 1.4221409999999999, 1.659356, -1.326052, 0.770213, -1.8704740000000002, -1.575197, 0.979309, -1.432304, 1.017907, -1.201901, -1.142013, 1.675497, 1.070514, -1.951114, -1.466502, -1.662236, 0.20044, -1.328849, 1.235371, 1.394875, -1.515064, 1.595204, -2.2264909999999998, -1.584902, -1.2614809999999999, -1.320881, 1.786427, 0.834892, 1.317431, -1.650467, -1.343015, 0.878639, -1.389608, 1.497774, -1.225918, -1.8225740000000001, 0.7435970000000001, 1.21685, 1.313536, 0.201953, 0.371843, -1.467044, -1.6855259999999999, -0.9054459999999999, -1.872436, -1.3322379999999998, 0.861183, -1.490895, 0.916351, 1.573821, 1.035599, -1.376681, -1.278515, 1.281867, 0.511582, 1.595725, 1.8136860000000001, 1.153463, -1.176082, -1.4258629999999999, 0.067284, 1.7587720000000002, 0.5743699999999999, 1.125796, 1.7270279999999998, -1.781304, -1.288384, 1.054836, -1.6520029999999999, -1.4454209999999998, 1.533498, 1.137893, 1.684748, 1.443481, 1.3362100000000001, 1.808327, -1.430445, 1.450986, 1.531937, -1.822257, 1.453762], \"xaxis\": \"x\", \"y\": [0.12203037399069153, 0.4255225084291225, 0.1676885257051799, 0.10108631227105337, 0.09143290224161217, 0.028474401702342663, 0.6397145272403976, 0.22040090558411146, 0.12781659006772447, 0.15603836100935706, 0.3817153628652215, 0.10681908722562843, 0.15400759835595673, 0.02789626592302535, 0.2884606041761808, 0.32190017198324866, 0.09804502657481272, 0.04714964485944985, 0.041096223170127386, 0.6060709115112177, 0.15313310726119106, 0.11556399817328526, 0.15653876424691743, 0.12476072951990438, 0.03533915679625329, 0.06602893593866903, 0.08325641050555302, 0.02843553543146419, 0.40376225502103635, 0.02282421757338438, 0.5799867854679013, 0.22025029878445737, 0.09941506262327895, 0.20786167494194352, 0.14761895508030742, 0.06019413702303798, 0.039050885665147646, 0.29618527551327767, 0.04170836693646336, 0.089577037807165, 0.15410476403315293, 0.41589338981898033, 0.09225395221391995, 0.09479969295646005, 0.13290807155280468, 0.04173265835576241, 0.07191231769289816, 0.19406900706394473, 0.03450839025622589, 0.17010309278350516, 0.025117327555214397, 0.016003187034212035, 0.03229787110001263, 0.043316458894060265, 0.16764965943430143, 0.02377644120990701, 0.06670423739518253, 0.049539920518476055, 0.12558177949221216, 0.11236724739353071, 0.3413381657063459, 0.10672677983229203, 0.13506514958656005, 0.11002555457310259, 0.027016916544399857, 0.058046775557002245, 0.01725176598618304, 0.08977136916155737, 0.14545701876269226, 0.07657141191445534, 0.23924618867631198, 0.20091918730627592, 0.14395580905001118, 0.4880631965564484, 0.022076041858973737, 0.08125965583917137, 0.02052624930769455, 0.025666313631372853, 1.0, 0.21285113246596774, 0.049729393589008616, 0.18167552493757105, 0.0817940670637504, 0.15431367023912473, 0.1142328283956975, 0.04618770465520759, 0.24526074409475596, 0.1460983122321871, 0.22646404384115354, 0.02676914406754958, 0.12662631052207118, 0.1496740091530068, 0.09441588853153512, 0.01849548665429424, 0.1410068307471069, 0.15352662825383562, 0.07161110409358998, 0.28190192096543815, 0.14442220430055286, 0.04531807184430172, 0.4900308015196712, 0.20949405831883947, 0.09316730957956411, 0.0669520098720328, 0.03116103267681724, 0.02380073262920606, 0.05239173314418415, 0.07688720036534295, 0.03746708512684979, 0.22672639116958326, 0.05043384474868098, 0.048014419386495914, 0.0506038846837743, 0.3855582653983307, 0.06543136702391247, 0.047999844534916486, 0.36502715780677636, 0.022396688593721154, 0.3221770941632578, 0.08234305313990886, 0.07372445757260705, 0.425153278855777, 0.030757795116453063, 0.04043549656519331, 0.23752149790607965, 0.04355451480319092, 0.04303953671405113, 0.16691120028761042, 0.016668771923005917, 0.1819087225628419, 0.18511033162645626, 0.1660755754637232, 0.1031753743307714, 0.2788557769853377, 0.13437527327846713, 0.02403393025447691, 0.07792687311134215, 0.08551065421650456, 0.16502132786614457, 0.2622695958879485, 0.024281702731327185, 0.14763352993188686, 0.15513472021143251, 0.20403820554427354, 0.04118853056346376, 0.20278476830844272, 0.03656344432892525, 0.016216951524043646, 0.23860975349067695, 0.02691975086720367, 0.04485653487761983], \"yaxis\": \"y\"}, {\"customdata\": [[\"Andreza\", \"\", \"ativista negro, produtor cultural, youtuber, podcaster, jornalista\"], [\"Anielle Franco\", \"\", \"professor, jornalista, escritor, ativista negro\"], [\"\\u00c1urea Carolina\", \"PSOL\", \"pol\\u00edtico, ativista negro, acad\\u00eamico, cientista social\"], [\"Isabela Reis\", \"\", \"jornalista, ativista negro, podcaster, escritor\"], [\"Blogueiras Negras\", \"\", \"m\\u00eddia, negro\"], [\"Dani Monteiro\", \"PSOL\", \"ativista negro, pol\\u00edtico\"], [\"Benedita da Silva\", \"PT\", \"pol\\u00edtico, professor, servidor p\\u00fablico, assistente social, auxiliar de enfermagem\"], [\"Elza Soares\", \"\", \"ativista negro, m\\u00fasico\"], [\"ERIKA HILTON\", \"PSOL\", \"ativista negro, pol\\u00edtico, ativista trans\"], [\"gabrielle\", \"\", \"podcaster\"], [\"Geled\\u00e9s Instituto da Mulher Negra\", \"\", \"m\\u00eddia, negro\"], [\"Bia Ferreira\", \"\", \"m\\u00fasico, ativista negro, ativista l\\u00e9sbica\"], [\"Instituto Marielle Franco\", \"\", \"organiza\\u00e7\\u00e3o, negro\"], [\"Suzane Jardim\", \"\", \"historiador, acad\\u00eamico, ativista negro\"], [\"Jurema Werneck\", \"\", \"ativista negro, m\\u00e9dico, acad\\u00eamico\"], [\"Laerte Coutinho\", \"\", \"quadrinista, ativista trans\"], [\"Leci Brand\\u00e3o\", \"PCdoB\", \"pol\\u00edtico, m\\u00fasico\"], [\"Let\\u00edcia Parks\", \"\", \"professor, pol\\u00edtico\"], [\"Linn da Quebrada\", \"\", \"artista, ativista negro, ativista trans, ator, roteirista, jornalista, m\\u00fasico\"], [\"negaluy\", \"\", \"ativista negro\"], [\"Erica Malunguinho\", \"PSOL\", \"ativista negro, pol\\u00edtico, ativista trans, artista, professor\"], [\"MC Carol\", \"PCdoB\", \"m\\u00fasico\"], [\"M\\u00f4nica Francisco\", \"PSOL\", \"ativista negro, religioso, pastor evang\\u00e9lico, pol\\u00edtico, cientista social\"], [\"Monica Seixas\", \"PSOL\", \"pol\\u00edtico, ativista negro, ativista ecossocialista, jornalista, redator\"], [\"Preta Ijim\\u00fa\", \"\", \"acad\\u00eamico, cientista pol\\u00edtico, podcaster, ativista negro, professor\"], [\"N\\u00e1taly Neri\", \"\", \"ativista negro, cientista social, ativista vegano, youtuber\"], [\"Renata Souza\", \"PSOL\", \"acad\\u00eamico, jornalista, pol\\u00edtico, ativista negro\"], [\"Sueli Carneiro\", \"\", \"acad\\u00eamico, ativista negro, fil\\u00f3sofo, escritor\"], [\"Tal\\u00edria Petrone\", \"PSOL\", \"pol\\u00edtico, professor, historiador, ativista negro\"], [\"Tati Nefertari\", \"\", \"universit\\u00e1rio, ativista negro\"], [\"Ana Flor\", \"\", \"ativista trans, pedagogo, acad\\u00eamico\"], [\"Sher Machado\", \"\", \"ativista trans, ativista negro, f\\u00edsico, streamer\"], [\"Bueno.\", \"\", \"acad\\u00eamico, ativista negro\"]], \"hovertemplate\": \"Classifica\\u00e7\\u00f5es=%{customdata[2]}<br>Ponto Ideal=%{x}<br>Tamanho relativo de Seguidores Analisados=%{y}<br>Nome=%{customdata[0]}<br>Partido=%{customdata[1]}<extra></extra>\", \"legendgroup\": \"Negra ou Trans\", \"marker\": {\"color\": \"#000000\", \"symbol\": \"circle\"}, \"mode\": \"markers\", \"name\": \"Negra ou Trans\", \"orientation\": \"v\", \"showlegend\": true, \"type\": \"scatter\", \"x\": [-2.251423, -1.7380330000000002, -1.5805360000000002, -2.045617, -2.020968, -1.656366, -1.298902, -1.761039, -2.031606, -2.184599, -1.952359, -2.254809, -1.788807, -2.0657959999999997, -1.9856779999999998, -1.590255, -1.429151, -2.03648, -2.265995, -2.011198, -2.0100279999999997, -2.021261, -1.680734, -1.518306, -2.17928, -2.436118, -1.6349790000000002, -2.045003, -1.569423, -2.256308, -2.4336759999999997, -2.4905150000000003, -2.089623], \"xaxis\": \"x\", \"y\": [0.06750099594819126, 0.09012116559946365, 0.07740703673834255, 0.034246042927796184, 0.03672862598015877, 0.025855786701905418, 0.07657141191445534, 0.06256012126276514, 0.019136780123789072, 0.03259908469932081, 0.0467075410282072, 0.04205330509050983, 0.060330168971112645, 0.019355402897480493, 0.01696026895459448, 0.21208838189997764, 0.02585092841804561, 0.024461459234140132, 0.10051303477559587, 0.02622501627525093, 0.03559178755696338, 0.08840619139695094, 0.030203950756434797, 0.02568088848295228, 0.04305896984949037, 0.14981004110108145, 0.04666867475732872, 0.03448895712078665, 0.1942001807281596, 0.05598200491658327, 0.03101528416102296, 0.022066325291254116, 0.11351866066830553], \"yaxis\": \"y\"}],                        {\"legend\": {\"title\": {\"text\": \"Classifica\\u00e7\\u00f5es\"}, \"tracegroupgap\": 0}, \"margin\": {\"t\": 60}, \"template\": {\"data\": {\"bar\": [{\"error_x\": {\"color\": \"#2a3f5f\"}, \"error_y\": {\"color\": \"#2a3f5f\"}, \"marker\": {\"line\": {\"color\": \"#E5ECF6\", \"width\": 0.5}}, \"type\": \"bar\"}], \"barpolar\": [{\"marker\": {\"line\": {\"color\": \"#E5ECF6\", \"width\": 0.5}}, \"type\": \"barpolar\"}], \"carpet\": [{\"aaxis\": {\"endlinecolor\": \"#2a3f5f\", \"gridcolor\": \"white\", \"linecolor\": \"white\", \"minorgridcolor\": \"white\", \"startlinecolor\": \"#2a3f5f\"}, \"baxis\": {\"endlinecolor\": \"#2a3f5f\", \"gridcolor\": \"white\", \"linecolor\": \"white\", \"minorgridcolor\": \"white\", \"startlinecolor\": \"#2a3f5f\"}, \"type\": \"carpet\"}], \"choropleth\": [{\"colorbar\": {\"outlinewidth\": 0, \"ticks\": \"\"}, \"type\": \"choropleth\"}], \"contour\": [{\"colorbar\": {\"outlinewidth\": 0, \"ticks\": \"\"}, \"colorscale\": [[0.0, \"#0d0887\"], [0.1111111111111111, \"#46039f\"], [0.2222222222222222, \"#7201a8\"], [0.3333333333333333, \"#9c179e\"], [0.4444444444444444, \"#bd3786\"], [0.5555555555555556, \"#d8576b\"], [0.6666666666666666, \"#ed7953\"], [0.7777777777777778, \"#fb9f3a\"], [0.8888888888888888, \"#fdca26\"], [1.0, \"#f0f921\"]], \"type\": \"contour\"}], \"contourcarpet\": [{\"colorbar\": {\"outlinewidth\": 0, \"ticks\": \"\"}, \"type\": \"contourcarpet\"}], \"heatmap\": [{\"colorbar\": {\"outlinewidth\": 0, \"ticks\": \"\"}, \"colorscale\": [[0.0, \"#0d0887\"], [0.1111111111111111, \"#46039f\"], [0.2222222222222222, \"#7201a8\"], [0.3333333333333333, \"#9c179e\"], [0.4444444444444444, \"#bd3786\"], [0.5555555555555556, \"#d8576b\"], [0.6666666666666666, \"#ed7953\"], [0.7777777777777778, \"#fb9f3a\"], [0.8888888888888888, \"#fdca26\"], [1.0, \"#f0f921\"]], \"type\": \"heatmap\"}], \"heatmapgl\": [{\"colorbar\": {\"outlinewidth\": 0, \"ticks\": \"\"}, \"colorscale\": [[0.0, \"#0d0887\"], [0.1111111111111111, \"#46039f\"], [0.2222222222222222, \"#7201a8\"], [0.3333333333333333, \"#9c179e\"], [0.4444444444444444, \"#bd3786\"], [0.5555555555555556, \"#d8576b\"], [0.6666666666666666, \"#ed7953\"], [0.7777777777777778, \"#fb9f3a\"], [0.8888888888888888, \"#fdca26\"], [1.0, \"#f0f921\"]], \"type\": \"heatmapgl\"}], \"histogram\": [{\"marker\": {\"colorbar\": {\"outlinewidth\": 0, \"ticks\": \"\"}}, \"type\": \"histogram\"}], \"histogram2d\": [{\"colorbar\": {\"outlinewidth\": 0, \"ticks\": \"\"}, \"colorscale\": [[0.0, \"#0d0887\"], [0.1111111111111111, \"#46039f\"], [0.2222222222222222, \"#7201a8\"], [0.3333333333333333, \"#9c179e\"], [0.4444444444444444, \"#bd3786\"], [0.5555555555555556, \"#d8576b\"], [0.6666666666666666, \"#ed7953\"], [0.7777777777777778, \"#fb9f3a\"], [0.8888888888888888, \"#fdca26\"], [1.0, \"#f0f921\"]], \"type\": \"histogram2d\"}], \"histogram2dcontour\": [{\"colorbar\": {\"outlinewidth\": 0, \"ticks\": \"\"}, \"colorscale\": [[0.0, \"#0d0887\"], [0.1111111111111111, \"#46039f\"], [0.2222222222222222, \"#7201a8\"], [0.3333333333333333, \"#9c179e\"], [0.4444444444444444, \"#bd3786\"], [0.5555555555555556, \"#d8576b\"], [0.6666666666666666, \"#ed7953\"], [0.7777777777777778, \"#fb9f3a\"], [0.8888888888888888, \"#fdca26\"], [1.0, \"#f0f921\"]], \"type\": \"histogram2dcontour\"}], \"mesh3d\": [{\"colorbar\": {\"outlinewidth\": 0, \"ticks\": \"\"}, \"type\": \"mesh3d\"}], \"parcoords\": [{\"line\": {\"colorbar\": {\"outlinewidth\": 0, \"ticks\": \"\"}}, \"type\": \"parcoords\"}], \"pie\": [{\"automargin\": true, \"type\": \"pie\"}], \"scatter\": [{\"marker\": {\"colorbar\": {\"outlinewidth\": 0, \"ticks\": \"\"}}, \"type\": \"scatter\"}], \"scatter3d\": [{\"line\": {\"colorbar\": {\"outlinewidth\": 0, \"ticks\": \"\"}}, \"marker\": {\"colorbar\": {\"outlinewidth\": 0, \"ticks\": \"\"}}, \"type\": \"scatter3d\"}], \"scattercarpet\": [{\"marker\": {\"colorbar\": {\"outlinewidth\": 0, \"ticks\": \"\"}}, \"type\": \"scattercarpet\"}], \"scattergeo\": [{\"marker\": {\"colorbar\": {\"outlinewidth\": 0, \"ticks\": \"\"}}, \"type\": \"scattergeo\"}], \"scattergl\": [{\"marker\": {\"colorbar\": {\"outlinewidth\": 0, \"ticks\": \"\"}}, \"type\": \"scattergl\"}], \"scattermapbox\": [{\"marker\": {\"colorbar\": {\"outlinewidth\": 0, \"ticks\": \"\"}}, \"type\": \"scattermapbox\"}], \"scatterpolar\": [{\"marker\": {\"colorbar\": {\"outlinewidth\": 0, \"ticks\": \"\"}}, \"type\": \"scatterpolar\"}], \"scatterpolargl\": [{\"marker\": {\"colorbar\": {\"outlinewidth\": 0, \"ticks\": \"\"}}, \"type\": \"scatterpolargl\"}], \"scatterternary\": [{\"marker\": {\"colorbar\": {\"outlinewidth\": 0, \"ticks\": \"\"}}, \"type\": \"scatterternary\"}], \"surface\": [{\"colorbar\": {\"outlinewidth\": 0, \"ticks\": \"\"}, \"colorscale\": [[0.0, \"#0d0887\"], [0.1111111111111111, \"#46039f\"], [0.2222222222222222, \"#7201a8\"], [0.3333333333333333, \"#9c179e\"], [0.4444444444444444, \"#bd3786\"], [0.5555555555555556, \"#d8576b\"], [0.6666666666666666, \"#ed7953\"], [0.7777777777777778, \"#fb9f3a\"], [0.8888888888888888, \"#fdca26\"], [1.0, \"#f0f921\"]], \"type\": \"surface\"}], \"table\": [{\"cells\": {\"fill\": {\"color\": \"#EBF0F8\"}, \"line\": {\"color\": \"white\"}}, \"header\": {\"fill\": {\"color\": \"#C8D4E3\"}, \"line\": {\"color\": \"white\"}}, \"type\": \"table\"}]}, \"layout\": {\"annotationdefaults\": {\"arrowcolor\": \"#2a3f5f\", \"arrowhead\": 0, \"arrowwidth\": 1}, \"coloraxis\": {\"colorbar\": {\"outlinewidth\": 0, \"ticks\": \"\"}}, \"colorscale\": {\"diverging\": [[0, \"#8e0152\"], [0.1, \"#c51b7d\"], [0.2, \"#de77ae\"], [0.3, \"#f1b6da\"], [0.4, \"#fde0ef\"], [0.5, \"#f7f7f7\"], [0.6, \"#e6f5d0\"], [0.7, \"#b8e186\"], [0.8, \"#7fbc41\"], [0.9, \"#4d9221\"], [1, \"#276419\"]], \"sequential\": [[0.0, \"#0d0887\"], [0.1111111111111111, \"#46039f\"], [0.2222222222222222, \"#7201a8\"], [0.3333333333333333, \"#9c179e\"], [0.4444444444444444, \"#bd3786\"], [0.5555555555555556, \"#d8576b\"], [0.6666666666666666, \"#ed7953\"], [0.7777777777777778, \"#fb9f3a\"], [0.8888888888888888, \"#fdca26\"], [1.0, \"#f0f921\"]], \"sequentialminus\": [[0.0, \"#0d0887\"], [0.1111111111111111, \"#46039f\"], [0.2222222222222222, \"#7201a8\"], [0.3333333333333333, \"#9c179e\"], [0.4444444444444444, \"#bd3786\"], [0.5555555555555556, \"#d8576b\"], [0.6666666666666666, \"#ed7953\"], [0.7777777777777778, \"#fb9f3a\"], [0.8888888888888888, \"#fdca26\"], [1.0, \"#f0f921\"]]}, \"colorway\": [\"#636efa\", \"#EF553B\", \"#00cc96\", \"#ab63fa\", \"#FFA15A\", \"#19d3f3\", \"#FF6692\", \"#B6E880\", \"#FF97FF\", \"#FECB52\"], \"font\": {\"color\": \"#2a3f5f\"}, \"geo\": {\"bgcolor\": \"white\", \"lakecolor\": \"white\", \"landcolor\": \"#E5ECF6\", \"showlakes\": true, \"showland\": true, \"subunitcolor\": \"white\"}, \"hoverlabel\": {\"align\": \"left\"}, \"hovermode\": \"closest\", \"mapbox\": {\"style\": \"light\"}, \"paper_bgcolor\": \"white\", \"plot_bgcolor\": \"#E5ECF6\", \"polar\": {\"angularaxis\": {\"gridcolor\": \"white\", \"linecolor\": \"white\", \"ticks\": \"\"}, \"bgcolor\": \"#E5ECF6\", \"radialaxis\": {\"gridcolor\": \"white\", \"linecolor\": \"white\", \"ticks\": \"\"}}, \"scene\": {\"xaxis\": {\"backgroundcolor\": \"#E5ECF6\", \"gridcolor\": \"white\", \"gridwidth\": 2, \"linecolor\": \"white\", \"showbackground\": true, \"ticks\": \"\", \"zerolinecolor\": \"white\"}, \"yaxis\": {\"backgroundcolor\": \"#E5ECF6\", \"gridcolor\": \"white\", \"gridwidth\": 2, \"linecolor\": \"white\", \"showbackground\": true, \"ticks\": \"\", \"zerolinecolor\": \"white\"}, \"zaxis\": {\"backgroundcolor\": \"#E5ECF6\", \"gridcolor\": \"white\", \"gridwidth\": 2, \"linecolor\": \"white\", \"showbackground\": true, \"ticks\": \"\", \"zerolinecolor\": \"white\"}}, \"shapedefaults\": {\"line\": {\"color\": \"#2a3f5f\"}}, \"ternary\": {\"aaxis\": {\"gridcolor\": \"white\", \"linecolor\": \"white\", \"ticks\": \"\"}, \"baxis\": {\"gridcolor\": \"white\", \"linecolor\": \"white\", \"ticks\": \"\"}, \"bgcolor\": \"#E5ECF6\", \"caxis\": {\"gridcolor\": \"white\", \"linecolor\": \"white\", \"ticks\": \"\"}}, \"title\": {\"x\": 0.05}, \"xaxis\": {\"automargin\": true, \"gridcolor\": \"white\", \"linecolor\": \"white\", \"ticks\": \"\", \"title\": {\"standoff\": 15}, \"zerolinecolor\": \"white\", \"zerolinewidth\": 2}, \"yaxis\": {\"automargin\": true, \"gridcolor\": \"white\", \"linecolor\": \"white\", \"ticks\": \"\", \"title\": {\"standoff\": 15}, \"zerolinecolor\": \"white\", \"zerolinewidth\": 2}}}, \"xaxis\": {\"anchor\": \"y\", \"domain\": [0.0, 1.0], \"title\": {\"text\": \"Ponto Ideal\"}}, \"yaxis\": {\"anchor\": \"x\", \"domain\": [0.0, 1.0], \"title\": {\"text\": \"Tamanho relativo de Seguidores Analisados\"}}},                        {\"responsive\": true}                    ).then(function(){\n",
       "                            \n",
       "var gd = document.getElementById('c525bda7-173f-4dbf-a213-364cbeb38210');\n",
       "var x = new MutationObserver(function (mutations, observer) {{\n",
       "        var display = window.getComputedStyle(gd).display;\n",
       "        if (!display || display === 'none') {{\n",
       "            console.log([gd, 'removed!']);\n",
       "            Plotly.purge(gd);\n",
       "            observer.disconnect();\n",
       "        }}\n",
       "}});\n",
       "\n",
       "// Listen for the removal of the full notebook cells\n",
       "var notebookContainer = gd.closest('#notebook-container');\n",
       "if (notebookContainer) {{\n",
       "    x.observe(notebookContainer, {childList: true});\n",
       "}}\n",
       "\n",
       "// Listen for the clearing of the current output cell\n",
       "var outputEl = gd.closest('.output');\n",
       "if (outputEl) {{\n",
       "    x.observe(outputEl, {childList: true});\n",
       "}}\n",
       "\n",
       "                        })                };                });            </script>        </div>"
      ]
     },
     "metadata": {},
     "output_type": "display_data"
    }
   ],
   "source": [
    "fig = px.scatter(df, x=\"ponto_ideal\", \n",
    "                 y=\"seguidores_analisados_rel\", \n",
    "                 color=\"intersec1_str\",\n",
    "                 color_discrete_sequence=['lightgrey', '#000000'],\n",
    "                 hover_data=['nome', 'partido', 'profissoes'],\n",
    "                 labels={'seguidores_analisados_rel':'Tamanho relativo de Seguidores Analisados', \n",
    "                         'ponto_ideal':'Ponto Ideal',\n",
    "                         'posicao': 'Classificação',\n",
    "                         'nome': 'Nome',\n",
    "                         'partido': 'Partido',\n",
    "                         'profissoes': 'Classificações',\n",
    "                         'intersec1_str': 'Classificações'})\n",
    "fig.show()"
   ]
  },
  {
   "cell_type": "code",
   "execution_count": 28,
   "metadata": {},
   "outputs": [
    {
     "data": {
      "application/vnd.plotly.v1+json": {
       "config": {
        "plotlyServerURL": "https://plot.ly"
       },
       "data": [
        {
         "customdata": [
          [
           "Rosana Pinheiro-Machado",
           "PSOL",
           "acadêmico, antropólogo, jornalista, professor"
          ],
          [
           "Abraham Weintraub",
           "",
           "político"
          ],
          [
           "Ailton Benedito",
           "",
           "procurador da república"
          ],
          [
           "Davy Albuquerque",
           "Republicanos",
           "jornalista"
          ],
          [
           "Alê Silva 🇧🇷 nem lugar na fila eu quero🇧🇷",
           "PSL",
           "político"
          ],
          [
           "Alexandre Aleluia",
           "Democratas",
           "político"
          ],
          [
           "Alexandre Garcia",
           "",
           "jornalista, youtuber"
          ],
          [
           "Aline Barros",
           "",
           "músico, religioso, escritor, empresário"
          ],
          [
           "Amanda Audi",
           "",
           "jornalista"
          ],
          [
           "Ana Paula Valadão Bessa",
           "",
           "músico, religioso, escritor"
          ],
          [
           "Ana Paula Henkel",
           "",
           "esportista, jornalista"
          ],
          [
           "André Fernandes",
           "Republicanos",
           "político, jornalista, youtuber"
          ],
          [
           "Andre Valadao",
           "",
           "músico, religioso"
          ],
          [
           "Andreza",
           "",
           "ativista negro, produtor cultural, youtuber, podcaster, jornalista"
          ],
          [
           "Anielle Franco",
           "",
           "professor, jornalista, escritor, ativista negro"
          ],
          [
           "Antonia Pellegrino",
           "PSOL",
           "diretor, produtor, escritor, roteirista"
          ],
          [
           "Arthur Weintraub",
           "",
           "acadêmico"
          ],
          [
           "Áurea Carolina",
           "PSOL",
           "político, ativista negro, acadêmico, cientista social"
          ],
          [
           "Isabela Reis",
           "",
           "jornalista, ativista negro, podcaster, escritor"
          ],
          [
           "Bia Kicis",
           "PSL",
           "procurador da república, político, advogado, youtuber"
          ],
          [
           "Bibo Nunes",
           "PSL",
           "político, empresário, jornalista"
          ],
          [
           "Edir Macedo",
           "",
           "religioso, pastor evangélico"
          ],
          [
           "Eduardo Bolsonaro",
           "PSL",
           "político, policial federal, advogado"
          ],
          [
           "Eliane Brum",
           "",
           "jornalista, escritor, documentarista"
          ],
          [
           "Bruna Karla",
           "",
           "músico, religioso"
          ],
          [
           "Bruno Engler",
           "PRTB",
           "político"
          ],
          [
           "Junio Amaral",
           "PSL",
           "político, militar"
          ],
          [
           "Capitão Derrite",
           "Progressistas",
           "militar, político"
          ],
          [
           "Carina Vitral",
           "PCdoB",
           "político"
          ],
          [
           "Carla Zambelli",
           "PSL",
           "político, escritor"
          ],
          [
           "Carlos Viana",
           "PSD",
           "político, jornalista"
          ],
          [
           "Carlos Bolsonaro",
           "Republicanos",
           "político"
          ],
          [
           "Carlos Jordy",
           "PSL",
           "político, turismólogo, servidor público"
          ],
          [
           "Carmelo Neto",
           "Republicanos",
           "político"
          ],
          [
           "Caroline De Toni",
           "PSL",
           "político, advogado"
          ],
          [
           "Gil Diniz",
           "PSL",
           "político, servidor público"
          ],
          [
           "Clara Averbuck",
           "PT",
           "jornalista, escritor"
          ],
          [
           "Clau de Luca",
           "PRTB",
           "publicitário, músico"
          ],
          [
           "Cris Bartis",
           "",
           "podcaster, jornalista"
          ],
          [
           "cynara menezes",
           "",
           "jornalista, blogueiro, escritor"
          ],
          [
           "Damares Alves",
           "Progressistas",
           "político, religioso, advogado"
          ],
          [
           "Daniel Silveira",
           "PTB",
           "político, militar"
          ],
          [
           "Dani Monteiro",
           "PSOL",
           "ativista negro, político"
          ],
          [
           "Benedita da Silva",
           "PT",
           "político, professor, servidor público, assistente social, auxiliar de enfermagem"
          ],
          [
           "David M. Quinlan",
           "",
           "músico, religioso"
          ],
          [
           "Debora Diniz",
           "",
           "antropólogo, acadêmico, pesquisador, professor, escritor, documentarista"
          ],
          [
           "Debora Baldin",
           "",
           "podcaster, youtuber"
          ],
          [
           "Bruna de Lara",
           "",
           "jornalista, escritor"
          ],
          [
           "Helio Lopes",
           "PSL",
           "militar, político"
          ],
          [
           "Professora Dayane Pimentel",
           "PSL",
           "político, professor"
          ],
          [
           "Daniel Freitas",
           "PSL",
           "político, empresário"
          ],
          [
           "Direita Goiás",
           "",
           "coletivo, político"
          ],
          [
           "Direita Minas",
           "",
           "coletivo, político"
          ],
          [
           "Dom",
           "Republicanos",
           "influencer, político"
          ],
          [
           "Douglas Garcia",
           "PTB",
           "político"
          ],
          [
           "Dra. Soraya Manato",
           "PSL",
           "médico, político"
          ],
          [
           "Delegado Éder Mauro",
           "PSD",
           "político, delegado"
          ],
          [
           "Edson Salomão",
           "PRTB",
           "político, youtuber"
          ],
          [
           "Elika Takimoto",
           "PT",
           "político, acadêmico, escritor, professor"
          ],
          [
           "Elza Soares",
           "",
           "ativista negro, músico"
          ],
          [
           "ERIKA HILTON",
           "PSOL",
           "ativista negro, político, ativista trans"
          ],
          [
           "Erika Kokay",
           "PT",
           "psicólogo, político, bancário, sindicalista"
          ],
          [
           "Ernesto Araújo",
           "",
           "político, diplomata, embaixador"
          ],
          [
           "Escola sem Partido",
           "",
           "coletivo, político"
          ],
          [
           "MBC – Movimento Brasil Conservador",
           "",
           "coletivo, político"
          ],
          [
           "Fabiana Barroso",
           "Patriota",
           "advogado"
          ],
          [
           "Cida Falabella",
           "PSOL",
           "ator, diretor, professor , político"
          ],
          [
           "Felipe C. Pedri",
           "",
           "político, publicitário"
          ],
          [
           "Fernanda Barth vereadora",
           "PRTB",
           "cientista político, jornalista, político"
          ],
          [
           "Fernanda Melchionna",
           "PSOL",
           "bibliotecário, bancário, político"
          ],
          [
           "Fernando Holiday",
           "Patriota",
           "político"
          ],
          [
           "Felipe Francischini",
           "PSL",
           "político, advogado"
          ],
          [
           "Filipe G. Martins",
           "",
           "professor, político"
          ],
          [
           "Filipe Barros",
           "PSL",
           "político, advogado"
          ],
          [
           "Flávia Oliveira",
           "",
           "jornalista, podcaster"
          ],
          [
           "Flavio Bolsonaro",
           "Republicanos",
           "político, advogado, empresário"
          ],
          [
           "Gabi Coelho",
           "",
           "jornalista, universitário, podcaster, produtor"
          ],
          [
           "gabrielle",
           "",
           "podcaster"
          ],
          [
           "Sonia Guajajara",
           "PSOL",
           "político, ativista indígena, enfermeiro"
          ],
          [
           "Heitor Freire",
           "PSL",
           "político"
          ],
          [
           "Bia Ferreira",
           "",
           "músico, ativista negro, ativista lésbica"
          ],
          [
           "Instituto Marielle Franco",
           "",
           "organização, negro"
          ],
          [
           "Deputada Isa Penna #VacinaJá",
           "PSOL",
           "político, ativista ecossocialista, advogado"
          ],
          [
           "Jair M. Bolsonaro",
           "PSL",
           "político, militar"
          ],
          [
           "Jandira Feghali",
           "PCdoB",
           "médico, político, sindicalista"
          ],
          [
           "Suzane Jardim",
           "",
           "historiador, acadêmico, ativista negro"
          ],
          [
           "Margarida Salomão",
           "PT",
           "acadêmico, professor, sindicalista, político"
          ],
          [
           "JOSÉ MEDEIROS",
           "Podemos",
           "político, policial rodoviário, professor, matemático"
          ],
          [
           "Jout Jout",
           "",
           "escritor, jornalista, youtuber"
          ],
          [
           "Joanna Maranhão",
           "PSOL",
           "esportista"
          ],
          [
           "Jurema Werneck",
           "",
           "ativista negro, médico, acadêmico"
          ],
          [
           "Ju Wallauer",
           "",
           "podcaster, jornalista"
          ],
          [
           "Kim Kataguiri",
           "Democratas",
           "político"
          ],
          [
           "Laerte Coutinho",
           "",
           "quadrinista, ativista trans"
          ],
          [
           "Laura Carvalho",
           "",
           "economista, acadêmico, escritor, podcaster"
          ],
          [
           "Leandro Ruschel",
           "",
           "empreendedor, escritor, investidor, youtuber"
          ],
          [
           "Leci Brandão",
           "PCdoB",
           "político, músico"
          ],
          [
           "Letícia Parks",
           "",
           "professor, político"
          ],
          [
           "Leticia Aguiar",
           "PSL",
           "político"
          ],
          [
           "Linn da Quebrada",
           "",
           "artista, ativista negro, ativista trans, ator, roteirista, jornalista, músico"
          ],
          [
           "Lola Aronovich",
           "",
           "acadêmico, blogueiro, professor"
          ],
          [
           "Italo Lorenzon",
           "",
           "jornalista"
          ],
          [
           "louie ponto",
           "",
           "youtuber, ativista lésbica"
          ],
          [
           "Luciana Boiteux",
           "PSOL",
           "advogado, acadêmico, professor, político"
          ],
          [
           "Luciana Genro",
           "PSOL",
           "político, advogado"
          ],
          [
           "Luiza Erundina",
           "PSOL",
           "político, assistente social"
          ],
          [
           "LUIZ CAMARGO vlog",
           "",
           "youtuber"
          ],
          [
           "negaluy",
           "",
           "ativista negro"
          ],
          [
           "magno malta",
           "PL",
           "político, religioso, músico"
          ],
          [
           "Vítor Hugo",
           "PSL",
           "político, militar, advogado"
          ],
          [
           "Erica Malunguinho",
           "PSOL",
           "ativista negro, político, ativista trans, artista, professor"
          ],
          [
           "Manuela Barem",
           "",
           "jornalista"
          ],
          [
           "Manuela",
           "PCdoB",
           "político, escritor, jornalista"
          ],
          [
           "Marcel van Hattem",
           "NOVO",
           "cientista político, jornalista, político"
          ],
          [
           "marcia tiburi",
           "PT",
           "filósofo, acadêmico, professor, artista, escritor"
          ],
          [
           "Marcio Labre Oficial",
           "PSL",
           "político, youtuber, empresário , jornalista"
          ],
          [
           "Marília Arraes",
           "PT",
           "político, advogado"
          ],
          [
           "Marília Moscou",
           "PCB",
           "acadêmico, escritor, professor, cientista social"
          ],
          [
           "MARISA LOBO-Supl.Dep.Federal",
           "Avante",
           "político, psicólogo, religioso"
          ],
          [
           "Maurício Costa",
           "",
           "jornalista, podcaster"
          ],
          [
           "Movimento Avança Brasil",
           "",
           "coletivo, político"
          ],
          [
           "MBL - Movimento Brasil Livre",
           "",
           "coletivo, político"
          ],
          [
           "MC Carol",
           "PCdoB",
           "músico"
          ],
          [
           "Marcelo Crivella",
           "Republicanos",
           "político, engenheiro, músico, escritor, religioso"
          ],
          [
           "Milly Lacombe",
           "",
           "ativista lésbica, jornalista, escritor, roteirista"
          ],
          [
           "Monica Benicio",
           "",
           "arquiteto, urbanista, ativista lésbica, político"
          ],
          [
           "Mônica Bergamo",
           "",
           "jornalista"
          ],
          [
           "Mônica Francisco",
           "PSOL",
           "ativista negro, religioso, pastor evangélico, político, cientista social"
          ],
          [
           "Monica Seixas",
           "PSOL",
           "político, ativista negro, ativista ecossocialista, jornalista, redator"
          ],
          [
           "Preta Ijimú",
           "",
           "acadêmico, cientista político, podcaster, ativista negro, professor"
          ],
          [
           "Nátaly Neri",
           "",
           "ativista negro, cientista social, ativista vegano, youtuber"
          ],
          [
           "Natália Bonavides",
           "PT",
           "político, advogado"
          ],
          [
           "Olavo de Carvalho",
           "",
           "filósofo, escritor, jornalista, professor"
          ],
          [
           "Onyx Lorenzoni",
           "Democratas",
           "político, veterinário, empresário"
          ],
          [
           "Otoni de Paula",
           "PSC",
           "político, religioso"
          ],
          [
           "Padre Paulo Ricardo",
           "",
           "religioso, youtuber, professor, radialista"
          ],
          [
           "Paola Carosella",
           "",
           "cozinheiro, chef, empresário"
          ],
          [
           "☭Lisa Débora Perpétua da Faísca",
           "",
           "ativista lésbica"
          ],
          [
           "Liomar de Oliveira",
           "Republicanos",
           "político, religioso"
          ],
          [
           "Silas Malafaia",
           "",
           "religioso, psicólogo, teólogo"
          ],
          [
           "Paulo A. Briguet",
           "",
           "jornalista, escritor"
          ],
          [
           "paulo eneas",
           "",
           "jornalista"
          ],
          [
           "Paulo Eduardo Martins",
           "PSC",
           "jornalista, político"
          ],
          [
           "Perpétua Almeida",
           "PCdoB",
           "professor, bancário , político"
          ],
          [
           "Petra Costa",
           "",
           "cineasta, diretor"
          ],
          [
           "Fernanda Brum",
           "",
           "músico, religioso, escritor, ator"
          ],
          [
           "Paula Marisa",
           "PRTB",
           "jornalista, professor"
          ],
          [
           "Partido Social Liberal - PSL",
           "",
           "partido, político"
          ],
          [
           "Rodrigo Constantino",
           "",
           "economista, jornalista"
          ],
          [
           "Renata Souza",
           "PSOL",
           "acadêmico, jornalista, político, ativista negro"
          ],
          [
           "Fernanda Salles",
           "",
           "jornalista, youtuber"
          ],
          [
           "Rita Lisauskas",
           "",
           "jornalista, blogueiro"
          ],
          [
           "Rogério Marinho",
           "PSDB",
           "político, economista"
          ],
          [
           "Sabrina Fernandes",
           "PSOL",
           "cientista social, acadêmico, escritor, youtuber, ativista ecossocialista, professor, podcaster"
          ],
          [
           "Sâmia Bomfim",
           "PSOL",
           "político, servidor público"
          ],
          [
           "Sarita Coelho",
           "",
           "jornalista, servidor público"
          ],
          [
           "Sérgio Camargo",
           "",
           "político, jornalista"
          ],
          [
           "Aliança pelo Brasil",
           "",
           "coletivo, político"
          ],
          [
           "Sueli Carneiro",
           "",
           "acadêmico, ativista negro, filósofo, escritor"
          ],
          [
           "Talíria Petrone",
           "PSOL",
           "político, professor, historiador, ativista negro"
          ],
          [
           "Tamires De Paula",
           "PSL",
           "influencer"
          ],
          [
           "TeAtualizei",
           "",
           "youtuber"
          ],
          [
           "Tati Nefertari",
           "",
           "universitário, ativista negro"
          ],
          [
           "Tatiana Roque",
           "PSOL",
           "acadêmico, professor, matemático, youtuber"
          ],
          [
           "Ana Flor",
           "",
           "ativista trans, pedagogo, acadêmico"
          ],
          [
           "Tenente Santini",
           "Progressistas",
           "policial militar, político, empresário"
          ],
          [
           "Chris Tonietto",
           "PSL",
           "político, advogado"
          ],
          [
           "Sher Machado",
           "",
           "ativista trans, ativista negro, físico, streamer"
          ],
          [
           "Bueno.",
           "",
           "acadêmico, ativista negro"
          ]
         ],
         "hovertemplate": "mid_str=Não Mídias<br>Ponto Ideal=%{x}<br>Tamanho relativo de Seguidores Analisados=%{y}<br>Nome=%{customdata[0]}<br>Partido=%{customdata[1]}<br>Classificações=%{customdata[2]}<extra></extra>",
         "legendgroup": "Não Mídias",
         "marker": {
          "color": "lightgrey",
          "symbol": "circle"
         },
         "mode": "markers",
         "name": "Não Mídias",
         "orientation": "v",
         "showlegend": true,
         "type": "scatter",
         "x": [
          -1.3834799999999998,
          1.5077450000000001,
          1.547544,
          1.555408,
          1.538618,
          1.5921040000000002,
          1.115909,
          0.062928,
          -1.3184209999999998,
          0.05396,
          1.123759,
          1.404835,
          0.22532,
          -2.251423,
          -1.7380330000000002,
          -1.448386,
          1.569364,
          -1.5805360000000002,
          -2.045617,
          1.5002959999999999,
          1.442361,
          0.131298,
          0.966274,
          -1.401738,
          0.021424000000000002,
          1.549531,
          1.415577,
          1.362441,
          -1.321101,
          1.184482,
          0.513835,
          1.058905,
          1.611404,
          1.45997,
          1.564577,
          1.636417,
          -1.618628,
          1.409497,
          -1.670168,
          -1.3220610000000002,
          1.149155,
          1.514535,
          -1.656366,
          -1.298902,
          0.114927,
          -1.521974,
          -2.0058119999999997,
          -1.385043,
          1.478428,
          0.604191,
          1.3864889999999999,
          1.18195,
          1.3503610000000001,
          1.5517100000000001,
          1.83152,
          1.214076,
          1.439951,
          1.814844,
          -1.450352,
          -1.761039,
          -2.031606,
          -1.1654,
          1.096643,
          1.135365,
          1.511924,
          1.5347680000000001,
          -1.59273,
          1.764806,
          1.565589,
          -1.324394,
          0.303846,
          0.9688700000000001,
          1.4221409999999999,
          1.659356,
          -1.326052,
          0.770213,
          -1.8704740000000002,
          -2.184599,
          -1.575197,
          0.979309,
          -2.254809,
          -1.788807,
          -1.432304,
          1.017907,
          -1.201901,
          -2.0657959999999997,
          -1.142013,
          1.070514,
          -1.951114,
          -1.466502,
          -1.9856779999999998,
          -1.662236,
          0.20044,
          -1.590255,
          -1.328849,
          1.235371,
          -1.429151,
          -2.03648,
          1.394875,
          -2.265995,
          -1.515064,
          1.595204,
          -2.2264909999999998,
          -1.584902,
          -1.2614809999999999,
          -1.320881,
          1.786427,
          -2.011198,
          0.834892,
          1.317431,
          -2.0100279999999997,
          -1.650467,
          -1.343015,
          0.878639,
          -1.389608,
          1.497774,
          -1.225918,
          -1.8225740000000001,
          0.7435970000000001,
          1.21685,
          1.313536,
          0.201953,
          -2.021261,
          0.371843,
          -1.467044,
          -1.6855259999999999,
          -0.9054459999999999,
          -1.680734,
          -1.518306,
          -2.17928,
          -2.436118,
          -1.3322379999999998,
          0.861183,
          0.916351,
          1.573821,
          1.035599,
          -1.376681,
          -1.278515,
          1.281867,
          0.511582,
          1.595725,
          1.8136860000000001,
          1.153463,
          -1.176082,
          -1.4258629999999999,
          0.067284,
          1.7587720000000002,
          0.5743699999999999,
          1.125796,
          -1.6349790000000002,
          1.7270279999999998,
          -1.288384,
          1.054836,
          -1.6520029999999999,
          -1.4454209999999998,
          1.533498,
          1.684748,
          1.443481,
          -2.045003,
          -1.569423,
          1.3362100000000001,
          1.808327,
          -2.256308,
          -1.430445,
          -2.4336759999999997,
          1.450986,
          1.453762,
          -2.4905150000000003,
          -2.089623
         ],
         "xaxis": "x",
         "y": [
          0.12203037399069153,
          0.4255225084291225,
          0.1676885257051799,
          0.10108631227105337,
          0.09143290224161217,
          0.028474401702342663,
          0.6397145272403976,
          0.22040090558411146,
          0.12781659006772447,
          0.15603836100935706,
          0.3817153628652215,
          0.10681908722562843,
          0.15400759835595673,
          0.06750099594819126,
          0.09012116559946365,
          0.02789626592302535,
          0.2884606041761808,
          0.07740703673834255,
          0.034246042927796184,
          0.32190017198324866,
          0.09804502657481272,
          0.04714964485944985,
          0.6060709115112177,
          0.15653876424691743,
          0.12476072951990438,
          0.03533915679625329,
          0.06602893593866903,
          0.08325641050555302,
          0.02843553543146419,
          0.40376225502103635,
          0.02282421757338438,
          0.5799867854679013,
          0.22025029878445737,
          0.09941506262327895,
          0.20786167494194352,
          0.14761895508030742,
          0.06019413702303798,
          0.039050885665147646,
          0.04170836693646336,
          0.15410476403315293,
          0.41589338981898033,
          0.09225395221391995,
          0.025855786701905418,
          0.07657141191445534,
          0.09479969295646005,
          0.13290807155280468,
          0.04173265835576241,
          0.07191231769289816,
          0.19406900706394473,
          0.03450839025622589,
          0.025117327555214397,
          0.016003187034212035,
          0.03229787110001263,
          0.043316458894060265,
          0.16764965943430143,
          0.02377644120990701,
          0.06670423739518253,
          0.049539920518476055,
          0.12558177949221216,
          0.06256012126276514,
          0.019136780123789072,
          0.11236724739353071,
          0.3413381657063459,
          0.10672677983229203,
          0.13506514958656005,
          0.11002555457310259,
          0.027016916544399857,
          0.058046775557002245,
          0.01725176598618304,
          0.08977136916155737,
          0.14545701876269226,
          0.07657141191445534,
          0.23924618867631198,
          0.20091918730627592,
          0.14395580905001118,
          0.4880631965564484,
          0.022076041858973737,
          0.03259908469932081,
          0.08125965583917137,
          0.02052624930769455,
          0.04205330509050983,
          0.060330168971112645,
          0.025666313631372853,
          1,
          0.21285113246596774,
          0.019355402897480493,
          0.049729393589008616,
          0.0817940670637504,
          0.15431367023912473,
          0.1142328283956975,
          0.01696026895459448,
          0.04618770465520759,
          0.24526074409475596,
          0.21208838189997764,
          0.1460983122321871,
          0.22646404384115354,
          0.02585092841804561,
          0.024461459234140132,
          0.02676914406754958,
          0.10051303477559587,
          0.12662631052207118,
          0.1496740091530068,
          0.09441588853153512,
          0.01849548665429424,
          0.1410068307471069,
          0.15352662825383562,
          0.07161110409358998,
          0.02622501627525093,
          0.28190192096543815,
          0.14442220430055286,
          0.03559178755696338,
          0.04531807184430172,
          0.4900308015196712,
          0.20949405831883947,
          0.09316730957956411,
          0.0669520098720328,
          0.03116103267681724,
          0.02380073262920606,
          0.05239173314418415,
          0.07688720036534295,
          0.03746708512684979,
          0.22672639116958326,
          0.08840619139695094,
          0.05043384474868098,
          0.048014419386495914,
          0.0506038846837743,
          0.3855582653983307,
          0.030203950756434797,
          0.02568088848295228,
          0.04305896984949037,
          0.14981004110108145,
          0.047999844534916486,
          0.36502715780677636,
          0.3221770941632578,
          0.08234305313990886,
          0.07372445757260705,
          0.425153278855777,
          0.030757795116453063,
          0.04043549656519331,
          0.23752149790607965,
          0.04355451480319092,
          0.04303953671405113,
          0.16691120028761042,
          0.016668771923005917,
          0.1819087225628419,
          0.18511033162645626,
          0.1660755754637232,
          0.1031753743307714,
          0.2788557769853377,
          0.04666867475732872,
          0.13437527327846713,
          0.07792687311134215,
          0.08551065421650456,
          0.16502132786614457,
          0.2622695958879485,
          0.024281702731327185,
          0.15513472021143251,
          0.20403820554427354,
          0.03448895712078665,
          0.1942001807281596,
          0.04118853056346376,
          0.20278476830844272,
          0.05598200491658327,
          0.03656344432892525,
          0.03101528416102296,
          0.016216951524043646,
          0.04485653487761983,
          0.022066325291254116,
          0.11351866066830553
         ],
         "yaxis": "y"
        },
        {
         "customdata": [
          [
           "Blogueiras Feministas",
           "",
           "mídia, feminista"
          ],
          [
           "Blogueiras Negras",
           "",
           "mídia, negro"
          ],
          [
           "Brasil Paralelo",
           "",
           "mídia, político"
          ],
          [
           "FamíliaDireitaBrasil",
           "",
           "mídia, político"
          ],
          [
           "Conexão Política",
           "",
           "mídia, político"
          ],
          [
           "Crítica Nacional",
           "",
           "mídia, político"
          ],
          [
           "Caneta Desesquerdizadora",
           "",
           "mídia, conservador"
          ],
          [
           "Geledés Instituto da Mulher Negra",
           "",
           "mídia, negro"
          ],
          [
           "Brasil Sem Medo",
           "",
           "mídia, político"
          ],
          [
           "Não Me Kahlo",
           "",
           "coletivo, mídia, feminista"
          ],
          [
           "ONU Mulheres Brasil",
           "",
           "coletivo, mídia, feminista"
          ],
          [
           "Revista AzMina",
           "",
           "mídia, feminista"
          ],
          [
           "Senso Incomum",
           "",
           "mídia, político"
          ],
          [
           "Portal Terça Livre",
           "",
           "mídia, político"
          ],
          [
           "Tese Onze",
           "",
           "mídia, político, ecossocialista"
          ]
         ],
         "hovertemplate": "mid_str=Mídias<br>Ponto Ideal=%{x}<br>Tamanho relativo de Seguidores Analisados=%{y}<br>Nome=%{customdata[0]}<br>Partido=%{customdata[1]}<br>Classificações=%{customdata[2]}<extra></extra>",
         "legendgroup": "Mídias",
         "marker": {
          "color": "red",
          "symbol": "circle"
         },
         "mode": "markers",
         "name": "Mídias",
         "orientation": "v",
         "showlegend": true,
         "type": "scatter",
         "x": [
          -1.823219,
          -2.020968,
          1.306806,
          1.403122,
          1.252818,
          1.517881,
          0.6285350000000001,
          -1.952359,
          1.675497,
          -1.872436,
          -1.490895,
          -1.781304,
          1.137893,
          1.531937,
          -1.822257
         ],
         "xaxis": "x",
         "y": [
          0.041096223170127386,
          0.03672862598015877,
          0.15313310726119106,
          0.11556399817328526,
          0.29618527551327767,
          0.089577037807165,
          0.17010309278350516,
          0.0467075410282072,
          0.18167552493757105,
          0.06543136702391247,
          0.022396688593721154,
          0.02403393025447691,
          0.14763352993188686,
          0.23860975349067695,
          0.02691975086720367
         ],
         "yaxis": "y"
        }
       ],
       "layout": {
        "legend": {
         "title": {
          "text": "mid_str"
         },
         "tracegroupgap": 0
        },
        "margin": {
         "t": 60
        },
        "template": {
         "data": {
          "bar": [
           {
            "error_x": {
             "color": "#2a3f5f"
            },
            "error_y": {
             "color": "#2a3f5f"
            },
            "marker": {
             "line": {
              "color": "#E5ECF6",
              "width": 0.5
             }
            },
            "type": "bar"
           }
          ],
          "barpolar": [
           {
            "marker": {
             "line": {
              "color": "#E5ECF6",
              "width": 0.5
             }
            },
            "type": "barpolar"
           }
          ],
          "carpet": [
           {
            "aaxis": {
             "endlinecolor": "#2a3f5f",
             "gridcolor": "white",
             "linecolor": "white",
             "minorgridcolor": "white",
             "startlinecolor": "#2a3f5f"
            },
            "baxis": {
             "endlinecolor": "#2a3f5f",
             "gridcolor": "white",
             "linecolor": "white",
             "minorgridcolor": "white",
             "startlinecolor": "#2a3f5f"
            },
            "type": "carpet"
           }
          ],
          "choropleth": [
           {
            "colorbar": {
             "outlinewidth": 0,
             "ticks": ""
            },
            "type": "choropleth"
           }
          ],
          "contour": [
           {
            "colorbar": {
             "outlinewidth": 0,
             "ticks": ""
            },
            "colorscale": [
             [
              0,
              "#0d0887"
             ],
             [
              0.1111111111111111,
              "#46039f"
             ],
             [
              0.2222222222222222,
              "#7201a8"
             ],
             [
              0.3333333333333333,
              "#9c179e"
             ],
             [
              0.4444444444444444,
              "#bd3786"
             ],
             [
              0.5555555555555556,
              "#d8576b"
             ],
             [
              0.6666666666666666,
              "#ed7953"
             ],
             [
              0.7777777777777778,
              "#fb9f3a"
             ],
             [
              0.8888888888888888,
              "#fdca26"
             ],
             [
              1,
              "#f0f921"
             ]
            ],
            "type": "contour"
           }
          ],
          "contourcarpet": [
           {
            "colorbar": {
             "outlinewidth": 0,
             "ticks": ""
            },
            "type": "contourcarpet"
           }
          ],
          "heatmap": [
           {
            "colorbar": {
             "outlinewidth": 0,
             "ticks": ""
            },
            "colorscale": [
             [
              0,
              "#0d0887"
             ],
             [
              0.1111111111111111,
              "#46039f"
             ],
             [
              0.2222222222222222,
              "#7201a8"
             ],
             [
              0.3333333333333333,
              "#9c179e"
             ],
             [
              0.4444444444444444,
              "#bd3786"
             ],
             [
              0.5555555555555556,
              "#d8576b"
             ],
             [
              0.6666666666666666,
              "#ed7953"
             ],
             [
              0.7777777777777778,
              "#fb9f3a"
             ],
             [
              0.8888888888888888,
              "#fdca26"
             ],
             [
              1,
              "#f0f921"
             ]
            ],
            "type": "heatmap"
           }
          ],
          "heatmapgl": [
           {
            "colorbar": {
             "outlinewidth": 0,
             "ticks": ""
            },
            "colorscale": [
             [
              0,
              "#0d0887"
             ],
             [
              0.1111111111111111,
              "#46039f"
             ],
             [
              0.2222222222222222,
              "#7201a8"
             ],
             [
              0.3333333333333333,
              "#9c179e"
             ],
             [
              0.4444444444444444,
              "#bd3786"
             ],
             [
              0.5555555555555556,
              "#d8576b"
             ],
             [
              0.6666666666666666,
              "#ed7953"
             ],
             [
              0.7777777777777778,
              "#fb9f3a"
             ],
             [
              0.8888888888888888,
              "#fdca26"
             ],
             [
              1,
              "#f0f921"
             ]
            ],
            "type": "heatmapgl"
           }
          ],
          "histogram": [
           {
            "marker": {
             "colorbar": {
              "outlinewidth": 0,
              "ticks": ""
             }
            },
            "type": "histogram"
           }
          ],
          "histogram2d": [
           {
            "colorbar": {
             "outlinewidth": 0,
             "ticks": ""
            },
            "colorscale": [
             [
              0,
              "#0d0887"
             ],
             [
              0.1111111111111111,
              "#46039f"
             ],
             [
              0.2222222222222222,
              "#7201a8"
             ],
             [
              0.3333333333333333,
              "#9c179e"
             ],
             [
              0.4444444444444444,
              "#bd3786"
             ],
             [
              0.5555555555555556,
              "#d8576b"
             ],
             [
              0.6666666666666666,
              "#ed7953"
             ],
             [
              0.7777777777777778,
              "#fb9f3a"
             ],
             [
              0.8888888888888888,
              "#fdca26"
             ],
             [
              1,
              "#f0f921"
             ]
            ],
            "type": "histogram2d"
           }
          ],
          "histogram2dcontour": [
           {
            "colorbar": {
             "outlinewidth": 0,
             "ticks": ""
            },
            "colorscale": [
             [
              0,
              "#0d0887"
             ],
             [
              0.1111111111111111,
              "#46039f"
             ],
             [
              0.2222222222222222,
              "#7201a8"
             ],
             [
              0.3333333333333333,
              "#9c179e"
             ],
             [
              0.4444444444444444,
              "#bd3786"
             ],
             [
              0.5555555555555556,
              "#d8576b"
             ],
             [
              0.6666666666666666,
              "#ed7953"
             ],
             [
              0.7777777777777778,
              "#fb9f3a"
             ],
             [
              0.8888888888888888,
              "#fdca26"
             ],
             [
              1,
              "#f0f921"
             ]
            ],
            "type": "histogram2dcontour"
           }
          ],
          "mesh3d": [
           {
            "colorbar": {
             "outlinewidth": 0,
             "ticks": ""
            },
            "type": "mesh3d"
           }
          ],
          "parcoords": [
           {
            "line": {
             "colorbar": {
              "outlinewidth": 0,
              "ticks": ""
             }
            },
            "type": "parcoords"
           }
          ],
          "pie": [
           {
            "automargin": true,
            "type": "pie"
           }
          ],
          "scatter": [
           {
            "marker": {
             "colorbar": {
              "outlinewidth": 0,
              "ticks": ""
             }
            },
            "type": "scatter"
           }
          ],
          "scatter3d": [
           {
            "line": {
             "colorbar": {
              "outlinewidth": 0,
              "ticks": ""
             }
            },
            "marker": {
             "colorbar": {
              "outlinewidth": 0,
              "ticks": ""
             }
            },
            "type": "scatter3d"
           }
          ],
          "scattercarpet": [
           {
            "marker": {
             "colorbar": {
              "outlinewidth": 0,
              "ticks": ""
             }
            },
            "type": "scattercarpet"
           }
          ],
          "scattergeo": [
           {
            "marker": {
             "colorbar": {
              "outlinewidth": 0,
              "ticks": ""
             }
            },
            "type": "scattergeo"
           }
          ],
          "scattergl": [
           {
            "marker": {
             "colorbar": {
              "outlinewidth": 0,
              "ticks": ""
             }
            },
            "type": "scattergl"
           }
          ],
          "scattermapbox": [
           {
            "marker": {
             "colorbar": {
              "outlinewidth": 0,
              "ticks": ""
             }
            },
            "type": "scattermapbox"
           }
          ],
          "scatterpolar": [
           {
            "marker": {
             "colorbar": {
              "outlinewidth": 0,
              "ticks": ""
             }
            },
            "type": "scatterpolar"
           }
          ],
          "scatterpolargl": [
           {
            "marker": {
             "colorbar": {
              "outlinewidth": 0,
              "ticks": ""
             }
            },
            "type": "scatterpolargl"
           }
          ],
          "scatterternary": [
           {
            "marker": {
             "colorbar": {
              "outlinewidth": 0,
              "ticks": ""
             }
            },
            "type": "scatterternary"
           }
          ],
          "surface": [
           {
            "colorbar": {
             "outlinewidth": 0,
             "ticks": ""
            },
            "colorscale": [
             [
              0,
              "#0d0887"
             ],
             [
              0.1111111111111111,
              "#46039f"
             ],
             [
              0.2222222222222222,
              "#7201a8"
             ],
             [
              0.3333333333333333,
              "#9c179e"
             ],
             [
              0.4444444444444444,
              "#bd3786"
             ],
             [
              0.5555555555555556,
              "#d8576b"
             ],
             [
              0.6666666666666666,
              "#ed7953"
             ],
             [
              0.7777777777777778,
              "#fb9f3a"
             ],
             [
              0.8888888888888888,
              "#fdca26"
             ],
             [
              1,
              "#f0f921"
             ]
            ],
            "type": "surface"
           }
          ],
          "table": [
           {
            "cells": {
             "fill": {
              "color": "#EBF0F8"
             },
             "line": {
              "color": "white"
             }
            },
            "header": {
             "fill": {
              "color": "#C8D4E3"
             },
             "line": {
              "color": "white"
             }
            },
            "type": "table"
           }
          ]
         },
         "layout": {
          "annotationdefaults": {
           "arrowcolor": "#2a3f5f",
           "arrowhead": 0,
           "arrowwidth": 1
          },
          "coloraxis": {
           "colorbar": {
            "outlinewidth": 0,
            "ticks": ""
           }
          },
          "colorscale": {
           "diverging": [
            [
             0,
             "#8e0152"
            ],
            [
             0.1,
             "#c51b7d"
            ],
            [
             0.2,
             "#de77ae"
            ],
            [
             0.3,
             "#f1b6da"
            ],
            [
             0.4,
             "#fde0ef"
            ],
            [
             0.5,
             "#f7f7f7"
            ],
            [
             0.6,
             "#e6f5d0"
            ],
            [
             0.7,
             "#b8e186"
            ],
            [
             0.8,
             "#7fbc41"
            ],
            [
             0.9,
             "#4d9221"
            ],
            [
             1,
             "#276419"
            ]
           ],
           "sequential": [
            [
             0,
             "#0d0887"
            ],
            [
             0.1111111111111111,
             "#46039f"
            ],
            [
             0.2222222222222222,
             "#7201a8"
            ],
            [
             0.3333333333333333,
             "#9c179e"
            ],
            [
             0.4444444444444444,
             "#bd3786"
            ],
            [
             0.5555555555555556,
             "#d8576b"
            ],
            [
             0.6666666666666666,
             "#ed7953"
            ],
            [
             0.7777777777777778,
             "#fb9f3a"
            ],
            [
             0.8888888888888888,
             "#fdca26"
            ],
            [
             1,
             "#f0f921"
            ]
           ],
           "sequentialminus": [
            [
             0,
             "#0d0887"
            ],
            [
             0.1111111111111111,
             "#46039f"
            ],
            [
             0.2222222222222222,
             "#7201a8"
            ],
            [
             0.3333333333333333,
             "#9c179e"
            ],
            [
             0.4444444444444444,
             "#bd3786"
            ],
            [
             0.5555555555555556,
             "#d8576b"
            ],
            [
             0.6666666666666666,
             "#ed7953"
            ],
            [
             0.7777777777777778,
             "#fb9f3a"
            ],
            [
             0.8888888888888888,
             "#fdca26"
            ],
            [
             1,
             "#f0f921"
            ]
           ]
          },
          "colorway": [
           "#636efa",
           "#EF553B",
           "#00cc96",
           "#ab63fa",
           "#FFA15A",
           "#19d3f3",
           "#FF6692",
           "#B6E880",
           "#FF97FF",
           "#FECB52"
          ],
          "font": {
           "color": "#2a3f5f"
          },
          "geo": {
           "bgcolor": "white",
           "lakecolor": "white",
           "landcolor": "#E5ECF6",
           "showlakes": true,
           "showland": true,
           "subunitcolor": "white"
          },
          "hoverlabel": {
           "align": "left"
          },
          "hovermode": "closest",
          "mapbox": {
           "style": "light"
          },
          "paper_bgcolor": "white",
          "plot_bgcolor": "#E5ECF6",
          "polar": {
           "angularaxis": {
            "gridcolor": "white",
            "linecolor": "white",
            "ticks": ""
           },
           "bgcolor": "#E5ECF6",
           "radialaxis": {
            "gridcolor": "white",
            "linecolor": "white",
            "ticks": ""
           }
          },
          "scene": {
           "xaxis": {
            "backgroundcolor": "#E5ECF6",
            "gridcolor": "white",
            "gridwidth": 2,
            "linecolor": "white",
            "showbackground": true,
            "ticks": "",
            "zerolinecolor": "white"
           },
           "yaxis": {
            "backgroundcolor": "#E5ECF6",
            "gridcolor": "white",
            "gridwidth": 2,
            "linecolor": "white",
            "showbackground": true,
            "ticks": "",
            "zerolinecolor": "white"
           },
           "zaxis": {
            "backgroundcolor": "#E5ECF6",
            "gridcolor": "white",
            "gridwidth": 2,
            "linecolor": "white",
            "showbackground": true,
            "ticks": "",
            "zerolinecolor": "white"
           }
          },
          "shapedefaults": {
           "line": {
            "color": "#2a3f5f"
           }
          },
          "ternary": {
           "aaxis": {
            "gridcolor": "white",
            "linecolor": "white",
            "ticks": ""
           },
           "baxis": {
            "gridcolor": "white",
            "linecolor": "white",
            "ticks": ""
           },
           "bgcolor": "#E5ECF6",
           "caxis": {
            "gridcolor": "white",
            "linecolor": "white",
            "ticks": ""
           }
          },
          "title": {
           "x": 0.05
          },
          "xaxis": {
           "automargin": true,
           "gridcolor": "white",
           "linecolor": "white",
           "ticks": "",
           "title": {
            "standoff": 15
           },
           "zerolinecolor": "white",
           "zerolinewidth": 2
          },
          "yaxis": {
           "automargin": true,
           "gridcolor": "white",
           "linecolor": "white",
           "ticks": "",
           "title": {
            "standoff": 15
           },
           "zerolinecolor": "white",
           "zerolinewidth": 2
          }
         }
        },
        "xaxis": {
         "anchor": "y",
         "domain": [
          0,
          1
         ],
         "title": {
          "text": "Ponto Ideal"
         }
        },
        "yaxis": {
         "anchor": "x",
         "domain": [
          0,
          1
         ],
         "title": {
          "text": "Tamanho relativo de Seguidores Analisados"
         }
        }
       }
      },
      "text/html": [
       "<div>                            <div id=\"cf81236b-e20b-4c8a-af98-fe488608f5b4\" class=\"plotly-graph-div\" style=\"height:525px; width:100%;\"></div>            <script type=\"text/javascript\">                require([\"plotly\"], function(Plotly) {                    window.PLOTLYENV=window.PLOTLYENV || {};                                    if (document.getElementById(\"cf81236b-e20b-4c8a-af98-fe488608f5b4\")) {                    Plotly.newPlot(                        \"cf81236b-e20b-4c8a-af98-fe488608f5b4\",                        [{\"customdata\": [[\"Rosana Pinheiro-Machado\", \"PSOL\", \"acad\\u00eamico, antrop\\u00f3logo, jornalista, professor\"], [\"Abraham Weintraub\", \"\", \"pol\\u00edtico\"], [\"Ailton Benedito\", \"\", \"procurador da rep\\u00fablica\"], [\"Davy Albuquerque\", \"Republicanos\", \"jornalista\"], [\"Al\\u00ea Silva \\ud83c\\udde7\\ud83c\\uddf7 nem lugar na fila eu quero\\ud83c\\udde7\\ud83c\\uddf7\", \"PSL\", \"pol\\u00edtico\"], [\"Alexandre Aleluia\", \"Democratas\", \"pol\\u00edtico\"], [\"Alexandre Garcia\", \"\", \"jornalista, youtuber\"], [\"Aline Barros\", \"\", \"m\\u00fasico, religioso, escritor, empres\\u00e1rio\"], [\"Amanda Audi\", \"\", \"jornalista\"], [\"Ana Paula Valad\\u00e3o Bessa\", \"\", \"m\\u00fasico, religioso, escritor\"], [\"Ana Paula Henkel\", \"\", \"esportista, jornalista\"], [\"Andr\\u00e9 Fernandes\", \"Republicanos\", \"pol\\u00edtico, jornalista, youtuber\"], [\"Andre Valadao\", \"\", \"m\\u00fasico, religioso\"], [\"Andreza\", \"\", \"ativista negro, produtor cultural, youtuber, podcaster, jornalista\"], [\"Anielle Franco\", \"\", \"professor, jornalista, escritor, ativista negro\"], [\"Antonia Pellegrino\", \"PSOL\", \"diretor, produtor, escritor, roteirista\"], [\"Arthur Weintraub\", \"\", \"acad\\u00eamico\"], [\"\\u00c1urea Carolina\", \"PSOL\", \"pol\\u00edtico, ativista negro, acad\\u00eamico, cientista social\"], [\"Isabela Reis\", \"\", \"jornalista, ativista negro, podcaster, escritor\"], [\"Bia Kicis\", \"PSL\", \"procurador da rep\\u00fablica, pol\\u00edtico, advogado, youtuber\"], [\"Bibo Nunes\", \"PSL\", \"pol\\u00edtico, empres\\u00e1rio, jornalista\"], [\"Edir Macedo\", \"\", \"religioso, pastor evang\\u00e9lico\"], [\"Eduardo Bolsonaro\", \"PSL\", \"pol\\u00edtico, policial federal, advogado\"], [\"Eliane Brum\", \"\", \"jornalista, escritor, documentarista\"], [\"Bruna Karla\", \"\", \"m\\u00fasico, religioso\"], [\"Bruno Engler\", \"PRTB\", \"pol\\u00edtico\"], [\"Junio Amaral\", \"PSL\", \"pol\\u00edtico, militar\"], [\"Capit\\u00e3o Derrite\", \"Progressistas\", \"militar, pol\\u00edtico\"], [\"Carina Vitral\", \"PCdoB\", \"pol\\u00edtico\"], [\"Carla Zambelli\", \"PSL\", \"pol\\u00edtico, escritor\"], [\"Carlos Viana\", \"PSD\", \"pol\\u00edtico, jornalista\"], [\"Carlos Bolsonaro\", \"Republicanos\", \"pol\\u00edtico\"], [\"Carlos Jordy\", \"PSL\", \"pol\\u00edtico, turism\\u00f3logo, servidor p\\u00fablico\"], [\"Carmelo Neto\", \"Republicanos\", \"pol\\u00edtico\"], [\"Caroline De Toni\", \"PSL\", \"pol\\u00edtico, advogado\"], [\"Gil Diniz\", \"PSL\", \"pol\\u00edtico, servidor p\\u00fablico\"], [\"Clara Averbuck\", \"PT\", \"jornalista, escritor\"], [\"Clau de Luca\", \"PRTB\", \"publicit\\u00e1rio, m\\u00fasico\"], [\"Cris Bartis\", \"\", \"podcaster, jornalista\"], [\"cynara menezes\", \"\", \"jornalista, blogueiro, escritor\"], [\"Damares Alves\", \"Progressistas\", \"pol\\u00edtico, religioso, advogado\"], [\"Daniel Silveira\", \"PTB\", \"pol\\u00edtico, militar\"], [\"Dani Monteiro\", \"PSOL\", \"ativista negro, pol\\u00edtico\"], [\"Benedita da Silva\", \"PT\", \"pol\\u00edtico, professor, servidor p\\u00fablico, assistente social, auxiliar de enfermagem\"], [\"David M. Quinlan\", \"\", \"m\\u00fasico, religioso\"], [\"Debora Diniz\", \"\", \"antrop\\u00f3logo, acad\\u00eamico, pesquisador, professor, escritor, documentarista\"], [\"Debora Baldin\", \"\", \"podcaster, youtuber\"], [\"Bruna de Lara\", \"\", \"jornalista, escritor\"], [\"Helio Lopes\", \"PSL\", \"militar, pol\\u00edtico\"], [\"Professora Dayane Pimentel\", \"PSL\", \"pol\\u00edtico, professor\"], [\"Daniel Freitas\", \"PSL\", \"pol\\u00edtico, empres\\u00e1rio\"], [\"Direita Goi\\u00e1s\", \"\", \"coletivo, pol\\u00edtico\"], [\"Direita Minas\", \"\", \"coletivo, pol\\u00edtico\"], [\"Dom\", \"Republicanos\", \"influencer, pol\\u00edtico\"], [\"Douglas Garcia\", \"PTB\", \"pol\\u00edtico\"], [\"Dra. Soraya Manato\", \"PSL\", \"m\\u00e9dico, pol\\u00edtico\"], [\"Delegado \\u00c9der Mauro\", \"PSD\", \"pol\\u00edtico, delegado\"], [\"Edson Salom\\u00e3o\", \"PRTB\", \"pol\\u00edtico, youtuber\"], [\"Elika Takimoto\", \"PT\", \"pol\\u00edtico, acad\\u00eamico, escritor, professor\"], [\"Elza Soares\", \"\", \"ativista negro, m\\u00fasico\"], [\"ERIKA HILTON\", \"PSOL\", \"ativista negro, pol\\u00edtico, ativista trans\"], [\"Erika Kokay\", \"PT\", \"psic\\u00f3logo, pol\\u00edtico, banc\\u00e1rio, sindicalista\"], [\"Ernesto Ara\\u00fajo\", \"\", \"pol\\u00edtico, diplomata, embaixador\"], [\"Escola sem Partido\", \"\", \"coletivo, pol\\u00edtico\"], [\"MBC \\u2013 Movimento Brasil Conservador\", \"\", \"coletivo, pol\\u00edtico\"], [\"Fabiana Barroso\", \"Patriota\", \"advogado\"], [\"Cida Falabella\", \"PSOL\", \"ator, diretor, professor , pol\\u00edtico\"], [\"Felipe C. Pedri\", \"\", \"pol\\u00edtico, publicit\\u00e1rio\"], [\"Fernanda Barth vereadora\", \"PRTB\", \"cientista pol\\u00edtico, jornalista, pol\\u00edtico\"], [\"Fernanda Melchionna\", \"PSOL\", \"bibliotec\\u00e1rio, banc\\u00e1rio, pol\\u00edtico\"], [\"Fernando Holiday\", \"Patriota\", \"pol\\u00edtico\"], [\"Felipe Francischini\", \"PSL\", \"pol\\u00edtico, advogado\"], [\"Filipe G. Martins\", \"\", \"professor, pol\\u00edtico\"], [\"Filipe Barros\", \"PSL\", \"pol\\u00edtico, advogado\"], [\"Fl\\u00e1via Oliveira\", \"\", \"jornalista, podcaster\"], [\"Flavio Bolsonaro\", \"Republicanos\", \"pol\\u00edtico, advogado, empres\\u00e1rio\"], [\"Gabi Coelho\", \"\", \"jornalista, universit\\u00e1rio, podcaster, produtor\"], [\"gabrielle\", \"\", \"podcaster\"], [\"Sonia Guajajara\", \"PSOL\", \"pol\\u00edtico, ativista ind\\u00edgena, enfermeiro\"], [\"Heitor Freire\", \"PSL\", \"pol\\u00edtico\"], [\"Bia Ferreira\", \"\", \"m\\u00fasico, ativista negro, ativista l\\u00e9sbica\"], [\"Instituto Marielle Franco\", \"\", \"organiza\\u00e7\\u00e3o, negro\"], [\"Deputada Isa Penna #VacinaJ\\u00e1\", \"PSOL\", \"pol\\u00edtico, ativista ecossocialista, advogado\"], [\"Jair M. Bolsonaro\", \"PSL\", \"pol\\u00edtico, militar\"], [\"Jandira Feghali\", \"PCdoB\", \"m\\u00e9dico, pol\\u00edtico, sindicalista\"], [\"Suzane Jardim\", \"\", \"historiador, acad\\u00eamico, ativista negro\"], [\"Margarida Salom\\u00e3o\", \"PT\", \"acad\\u00eamico, professor, sindicalista, pol\\u00edtico\"], [\"JOS\\u00c9 MEDEIROS\", \"Podemos\", \"pol\\u00edtico, policial rodovi\\u00e1rio, professor, matem\\u00e1tico\"], [\"Jout Jout\", \"\", \"escritor, jornalista, youtuber\"], [\"Joanna Maranh\\u00e3o\", \"PSOL\", \"esportista\"], [\"Jurema Werneck\", \"\", \"ativista negro, m\\u00e9dico, acad\\u00eamico\"], [\"Ju Wallauer\", \"\", \"podcaster, jornalista\"], [\"Kim Kataguiri\", \"Democratas\", \"pol\\u00edtico\"], [\"Laerte Coutinho\", \"\", \"quadrinista, ativista trans\"], [\"Laura Carvalho\", \"\", \"economista, acad\\u00eamico, escritor, podcaster\"], [\"Leandro Ruschel\", \"\", \"empreendedor, escritor, investidor, youtuber\"], [\"Leci Brand\\u00e3o\", \"PCdoB\", \"pol\\u00edtico, m\\u00fasico\"], [\"Let\\u00edcia Parks\", \"\", \"professor, pol\\u00edtico\"], [\"Leticia Aguiar\", \"PSL\", \"pol\\u00edtico\"], [\"Linn da Quebrada\", \"\", \"artista, ativista negro, ativista trans, ator, roteirista, jornalista, m\\u00fasico\"], [\"Lola Aronovich\", \"\", \"acad\\u00eamico, blogueiro, professor\"], [\"Italo Lorenzon\", \"\", \"jornalista\"], [\"louie ponto\", \"\", \"youtuber, ativista l\\u00e9sbica\"], [\"Luciana Boiteux\", \"PSOL\", \"advogado, acad\\u00eamico, professor, pol\\u00edtico\"], [\"Luciana Genro\", \"PSOL\", \"pol\\u00edtico, advogado\"], [\"Luiza Erundina\", \"PSOL\", \"pol\\u00edtico, assistente social\"], [\"LUIZ CAMARGO vlog\", \"\", \"youtuber\"], [\"negaluy\", \"\", \"ativista negro\"], [\"magno malta\", \"PL\", \"pol\\u00edtico, religioso, m\\u00fasico\"], [\"V\\u00edtor Hugo\", \"PSL\", \"pol\\u00edtico, militar, advogado\"], [\"Erica Malunguinho\", \"PSOL\", \"ativista negro, pol\\u00edtico, ativista trans, artista, professor\"], [\"Manuela Barem\", \"\", \"jornalista\"], [\"Manuela\", \"PCdoB\", \"pol\\u00edtico, escritor, jornalista\"], [\"Marcel van Hattem\", \"NOVO\", \"cientista pol\\u00edtico, jornalista, pol\\u00edtico\"], [\"marcia tiburi\", \"PT\", \"fil\\u00f3sofo, acad\\u00eamico, professor, artista, escritor\"], [\"Marcio Labre Oficial\", \"PSL\", \"pol\\u00edtico, youtuber, empres\\u00e1rio , jornalista\"], [\"Mar\\u00edlia Arraes\", \"PT\", \"pol\\u00edtico, advogado\"], [\"Mar\\u00edlia Moscou\", \"PCB\", \"acad\\u00eamico, escritor, professor, cientista social\"], [\"MARISA LOBO-Supl.Dep.Federal\", \"Avante\", \"pol\\u00edtico, psic\\u00f3logo, religioso\"], [\"Maur\\u00edcio Costa\", \"\", \"jornalista, podcaster\"], [\"Movimento Avan\\u00e7a Brasil\", \"\", \"coletivo, pol\\u00edtico\"], [\"MBL - Movimento Brasil Livre\", \"\", \"coletivo, pol\\u00edtico\"], [\"MC Carol\", \"PCdoB\", \"m\\u00fasico\"], [\"Marcelo Crivella\", \"Republicanos\", \"pol\\u00edtico, engenheiro, m\\u00fasico, escritor, religioso\"], [\"Milly Lacombe\", \"\", \"ativista l\\u00e9sbica, jornalista, escritor, roteirista\"], [\"Monica Benicio\", \"\", \"arquiteto, urbanista, ativista l\\u00e9sbica, pol\\u00edtico\"], [\"M\\u00f4nica Bergamo\", \"\", \"jornalista\"], [\"M\\u00f4nica Francisco\", \"PSOL\", \"ativista negro, religioso, pastor evang\\u00e9lico, pol\\u00edtico, cientista social\"], [\"Monica Seixas\", \"PSOL\", \"pol\\u00edtico, ativista negro, ativista ecossocialista, jornalista, redator\"], [\"Preta Ijim\\u00fa\", \"\", \"acad\\u00eamico, cientista pol\\u00edtico, podcaster, ativista negro, professor\"], [\"N\\u00e1taly Neri\", \"\", \"ativista negro, cientista social, ativista vegano, youtuber\"], [\"Nat\\u00e1lia Bonavides\", \"PT\", \"pol\\u00edtico, advogado\"], [\"Olavo de Carvalho\", \"\", \"fil\\u00f3sofo, escritor, jornalista, professor\"], [\"Onyx Lorenzoni\", \"Democratas\", \"pol\\u00edtico, veterin\\u00e1rio, empres\\u00e1rio\"], [\"Otoni de Paula\", \"PSC\", \"pol\\u00edtico, religioso\"], [\"Padre Paulo Ricardo\", \"\", \"religioso, youtuber, professor, radialista\"], [\"Paola Carosella\", \"\", \"cozinheiro, chef, empres\\u00e1rio\"], [\"\\u262dLisa D\\u00e9bora Perp\\u00e9tua da Fa\\u00edsca\", \"\", \"ativista l\\u00e9sbica\"], [\"Liomar de Oliveira\", \"Republicanos\", \"pol\\u00edtico, religioso\"], [\"Silas Malafaia\", \"\", \"religioso, psic\\u00f3logo, te\\u00f3logo\"], [\"Paulo A. Briguet\", \"\", \"jornalista, escritor\"], [\"paulo eneas\", \"\", \"jornalista\"], [\"Paulo Eduardo Martins\", \"PSC\", \"jornalista, pol\\u00edtico\"], [\"Perp\\u00e9tua Almeida\", \"PCdoB\", \"professor, banc\\u00e1rio , pol\\u00edtico\"], [\"Petra Costa\", \"\", \"cineasta, diretor\"], [\"Fernanda Brum\", \"\", \"m\\u00fasico, religioso, escritor, ator\"], [\"Paula Marisa\", \"PRTB\", \"jornalista, professor\"], [\"Partido Social Liberal - PSL\", \"\", \"partido, pol\\u00edtico\"], [\"Rodrigo Constantino\", \"\", \"economista, jornalista\"], [\"Renata Souza\", \"PSOL\", \"acad\\u00eamico, jornalista, pol\\u00edtico, ativista negro\"], [\"Fernanda Salles\", \"\", \"jornalista, youtuber\"], [\"Rita Lisauskas\", \"\", \"jornalista, blogueiro\"], [\"Rog\\u00e9rio Marinho\", \"PSDB\", \"pol\\u00edtico, economista\"], [\"Sabrina Fernandes\", \"PSOL\", \"cientista social, acad\\u00eamico, escritor, youtuber, ativista ecossocialista, professor, podcaster\"], [\"S\\u00e2mia Bomfim\", \"PSOL\", \"pol\\u00edtico, servidor p\\u00fablico\"], [\"Sarita Coelho\", \"\", \"jornalista, servidor p\\u00fablico\"], [\"S\\u00e9rgio Camargo\", \"\", \"pol\\u00edtico, jornalista\"], [\"Alian\\u00e7a pelo Brasil\", \"\", \"coletivo, pol\\u00edtico\"], [\"Sueli Carneiro\", \"\", \"acad\\u00eamico, ativista negro, fil\\u00f3sofo, escritor\"], [\"Tal\\u00edria Petrone\", \"PSOL\", \"pol\\u00edtico, professor, historiador, ativista negro\"], [\"Tamires De Paula\", \"PSL\", \"influencer\"], [\"TeAtualizei\", \"\", \"youtuber\"], [\"Tati Nefertari\", \"\", \"universit\\u00e1rio, ativista negro\"], [\"Tatiana Roque\", \"PSOL\", \"acad\\u00eamico, professor, matem\\u00e1tico, youtuber\"], [\"Ana Flor\", \"\", \"ativista trans, pedagogo, acad\\u00eamico\"], [\"Tenente Santini\", \"Progressistas\", \"policial militar, pol\\u00edtico, empres\\u00e1rio\"], [\"Chris Tonietto\", \"PSL\", \"pol\\u00edtico, advogado\"], [\"Sher Machado\", \"\", \"ativista trans, ativista negro, f\\u00edsico, streamer\"], [\"Bueno.\", \"\", \"acad\\u00eamico, ativista negro\"]], \"hovertemplate\": \"mid_str=N\\u00e3o M\\u00eddias<br>Ponto Ideal=%{x}<br>Tamanho relativo de Seguidores Analisados=%{y}<br>Nome=%{customdata[0]}<br>Partido=%{customdata[1]}<br>Classifica\\u00e7\\u00f5es=%{customdata[2]}<extra></extra>\", \"legendgroup\": \"N\\u00e3o M\\u00eddias\", \"marker\": {\"color\": \"lightgrey\", \"symbol\": \"circle\"}, \"mode\": \"markers\", \"name\": \"N\\u00e3o M\\u00eddias\", \"orientation\": \"v\", \"showlegend\": true, \"type\": \"scatter\", \"x\": [-1.3834799999999998, 1.5077450000000001, 1.547544, 1.555408, 1.538618, 1.5921040000000002, 1.115909, 0.062928, -1.3184209999999998, 0.05396, 1.123759, 1.404835, 0.22532, -2.251423, -1.7380330000000002, -1.448386, 1.569364, -1.5805360000000002, -2.045617, 1.5002959999999999, 1.442361, 0.131298, 0.966274, -1.401738, 0.021424000000000002, 1.549531, 1.415577, 1.362441, -1.321101, 1.184482, 0.513835, 1.058905, 1.611404, 1.45997, 1.564577, 1.636417, -1.618628, 1.409497, -1.670168, -1.3220610000000002, 1.149155, 1.514535, -1.656366, -1.298902, 0.114927, -1.521974, -2.0058119999999997, -1.385043, 1.478428, 0.604191, 1.3864889999999999, 1.18195, 1.3503610000000001, 1.5517100000000001, 1.83152, 1.214076, 1.439951, 1.814844, -1.450352, -1.761039, -2.031606, -1.1654, 1.096643, 1.135365, 1.511924, 1.5347680000000001, -1.59273, 1.764806, 1.565589, -1.324394, 0.303846, 0.9688700000000001, 1.4221409999999999, 1.659356, -1.326052, 0.770213, -1.8704740000000002, -2.184599, -1.575197, 0.979309, -2.254809, -1.788807, -1.432304, 1.017907, -1.201901, -2.0657959999999997, -1.142013, 1.070514, -1.951114, -1.466502, -1.9856779999999998, -1.662236, 0.20044, -1.590255, -1.328849, 1.235371, -1.429151, -2.03648, 1.394875, -2.265995, -1.515064, 1.595204, -2.2264909999999998, -1.584902, -1.2614809999999999, -1.320881, 1.786427, -2.011198, 0.834892, 1.317431, -2.0100279999999997, -1.650467, -1.343015, 0.878639, -1.389608, 1.497774, -1.225918, -1.8225740000000001, 0.7435970000000001, 1.21685, 1.313536, 0.201953, -2.021261, 0.371843, -1.467044, -1.6855259999999999, -0.9054459999999999, -1.680734, -1.518306, -2.17928, -2.436118, -1.3322379999999998, 0.861183, 0.916351, 1.573821, 1.035599, -1.376681, -1.278515, 1.281867, 0.511582, 1.595725, 1.8136860000000001, 1.153463, -1.176082, -1.4258629999999999, 0.067284, 1.7587720000000002, 0.5743699999999999, 1.125796, -1.6349790000000002, 1.7270279999999998, -1.288384, 1.054836, -1.6520029999999999, -1.4454209999999998, 1.533498, 1.684748, 1.443481, -2.045003, -1.569423, 1.3362100000000001, 1.808327, -2.256308, -1.430445, -2.4336759999999997, 1.450986, 1.453762, -2.4905150000000003, -2.089623], \"xaxis\": \"x\", \"y\": [0.12203037399069153, 0.4255225084291225, 0.1676885257051799, 0.10108631227105337, 0.09143290224161217, 0.028474401702342663, 0.6397145272403976, 0.22040090558411146, 0.12781659006772447, 0.15603836100935706, 0.3817153628652215, 0.10681908722562843, 0.15400759835595673, 0.06750099594819126, 0.09012116559946365, 0.02789626592302535, 0.2884606041761808, 0.07740703673834255, 0.034246042927796184, 0.32190017198324866, 0.09804502657481272, 0.04714964485944985, 0.6060709115112177, 0.15653876424691743, 0.12476072951990438, 0.03533915679625329, 0.06602893593866903, 0.08325641050555302, 0.02843553543146419, 0.40376225502103635, 0.02282421757338438, 0.5799867854679013, 0.22025029878445737, 0.09941506262327895, 0.20786167494194352, 0.14761895508030742, 0.06019413702303798, 0.039050885665147646, 0.04170836693646336, 0.15410476403315293, 0.41589338981898033, 0.09225395221391995, 0.025855786701905418, 0.07657141191445534, 0.09479969295646005, 0.13290807155280468, 0.04173265835576241, 0.07191231769289816, 0.19406900706394473, 0.03450839025622589, 0.025117327555214397, 0.016003187034212035, 0.03229787110001263, 0.043316458894060265, 0.16764965943430143, 0.02377644120990701, 0.06670423739518253, 0.049539920518476055, 0.12558177949221216, 0.06256012126276514, 0.019136780123789072, 0.11236724739353071, 0.3413381657063459, 0.10672677983229203, 0.13506514958656005, 0.11002555457310259, 0.027016916544399857, 0.058046775557002245, 0.01725176598618304, 0.08977136916155737, 0.14545701876269226, 0.07657141191445534, 0.23924618867631198, 0.20091918730627592, 0.14395580905001118, 0.4880631965564484, 0.022076041858973737, 0.03259908469932081, 0.08125965583917137, 0.02052624930769455, 0.04205330509050983, 0.060330168971112645, 0.025666313631372853, 1.0, 0.21285113246596774, 0.019355402897480493, 0.049729393589008616, 0.0817940670637504, 0.15431367023912473, 0.1142328283956975, 0.01696026895459448, 0.04618770465520759, 0.24526074409475596, 0.21208838189997764, 0.1460983122321871, 0.22646404384115354, 0.02585092841804561, 0.024461459234140132, 0.02676914406754958, 0.10051303477559587, 0.12662631052207118, 0.1496740091530068, 0.09441588853153512, 0.01849548665429424, 0.1410068307471069, 0.15352662825383562, 0.07161110409358998, 0.02622501627525093, 0.28190192096543815, 0.14442220430055286, 0.03559178755696338, 0.04531807184430172, 0.4900308015196712, 0.20949405831883947, 0.09316730957956411, 0.0669520098720328, 0.03116103267681724, 0.02380073262920606, 0.05239173314418415, 0.07688720036534295, 0.03746708512684979, 0.22672639116958326, 0.08840619139695094, 0.05043384474868098, 0.048014419386495914, 0.0506038846837743, 0.3855582653983307, 0.030203950756434797, 0.02568088848295228, 0.04305896984949037, 0.14981004110108145, 0.047999844534916486, 0.36502715780677636, 0.3221770941632578, 0.08234305313990886, 0.07372445757260705, 0.425153278855777, 0.030757795116453063, 0.04043549656519331, 0.23752149790607965, 0.04355451480319092, 0.04303953671405113, 0.16691120028761042, 0.016668771923005917, 0.1819087225628419, 0.18511033162645626, 0.1660755754637232, 0.1031753743307714, 0.2788557769853377, 0.04666867475732872, 0.13437527327846713, 0.07792687311134215, 0.08551065421650456, 0.16502132786614457, 0.2622695958879485, 0.024281702731327185, 0.15513472021143251, 0.20403820554427354, 0.03448895712078665, 0.1942001807281596, 0.04118853056346376, 0.20278476830844272, 0.05598200491658327, 0.03656344432892525, 0.03101528416102296, 0.016216951524043646, 0.04485653487761983, 0.022066325291254116, 0.11351866066830553], \"yaxis\": \"y\"}, {\"customdata\": [[\"Blogueiras Feministas\", \"\", \"m\\u00eddia, feminista\"], [\"Blogueiras Negras\", \"\", \"m\\u00eddia, negro\"], [\"Brasil Paralelo\", \"\", \"m\\u00eddia, pol\\u00edtico\"], [\"Fam\\u00edliaDireitaBrasil\", \"\", \"m\\u00eddia, pol\\u00edtico\"], [\"Conex\\u00e3o Pol\\u00edtica\", \"\", \"m\\u00eddia, pol\\u00edtico\"], [\"Cr\\u00edtica Nacional\", \"\", \"m\\u00eddia, pol\\u00edtico\"], [\"Caneta Desesquerdizadora\", \"\", \"m\\u00eddia, conservador\"], [\"Geled\\u00e9s Instituto da Mulher Negra\", \"\", \"m\\u00eddia, negro\"], [\"Brasil Sem Medo\", \"\", \"m\\u00eddia, pol\\u00edtico\"], [\"N\\u00e3o Me Kahlo\", \"\", \"coletivo, m\\u00eddia, feminista\"], [\"ONU Mulheres Brasil\", \"\", \"coletivo, m\\u00eddia, feminista\"], [\"Revista AzMina\", \"\", \"m\\u00eddia, feminista\"], [\"Senso Incomum\", \"\", \"m\\u00eddia, pol\\u00edtico\"], [\"Portal Ter\\u00e7a Livre\", \"\", \"m\\u00eddia, pol\\u00edtico\"], [\"Tese Onze\", \"\", \"m\\u00eddia, pol\\u00edtico, ecossocialista\"]], \"hovertemplate\": \"mid_str=M\\u00eddias<br>Ponto Ideal=%{x}<br>Tamanho relativo de Seguidores Analisados=%{y}<br>Nome=%{customdata[0]}<br>Partido=%{customdata[1]}<br>Classifica\\u00e7\\u00f5es=%{customdata[2]}<extra></extra>\", \"legendgroup\": \"M\\u00eddias\", \"marker\": {\"color\": \"red\", \"symbol\": \"circle\"}, \"mode\": \"markers\", \"name\": \"M\\u00eddias\", \"orientation\": \"v\", \"showlegend\": true, \"type\": \"scatter\", \"x\": [-1.823219, -2.020968, 1.306806, 1.403122, 1.252818, 1.517881, 0.6285350000000001, -1.952359, 1.675497, -1.872436, -1.490895, -1.781304, 1.137893, 1.531937, -1.822257], \"xaxis\": \"x\", \"y\": [0.041096223170127386, 0.03672862598015877, 0.15313310726119106, 0.11556399817328526, 0.29618527551327767, 0.089577037807165, 0.17010309278350516, 0.0467075410282072, 0.18167552493757105, 0.06543136702391247, 0.022396688593721154, 0.02403393025447691, 0.14763352993188686, 0.23860975349067695, 0.02691975086720367], \"yaxis\": \"y\"}],                        {\"legend\": {\"title\": {\"text\": \"mid_str\"}, \"tracegroupgap\": 0}, \"margin\": {\"t\": 60}, \"template\": {\"data\": {\"bar\": [{\"error_x\": {\"color\": \"#2a3f5f\"}, \"error_y\": {\"color\": \"#2a3f5f\"}, \"marker\": {\"line\": {\"color\": \"#E5ECF6\", \"width\": 0.5}}, \"type\": \"bar\"}], \"barpolar\": [{\"marker\": {\"line\": {\"color\": \"#E5ECF6\", \"width\": 0.5}}, \"type\": \"barpolar\"}], \"carpet\": [{\"aaxis\": {\"endlinecolor\": \"#2a3f5f\", \"gridcolor\": \"white\", \"linecolor\": \"white\", \"minorgridcolor\": \"white\", \"startlinecolor\": \"#2a3f5f\"}, \"baxis\": {\"endlinecolor\": \"#2a3f5f\", \"gridcolor\": \"white\", \"linecolor\": \"white\", \"minorgridcolor\": \"white\", \"startlinecolor\": \"#2a3f5f\"}, \"type\": \"carpet\"}], \"choropleth\": [{\"colorbar\": {\"outlinewidth\": 0, \"ticks\": \"\"}, \"type\": \"choropleth\"}], \"contour\": [{\"colorbar\": {\"outlinewidth\": 0, \"ticks\": \"\"}, \"colorscale\": [[0.0, \"#0d0887\"], [0.1111111111111111, \"#46039f\"], [0.2222222222222222, \"#7201a8\"], [0.3333333333333333, \"#9c179e\"], [0.4444444444444444, \"#bd3786\"], [0.5555555555555556, \"#d8576b\"], [0.6666666666666666, \"#ed7953\"], [0.7777777777777778, \"#fb9f3a\"], [0.8888888888888888, \"#fdca26\"], [1.0, \"#f0f921\"]], \"type\": \"contour\"}], \"contourcarpet\": [{\"colorbar\": {\"outlinewidth\": 0, \"ticks\": \"\"}, \"type\": \"contourcarpet\"}], \"heatmap\": [{\"colorbar\": {\"outlinewidth\": 0, \"ticks\": \"\"}, \"colorscale\": [[0.0, \"#0d0887\"], [0.1111111111111111, \"#46039f\"], [0.2222222222222222, \"#7201a8\"], [0.3333333333333333, \"#9c179e\"], [0.4444444444444444, \"#bd3786\"], [0.5555555555555556, \"#d8576b\"], [0.6666666666666666, \"#ed7953\"], [0.7777777777777778, \"#fb9f3a\"], [0.8888888888888888, \"#fdca26\"], [1.0, \"#f0f921\"]], \"type\": \"heatmap\"}], \"heatmapgl\": [{\"colorbar\": {\"outlinewidth\": 0, \"ticks\": \"\"}, \"colorscale\": [[0.0, \"#0d0887\"], [0.1111111111111111, \"#46039f\"], [0.2222222222222222, \"#7201a8\"], [0.3333333333333333, \"#9c179e\"], [0.4444444444444444, \"#bd3786\"], [0.5555555555555556, \"#d8576b\"], [0.6666666666666666, \"#ed7953\"], [0.7777777777777778, \"#fb9f3a\"], [0.8888888888888888, \"#fdca26\"], [1.0, \"#f0f921\"]], \"type\": \"heatmapgl\"}], \"histogram\": [{\"marker\": {\"colorbar\": {\"outlinewidth\": 0, \"ticks\": \"\"}}, \"type\": \"histogram\"}], \"histogram2d\": [{\"colorbar\": {\"outlinewidth\": 0, \"ticks\": \"\"}, \"colorscale\": [[0.0, \"#0d0887\"], [0.1111111111111111, \"#46039f\"], [0.2222222222222222, \"#7201a8\"], [0.3333333333333333, \"#9c179e\"], [0.4444444444444444, \"#bd3786\"], [0.5555555555555556, \"#d8576b\"], [0.6666666666666666, \"#ed7953\"], [0.7777777777777778, \"#fb9f3a\"], [0.8888888888888888, \"#fdca26\"], [1.0, \"#f0f921\"]], \"type\": \"histogram2d\"}], \"histogram2dcontour\": [{\"colorbar\": {\"outlinewidth\": 0, \"ticks\": \"\"}, \"colorscale\": [[0.0, \"#0d0887\"], [0.1111111111111111, \"#46039f\"], [0.2222222222222222, \"#7201a8\"], [0.3333333333333333, \"#9c179e\"], [0.4444444444444444, \"#bd3786\"], [0.5555555555555556, \"#d8576b\"], [0.6666666666666666, \"#ed7953\"], [0.7777777777777778, \"#fb9f3a\"], [0.8888888888888888, \"#fdca26\"], [1.0, \"#f0f921\"]], \"type\": \"histogram2dcontour\"}], \"mesh3d\": [{\"colorbar\": {\"outlinewidth\": 0, \"ticks\": \"\"}, \"type\": \"mesh3d\"}], \"parcoords\": [{\"line\": {\"colorbar\": {\"outlinewidth\": 0, \"ticks\": \"\"}}, \"type\": \"parcoords\"}], \"pie\": [{\"automargin\": true, \"type\": \"pie\"}], \"scatter\": [{\"marker\": {\"colorbar\": {\"outlinewidth\": 0, \"ticks\": \"\"}}, \"type\": \"scatter\"}], \"scatter3d\": [{\"line\": {\"colorbar\": {\"outlinewidth\": 0, \"ticks\": \"\"}}, \"marker\": {\"colorbar\": {\"outlinewidth\": 0, \"ticks\": \"\"}}, \"type\": \"scatter3d\"}], \"scattercarpet\": [{\"marker\": {\"colorbar\": {\"outlinewidth\": 0, \"ticks\": \"\"}}, \"type\": \"scattercarpet\"}], \"scattergeo\": [{\"marker\": {\"colorbar\": {\"outlinewidth\": 0, \"ticks\": \"\"}}, \"type\": \"scattergeo\"}], \"scattergl\": [{\"marker\": {\"colorbar\": {\"outlinewidth\": 0, \"ticks\": \"\"}}, \"type\": \"scattergl\"}], \"scattermapbox\": [{\"marker\": {\"colorbar\": {\"outlinewidth\": 0, \"ticks\": \"\"}}, \"type\": \"scattermapbox\"}], \"scatterpolar\": [{\"marker\": {\"colorbar\": {\"outlinewidth\": 0, \"ticks\": \"\"}}, \"type\": \"scatterpolar\"}], \"scatterpolargl\": [{\"marker\": {\"colorbar\": {\"outlinewidth\": 0, \"ticks\": \"\"}}, \"type\": \"scatterpolargl\"}], \"scatterternary\": [{\"marker\": {\"colorbar\": {\"outlinewidth\": 0, \"ticks\": \"\"}}, \"type\": \"scatterternary\"}], \"surface\": [{\"colorbar\": {\"outlinewidth\": 0, \"ticks\": \"\"}, \"colorscale\": [[0.0, \"#0d0887\"], [0.1111111111111111, \"#46039f\"], [0.2222222222222222, \"#7201a8\"], [0.3333333333333333, \"#9c179e\"], [0.4444444444444444, \"#bd3786\"], [0.5555555555555556, \"#d8576b\"], [0.6666666666666666, \"#ed7953\"], [0.7777777777777778, \"#fb9f3a\"], [0.8888888888888888, \"#fdca26\"], [1.0, \"#f0f921\"]], \"type\": \"surface\"}], \"table\": [{\"cells\": {\"fill\": {\"color\": \"#EBF0F8\"}, \"line\": {\"color\": \"white\"}}, \"header\": {\"fill\": {\"color\": \"#C8D4E3\"}, \"line\": {\"color\": \"white\"}}, \"type\": \"table\"}]}, \"layout\": {\"annotationdefaults\": {\"arrowcolor\": \"#2a3f5f\", \"arrowhead\": 0, \"arrowwidth\": 1}, \"coloraxis\": {\"colorbar\": {\"outlinewidth\": 0, \"ticks\": \"\"}}, \"colorscale\": {\"diverging\": [[0, \"#8e0152\"], [0.1, \"#c51b7d\"], [0.2, \"#de77ae\"], [0.3, \"#f1b6da\"], [0.4, \"#fde0ef\"], [0.5, \"#f7f7f7\"], [0.6, \"#e6f5d0\"], [0.7, \"#b8e186\"], [0.8, \"#7fbc41\"], [0.9, \"#4d9221\"], [1, \"#276419\"]], \"sequential\": [[0.0, \"#0d0887\"], [0.1111111111111111, \"#46039f\"], [0.2222222222222222, \"#7201a8\"], [0.3333333333333333, \"#9c179e\"], [0.4444444444444444, \"#bd3786\"], [0.5555555555555556, \"#d8576b\"], [0.6666666666666666, \"#ed7953\"], [0.7777777777777778, \"#fb9f3a\"], [0.8888888888888888, \"#fdca26\"], [1.0, \"#f0f921\"]], \"sequentialminus\": [[0.0, \"#0d0887\"], [0.1111111111111111, \"#46039f\"], [0.2222222222222222, \"#7201a8\"], [0.3333333333333333, \"#9c179e\"], [0.4444444444444444, \"#bd3786\"], [0.5555555555555556, \"#d8576b\"], [0.6666666666666666, \"#ed7953\"], [0.7777777777777778, \"#fb9f3a\"], [0.8888888888888888, \"#fdca26\"], [1.0, \"#f0f921\"]]}, \"colorway\": [\"#636efa\", \"#EF553B\", \"#00cc96\", \"#ab63fa\", \"#FFA15A\", \"#19d3f3\", \"#FF6692\", \"#B6E880\", \"#FF97FF\", \"#FECB52\"], \"font\": {\"color\": \"#2a3f5f\"}, \"geo\": {\"bgcolor\": \"white\", \"lakecolor\": \"white\", \"landcolor\": \"#E5ECF6\", \"showlakes\": true, \"showland\": true, \"subunitcolor\": \"white\"}, \"hoverlabel\": {\"align\": \"left\"}, \"hovermode\": \"closest\", \"mapbox\": {\"style\": \"light\"}, \"paper_bgcolor\": \"white\", \"plot_bgcolor\": \"#E5ECF6\", \"polar\": {\"angularaxis\": {\"gridcolor\": \"white\", \"linecolor\": \"white\", \"ticks\": \"\"}, \"bgcolor\": \"#E5ECF6\", \"radialaxis\": {\"gridcolor\": \"white\", \"linecolor\": \"white\", \"ticks\": \"\"}}, \"scene\": {\"xaxis\": {\"backgroundcolor\": \"#E5ECF6\", \"gridcolor\": \"white\", \"gridwidth\": 2, \"linecolor\": \"white\", \"showbackground\": true, \"ticks\": \"\", \"zerolinecolor\": \"white\"}, \"yaxis\": {\"backgroundcolor\": \"#E5ECF6\", \"gridcolor\": \"white\", \"gridwidth\": 2, \"linecolor\": \"white\", \"showbackground\": true, \"ticks\": \"\", \"zerolinecolor\": \"white\"}, \"zaxis\": {\"backgroundcolor\": \"#E5ECF6\", \"gridcolor\": \"white\", \"gridwidth\": 2, \"linecolor\": \"white\", \"showbackground\": true, \"ticks\": \"\", \"zerolinecolor\": \"white\"}}, \"shapedefaults\": {\"line\": {\"color\": \"#2a3f5f\"}}, \"ternary\": {\"aaxis\": {\"gridcolor\": \"white\", \"linecolor\": \"white\", \"ticks\": \"\"}, \"baxis\": {\"gridcolor\": \"white\", \"linecolor\": \"white\", \"ticks\": \"\"}, \"bgcolor\": \"#E5ECF6\", \"caxis\": {\"gridcolor\": \"white\", \"linecolor\": \"white\", \"ticks\": \"\"}}, \"title\": {\"x\": 0.05}, \"xaxis\": {\"automargin\": true, \"gridcolor\": \"white\", \"linecolor\": \"white\", \"ticks\": \"\", \"title\": {\"standoff\": 15}, \"zerolinecolor\": \"white\", \"zerolinewidth\": 2}, \"yaxis\": {\"automargin\": true, \"gridcolor\": \"white\", \"linecolor\": \"white\", \"ticks\": \"\", \"title\": {\"standoff\": 15}, \"zerolinecolor\": \"white\", \"zerolinewidth\": 2}}}, \"xaxis\": {\"anchor\": \"y\", \"domain\": [0.0, 1.0], \"title\": {\"text\": \"Ponto Ideal\"}}, \"yaxis\": {\"anchor\": \"x\", \"domain\": [0.0, 1.0], \"title\": {\"text\": \"Tamanho relativo de Seguidores Analisados\"}}},                        {\"responsive\": true}                    ).then(function(){\n",
       "                            \n",
       "var gd = document.getElementById('cf81236b-e20b-4c8a-af98-fe488608f5b4');\n",
       "var x = new MutationObserver(function (mutations, observer) {{\n",
       "        var display = window.getComputedStyle(gd).display;\n",
       "        if (!display || display === 'none') {{\n",
       "            console.log([gd, 'removed!']);\n",
       "            Plotly.purge(gd);\n",
       "            observer.disconnect();\n",
       "        }}\n",
       "}});\n",
       "\n",
       "// Listen for the removal of the full notebook cells\n",
       "var notebookContainer = gd.closest('#notebook-container');\n",
       "if (notebookContainer) {{\n",
       "    x.observe(notebookContainer, {childList: true});\n",
       "}}\n",
       "\n",
       "// Listen for the clearing of the current output cell\n",
       "var outputEl = gd.closest('.output');\n",
       "if (outputEl) {{\n",
       "    x.observe(outputEl, {childList: true});\n",
       "}}\n",
       "\n",
       "                        })                };                });            </script>        </div>"
      ]
     },
     "metadata": {},
     "output_type": "display_data"
    }
   ],
   "source": [
    "fig = px.scatter(df, x=\"ponto_ideal\", \n",
    "                 y=\"seguidores_analisados_rel\", \n",
    "                 color=\"mid_str\",\n",
    "                 color_discrete_sequence=['lightgrey', 'red'],\n",
    "                 hover_data=['nome', 'partido', 'profissoes'],\n",
    "                 labels={'seguidores_analisados_rel':'Tamanho relativo de Seguidores Analisados', \n",
    "                         'ponto_ideal':'Ponto Ideal',\n",
    "                         'posicao': 'Classificação',\n",
    "                         'nome': 'Nome',\n",
    "                         'partido': 'Partido',\n",
    "                         'profissoes': 'Classificações'})\n",
    "fig.show()"
   ]
  },
  {
   "cell_type": "code",
   "execution_count": 46,
   "metadata": {},
   "outputs": [
    {
     "data": {
      "application/vnd.plotly.v1+json": {
       "config": {
        "plotlyServerURL": "https://plot.ly"
       },
       "data": [
        {
         "customdata": [
          [
           "Rosana Pinheiro-Machado",
           "PSOL",
           "acadêmico, antropólogo, jornalista, professor"
          ],
          [
           "Antonia Pellegrino",
           "PSOL",
           "diretor, produtor, escritor, roteirista"
          ],
          [
           "Áurea Carolina",
           "PSOL",
           "político, ativista negro, acadêmico, cientista social"
          ],
          [
           "Dani Monteiro",
           "PSOL",
           "ativista negro, político"
          ],
          [
           "ERIKA HILTON",
           "PSOL",
           "ativista negro, político, ativista trans"
          ],
          [
           "Cida Falabella",
           "PSOL",
           "ator, diretor, professor , político"
          ],
          [
           "Fernanda Melchionna",
           "PSOL",
           "bibliotecário, bancário, político"
          ],
          [
           "Sonia Guajajara",
           "PSOL",
           "político, ativista indígena, enfermeiro"
          ],
          [
           "Deputada Isa Penna #VacinaJá",
           "PSOL",
           "político, ativista ecossocialista, advogado"
          ],
          [
           "Joanna Maranhão",
           "PSOL",
           "esportista"
          ],
          [
           "Luciana Boiteux",
           "PSOL",
           "advogado, acadêmico, professor, político"
          ],
          [
           "Luciana Genro",
           "PSOL",
           "político, advogado"
          ],
          [
           "Luiza Erundina",
           "PSOL",
           "político, assistente social"
          ],
          [
           "Erica Malunguinho",
           "PSOL",
           "ativista negro, político, ativista trans, artista, professor"
          ],
          [
           "Mônica Francisco",
           "PSOL",
           "ativista negro, religioso, pastor evangélico, político, cientista social"
          ],
          [
           "Monica Seixas",
           "PSOL",
           "político, ativista negro, ativista ecossocialista, jornalista, redator"
          ],
          [
           "Renata Souza",
           "PSOL",
           "acadêmico, jornalista, político, ativista negro"
          ],
          [
           "Sabrina Fernandes",
           "PSOL",
           "cientista social, acadêmico, escritor, youtuber, ativista ecossocialista, professor, podcaster"
          ],
          [
           "Sâmia Bomfim",
           "PSOL",
           "político, servidor público"
          ],
          [
           "Talíria Petrone",
           "PSOL",
           "político, professor, historiador, ativista negro"
          ],
          [
           "Tatiana Roque",
           "PSOL",
           "acadêmico, professor, matemático, youtuber"
          ]
         ],
         "hovertemplate": "Partido=%{customdata[1]}<br>Ponto Ideal=%{x}<br>Tamanho relativo de Seguidores Analisados=%{y}<br>Nome=%{customdata[0]}<br>Classificações=%{customdata[2]}<extra></extra>",
         "legendgroup": "PSOL",
         "marker": {
          "color": "yellow",
          "symbol": "circle"
         },
         "mode": "markers",
         "name": "PSOL",
         "orientation": "v",
         "showlegend": true,
         "type": "scatter",
         "x": [
          -1.3834799999999998,
          -1.448386,
          -1.5805360000000002,
          -1.656366,
          -2.031606,
          -1.59273,
          -1.324394,
          -1.575197,
          -1.432304,
          -1.466502,
          -1.584902,
          -1.2614809999999999,
          -1.320881,
          -2.0100279999999997,
          -1.680734,
          -1.518306,
          -1.6349790000000002,
          -1.6520029999999999,
          -1.4454209999999998,
          -1.569423,
          -1.430445
         ],
         "xaxis": "x",
         "y": [
          0.12203037399069153,
          0.02789626592302535,
          0.07740703673834255,
          0.025855786701905418,
          0.019136780123789072,
          0.027016916544399857,
          0.08977136916155737,
          0.08125965583917137,
          0.025666313631372853,
          0.1142328283956975,
          0.01849548665429424,
          0.1410068307471069,
          0.15352662825383562,
          0.03559178755696338,
          0.030203950756434797,
          0.02568088848295228,
          0.04666867475732872,
          0.16502132786614457,
          0.2622695958879485,
          0.1942001807281596,
          0.03656344432892525
         ],
         "yaxis": "y"
        },
        {
         "customdata": [
          [
           "Abraham Weintraub",
           "",
           "político"
          ],
          [
           "Ailton Benedito",
           "",
           "procurador da república"
          ],
          [
           "Alexandre Garcia",
           "",
           "jornalista, youtuber"
          ],
          [
           "Aline Barros",
           "",
           "músico, religioso, escritor, empresário"
          ],
          [
           "Amanda Audi",
           "",
           "jornalista"
          ],
          [
           "Ana Paula Valadão Bessa",
           "",
           "músico, religioso, escritor"
          ],
          [
           "Ana Paula Henkel",
           "",
           "esportista, jornalista"
          ],
          [
           "Andre Valadao",
           "",
           "músico, religioso"
          ],
          [
           "Andreza",
           "",
           "ativista negro, produtor cultural, youtuber, podcaster, jornalista"
          ],
          [
           "Anielle Franco",
           "",
           "professor, jornalista, escritor, ativista negro"
          ],
          [
           "Arthur Weintraub",
           "",
           "acadêmico"
          ],
          [
           "Isabela Reis",
           "",
           "jornalista, ativista negro, podcaster, escritor"
          ],
          [
           "Edir Macedo",
           "",
           "religioso, pastor evangélico"
          ],
          [
           "Blogueiras Feministas",
           "",
           "mídia, feminista"
          ],
          [
           "Blogueiras Negras",
           "",
           "mídia, negro"
          ],
          [
           "Brasil Paralelo",
           "",
           "mídia, político"
          ],
          [
           "FamíliaDireitaBrasil",
           "",
           "mídia, político"
          ],
          [
           "Eliane Brum",
           "",
           "jornalista, escritor, documentarista"
          ],
          [
           "Bruna Karla",
           "",
           "músico, religioso"
          ],
          [
           "Conexão Política",
           "",
           "mídia, político"
          ],
          [
           "Cris Bartis",
           "",
           "podcaster, jornalista"
          ],
          [
           "Crítica Nacional",
           "",
           "mídia, político"
          ],
          [
           "cynara menezes",
           "",
           "jornalista, blogueiro, escritor"
          ],
          [
           "David M. Quinlan",
           "",
           "músico, religioso"
          ],
          [
           "Debora Diniz",
           "",
           "antropólogo, acadêmico, pesquisador, professor, escritor, documentarista"
          ],
          [
           "Debora Baldin",
           "",
           "podcaster, youtuber"
          ],
          [
           "Bruna de Lara",
           "",
           "jornalista, escritor"
          ],
          [
           "Caneta Desesquerdizadora",
           "",
           "mídia, conservador"
          ],
          [
           "Direita Goiás",
           "",
           "coletivo, político"
          ],
          [
           "Direita Minas",
           "",
           "coletivo, político"
          ],
          [
           "Elza Soares",
           "",
           "ativista negro, músico"
          ],
          [
           "Ernesto Araújo",
           "",
           "político, diplomata, embaixador"
          ],
          [
           "Escola sem Partido",
           "",
           "coletivo, político"
          ],
          [
           "MBC – Movimento Brasil Conservador",
           "",
           "coletivo, político"
          ],
          [
           "Felipe C. Pedri",
           "",
           "político, publicitário"
          ],
          [
           "Filipe G. Martins",
           "",
           "professor, político"
          ],
          [
           "Flávia Oliveira",
           "",
           "jornalista, podcaster"
          ],
          [
           "Gabi Coelho",
           "",
           "jornalista, universitário, podcaster, produtor"
          ],
          [
           "gabrielle",
           "",
           "podcaster"
          ],
          [
           "Geledés Instituto da Mulher Negra",
           "",
           "mídia, negro"
          ],
          [
           "Bia Ferreira",
           "",
           "músico, ativista negro, ativista lésbica"
          ],
          [
           "Instituto Marielle Franco",
           "",
           "organização, negro"
          ],
          [
           "Suzane Jardim",
           "",
           "historiador, acadêmico, ativista negro"
          ],
          [
           "Brasil Sem Medo",
           "",
           "mídia, político"
          ],
          [
           "Jout Jout",
           "",
           "escritor, jornalista, youtuber"
          ],
          [
           "Jurema Werneck",
           "",
           "ativista negro, médico, acadêmico"
          ],
          [
           "Ju Wallauer",
           "",
           "podcaster, jornalista"
          ],
          [
           "Laerte Coutinho",
           "",
           "quadrinista, ativista trans"
          ],
          [
           "Laura Carvalho",
           "",
           "economista, acadêmico, escritor, podcaster"
          ],
          [
           "Leandro Ruschel",
           "",
           "empreendedor, escritor, investidor, youtuber"
          ],
          [
           "Letícia Parks",
           "",
           "professor, político"
          ],
          [
           "Linn da Quebrada",
           "",
           "artista, ativista negro, ativista trans, ator, roteirista, jornalista, músico"
          ],
          [
           "Lola Aronovich",
           "",
           "acadêmico, blogueiro, professor"
          ],
          [
           "Italo Lorenzon",
           "",
           "jornalista"
          ],
          [
           "louie ponto",
           "",
           "youtuber, ativista lésbica"
          ],
          [
           "LUIZ CAMARGO vlog",
           "",
           "youtuber"
          ],
          [
           "negaluy",
           "",
           "ativista negro"
          ],
          [
           "Manuela Barem",
           "",
           "jornalista"
          ],
          [
           "Maurício Costa",
           "",
           "jornalista, podcaster"
          ],
          [
           "Movimento Avança Brasil",
           "",
           "coletivo, político"
          ],
          [
           "MBL - Movimento Brasil Livre",
           "",
           "coletivo, político"
          ],
          [
           "Milly Lacombe",
           "",
           "ativista lésbica, jornalista, escritor, roteirista"
          ],
          [
           "Monica Benicio",
           "",
           "arquiteto, urbanista, ativista lésbica, político"
          ],
          [
           "Mônica Bergamo",
           "",
           "jornalista"
          ],
          [
           "Preta Ijimú",
           "",
           "acadêmico, cientista político, podcaster, ativista negro, professor"
          ],
          [
           "Não Me Kahlo",
           "",
           "coletivo, mídia, feminista"
          ],
          [
           "Nátaly Neri",
           "",
           "ativista negro, cientista social, ativista vegano, youtuber"
          ],
          [
           "Olavo de Carvalho",
           "",
           "filósofo, escritor, jornalista, professor"
          ],
          [
           "ONU Mulheres Brasil",
           "",
           "coletivo, mídia, feminista"
          ],
          [
           "Padre Paulo Ricardo",
           "",
           "religioso, youtuber, professor, radialista"
          ],
          [
           "Paola Carosella",
           "",
           "cozinheiro, chef, empresário"
          ],
          [
           "☭Lisa Débora Perpétua da Faísca",
           "",
           "ativista lésbica"
          ],
          [
           "Silas Malafaia",
           "",
           "religioso, psicólogo, teólogo"
          ],
          [
           "Paulo A. Briguet",
           "",
           "jornalista, escritor"
          ],
          [
           "paulo eneas",
           "",
           "jornalista"
          ],
          [
           "Petra Costa",
           "",
           "cineasta, diretor"
          ],
          [
           "Fernanda Brum",
           "",
           "músico, religioso, escritor, ator"
          ],
          [
           "Partido Social Liberal - PSL",
           "",
           "partido, político"
          ],
          [
           "Rodrigo Constantino",
           "",
           "economista, jornalista"
          ],
          [
           "Fernanda Salles",
           "",
           "jornalista, youtuber"
          ],
          [
           "Revista AzMina",
           "",
           "mídia, feminista"
          ],
          [
           "Rita Lisauskas",
           "",
           "jornalista, blogueiro"
          ],
          [
           "Sarita Coelho",
           "",
           "jornalista, servidor público"
          ],
          [
           "Senso Incomum",
           "",
           "mídia, político"
          ],
          [
           "Sérgio Camargo",
           "",
           "político, jornalista"
          ],
          [
           "Aliança pelo Brasil",
           "",
           "coletivo, político"
          ],
          [
           "Sueli Carneiro",
           "",
           "acadêmico, ativista negro, filósofo, escritor"
          ],
          [
           "TeAtualizei",
           "",
           "youtuber"
          ],
          [
           "Tati Nefertari",
           "",
           "universitário, ativista negro"
          ],
          [
           "Ana Flor",
           "",
           "ativista trans, pedagogo, acadêmico"
          ],
          [
           "Portal Terça Livre",
           "",
           "mídia, político"
          ],
          [
           "Tese Onze",
           "",
           "mídia, político, ecossocialista"
          ],
          [
           "Sher Machado",
           "",
           "ativista trans, ativista negro, físico, streamer"
          ],
          [
           "Bueno.",
           "",
           "acadêmico, ativista negro"
          ]
         ],
         "hovertemplate": "Partido=%{customdata[1]}<br>Ponto Ideal=%{x}<br>Tamanho relativo de Seguidores Analisados=%{y}<br>Nome=%{customdata[0]}<br>Classificações=%{customdata[2]}<extra></extra>",
         "legendgroup": "Sem Partido Encontrado",
         "marker": {
          "color": "lightgray",
          "symbol": "circle"
         },
         "mode": "markers",
         "name": "Sem Partido Encontrado",
         "orientation": "v",
         "showlegend": true,
         "type": "scatter",
         "x": [
          1.5077450000000001,
          1.547544,
          1.115909,
          0.062928,
          -1.3184209999999998,
          0.05396,
          1.123759,
          0.22532,
          -2.251423,
          -1.7380330000000002,
          1.569364,
          -2.045617,
          0.131298,
          -1.823219,
          -2.020968,
          1.306806,
          1.403122,
          -1.401738,
          0.021424000000000002,
          1.252818,
          -1.670168,
          1.517881,
          -1.3220610000000002,
          0.114927,
          -1.521974,
          -2.0058119999999997,
          -1.385043,
          0.6285350000000001,
          1.18195,
          1.3503610000000001,
          -1.761039,
          1.096643,
          1.135365,
          1.511924,
          1.764806,
          1.4221409999999999,
          -1.326052,
          -1.8704740000000002,
          -2.184599,
          -1.952359,
          -2.254809,
          -1.788807,
          -2.0657959999999997,
          1.675497,
          -1.951114,
          -1.9856779999999998,
          -1.662236,
          -1.590255,
          -1.328849,
          1.235371,
          -2.03648,
          -2.265995,
          -1.515064,
          1.595204,
          -2.2264909999999998,
          1.786427,
          -2.011198,
          -1.650467,
          1.21685,
          1.313536,
          0.201953,
          -1.467044,
          -1.6855259999999999,
          -0.9054459999999999,
          -2.17928,
          -1.872436,
          -2.436118,
          0.861183,
          -1.490895,
          1.035599,
          -1.376681,
          -1.278515,
          0.511582,
          1.595725,
          1.8136860000000001,
          -1.4258629999999999,
          0.067284,
          0.5743699999999999,
          1.125796,
          1.7270279999999998,
          -1.781304,
          -1.288384,
          1.533498,
          1.137893,
          1.684748,
          1.443481,
          -2.045003,
          1.808327,
          -2.256308,
          -2.4336759999999997,
          1.531937,
          -1.822257,
          -2.4905150000000003,
          -2.089623
         ],
         "xaxis": "x",
         "y": [
          0.4255225084291225,
          0.1676885257051799,
          0.6397145272403976,
          0.22040090558411146,
          0.12781659006772447,
          0.15603836100935706,
          0.3817153628652215,
          0.15400759835595673,
          0.06750099594819126,
          0.09012116559946365,
          0.2884606041761808,
          0.034246042927796184,
          0.04714964485944985,
          0.041096223170127386,
          0.03672862598015877,
          0.15313310726119106,
          0.11556399817328526,
          0.15653876424691743,
          0.12476072951990438,
          0.29618527551327767,
          0.04170836693646336,
          0.089577037807165,
          0.15410476403315293,
          0.09479969295646005,
          0.13290807155280468,
          0.04173265835576241,
          0.07191231769289816,
          0.17010309278350516,
          0.016003187034212035,
          0.03229787110001263,
          0.06256012126276514,
          0.3413381657063459,
          0.10672677983229203,
          0.13506514958656005,
          0.058046775557002245,
          0.23924618867631198,
          0.14395580905001118,
          0.022076041858973737,
          0.03259908469932081,
          0.0467075410282072,
          0.04205330509050983,
          0.060330168971112645,
          0.019355402897480493,
          0.18167552493757105,
          0.15431367023912473,
          0.01696026895459448,
          0.04618770465520759,
          0.21208838189997764,
          0.1460983122321871,
          0.22646404384115354,
          0.024461459234140132,
          0.10051303477559587,
          0.12662631052207118,
          0.1496740091530068,
          0.09441588853153512,
          0.07161110409358998,
          0.02622501627525093,
          0.04531807184430172,
          0.07688720036534295,
          0.03746708512684979,
          0.22672639116958326,
          0.048014419386495914,
          0.0506038846837743,
          0.3855582653983307,
          0.04305896984949037,
          0.06543136702391247,
          0.14981004110108145,
          0.36502715780677636,
          0.022396688593721154,
          0.07372445757260705,
          0.425153278855777,
          0.030757795116453063,
          0.23752149790607965,
          0.04355451480319092,
          0.04303953671405113,
          0.1819087225628419,
          0.18511033162645626,
          0.1031753743307714,
          0.2788557769853377,
          0.13437527327846713,
          0.02403393025447691,
          0.07792687311134215,
          0.024281702731327185,
          0.14763352993188686,
          0.15513472021143251,
          0.20403820554427354,
          0.03448895712078665,
          0.20278476830844272,
          0.05598200491658327,
          0.03101528416102296,
          0.23860975349067695,
          0.02691975086720367,
          0.022066325291254116,
          0.11351866066830553
         ],
         "yaxis": "y"
        },
        {
         "customdata": [
          [
           "Davy Albuquerque",
           "Republicanos",
           "jornalista"
          ],
          [
           "André Fernandes",
           "Republicanos",
           "político, jornalista, youtuber"
          ],
          [
           "Carlos Bolsonaro",
           "Republicanos",
           "político"
          ],
          [
           "Carmelo Neto",
           "Republicanos",
           "político"
          ],
          [
           "Dom",
           "Republicanos",
           "influencer, político"
          ],
          [
           "Flavio Bolsonaro",
           "Republicanos",
           "político, advogado, empresário"
          ],
          [
           "Marcelo Crivella",
           "Republicanos",
           "político, engenheiro, músico, escritor, religioso"
          ],
          [
           "Liomar de Oliveira",
           "Republicanos",
           "político, religioso"
          ]
         ],
         "hovertemplate": "Partido=%{customdata[1]}<br>Ponto Ideal=%{x}<br>Tamanho relativo de Seguidores Analisados=%{y}<br>Nome=%{customdata[0]}<br>Classificações=%{customdata[2]}<extra></extra>",
         "legendgroup": "Republicanos",
         "marker": {
          "color": "green",
          "symbol": "circle"
         },
         "mode": "markers",
         "name": "Republicanos",
         "orientation": "v",
         "showlegend": true,
         "type": "scatter",
         "x": [
          1.555408,
          1.404835,
          1.058905,
          1.45997,
          1.5517100000000001,
          0.770213,
          0.371843,
          1.281867
         ],
         "xaxis": "x",
         "y": [
          0.10108631227105337,
          0.10681908722562843,
          0.5799867854679013,
          0.09941506262327895,
          0.043316458894060265,
          0.4880631965564484,
          0.05043384474868098,
          0.04043549656519331
         ],
         "yaxis": "y"
        },
        {
         "customdata": [
          [
           "Alê Silva 🇧🇷 nem lugar na fila eu quero🇧🇷",
           "PSL",
           "político"
          ],
          [
           "Bia Kicis",
           "PSL",
           "procurador da república, político, advogado, youtuber"
          ],
          [
           "Bibo Nunes",
           "PSL",
           "político, empresário, jornalista"
          ],
          [
           "Eduardo Bolsonaro",
           "PSL",
           "político, policial federal, advogado"
          ],
          [
           "Junio Amaral",
           "PSL",
           "político, militar"
          ],
          [
           "Carla Zambelli",
           "PSL",
           "político, escritor"
          ],
          [
           "Carlos Jordy",
           "PSL",
           "político, turismólogo, servidor público"
          ],
          [
           "Caroline De Toni",
           "PSL",
           "político, advogado"
          ],
          [
           "Gil Diniz",
           "PSL",
           "político, servidor público"
          ],
          [
           "Helio Lopes",
           "PSL",
           "militar, político"
          ],
          [
           "Professora Dayane Pimentel",
           "PSL",
           "político, professor"
          ],
          [
           "Daniel Freitas",
           "PSL",
           "político, empresário"
          ],
          [
           "Dra. Soraya Manato",
           "PSL",
           "médico, político"
          ],
          [
           "Felipe Francischini",
           "PSL",
           "político, advogado"
          ],
          [
           "Filipe Barros",
           "PSL",
           "político, advogado"
          ],
          [
           "Heitor Freire",
           "PSL",
           "político"
          ],
          [
           "Jair M. Bolsonaro",
           "PSL",
           "político, militar"
          ],
          [
           "Leticia Aguiar",
           "PSL",
           "político"
          ],
          [
           "Vítor Hugo",
           "PSL",
           "político, militar, advogado"
          ],
          [
           "Marcio Labre Oficial",
           "PSL",
           "político, youtuber, empresário , jornalista"
          ],
          [
           "Tamires De Paula",
           "PSL",
           "influencer"
          ],
          [
           "Chris Tonietto",
           "PSL",
           "político, advogado"
          ]
         ],
         "hovertemplate": "Partido=%{customdata[1]}<br>Ponto Ideal=%{x}<br>Tamanho relativo de Seguidores Analisados=%{y}<br>Nome=%{customdata[0]}<br>Classificações=%{customdata[2]}<extra></extra>",
         "legendgroup": "PSL",
         "marker": {
          "color": "red",
          "symbol": "circle"
         },
         "mode": "markers",
         "name": "PSL",
         "orientation": "v",
         "showlegend": true,
         "type": "scatter",
         "x": [
          1.538618,
          1.5002959999999999,
          1.442361,
          0.966274,
          1.415577,
          1.184482,
          1.611404,
          1.564577,
          1.636417,
          1.478428,
          0.604191,
          1.3864889999999999,
          1.214076,
          0.9688700000000001,
          1.659356,
          0.979309,
          1.017907,
          1.394875,
          1.317431,
          1.497774,
          1.3362100000000001,
          1.453762
         ],
         "xaxis": "x",
         "y": [
          0.09143290224161217,
          0.32190017198324866,
          0.09804502657481272,
          0.6060709115112177,
          0.06602893593866903,
          0.40376225502103635,
          0.22025029878445737,
          0.20786167494194352,
          0.14761895508030742,
          0.19406900706394473,
          0.03450839025622589,
          0.025117327555214397,
          0.02377644120990701,
          0.07657141191445534,
          0.20091918730627592,
          0.02052624930769455,
          1,
          0.02676914406754958,
          0.14442220430055286,
          0.0669520098720328,
          0.04118853056346376,
          0.04485653487761983
         ],
         "yaxis": "y"
        },
        {
         "customdata": [
          [
           "Alexandre Aleluia",
           "Democratas",
           "político"
          ],
          [
           "Capitão Derrite",
           "Progressistas",
           "militar, político"
          ],
          [
           "Carlos Viana",
           "PSD",
           "político, jornalista"
          ],
          [
           "Damares Alves",
           "Progressistas",
           "político, religioso, advogado"
          ],
          [
           "Daniel Silveira",
           "PTB",
           "político, militar"
          ],
          [
           "Douglas Garcia",
           "PTB",
           "político"
          ],
          [
           "Delegado Éder Mauro",
           "PSD",
           "político, delegado"
          ],
          [
           "Fabiana Barroso",
           "Patriota",
           "advogado"
          ],
          [
           "Fernando Holiday",
           "Patriota",
           "político"
          ],
          [
           "JOSÉ MEDEIROS",
           "Podemos",
           "político, policial rodoviário, professor, matemático"
          ],
          [
           "Kim Kataguiri",
           "Democratas",
           "político"
          ],
          [
           "magno malta",
           "PL",
           "político, religioso, músico"
          ],
          [
           "Marcel van Hattem",
           "NOVO",
           "cientista político, jornalista, político"
          ],
          [
           "MARISA LOBO-Supl.Dep.Federal",
           "Avante",
           "político, psicólogo, religioso"
          ],
          [
           "Onyx Lorenzoni",
           "Democratas",
           "político, veterinário, empresário"
          ],
          [
           "Otoni de Paula",
           "PSC",
           "político, religioso"
          ],
          [
           "Paulo Eduardo Martins",
           "PSC",
           "jornalista, político"
          ],
          [
           "Rogério Marinho",
           "PSDB",
           "político, economista"
          ],
          [
           "Tenente Santini",
           "Progressistas",
           "policial militar, político, empresário"
          ]
         ],
         "hovertemplate": "Partido=%{customdata[1]}<br>Ponto Ideal=%{x}<br>Tamanho relativo de Seguidores Analisados=%{y}<br>Nome=%{customdata[0]}<br>Classificações=%{customdata[2]}<extra></extra>",
         "legendgroup": "Partido Pequeno",
         "marker": {
          "color": "gray",
          "symbol": "circle"
         },
         "mode": "markers",
         "name": "Partido Pequeno",
         "orientation": "v",
         "showlegend": true,
         "type": "scatter",
         "x": [
          1.5921040000000002,
          1.362441,
          0.513835,
          1.149155,
          1.514535,
          1.83152,
          1.439951,
          1.5347680000000001,
          0.303846,
          1.070514,
          0.20044,
          0.834892,
          0.878639,
          0.7435970000000001,
          0.916351,
          1.573821,
          1.153463,
          1.054836,
          1.450986
         ],
         "xaxis": "x",
         "y": [
          0.028474401702342663,
          0.08325641050555302,
          0.02282421757338438,
          0.41589338981898033,
          0.09225395221391995,
          0.16764965943430143,
          0.06670423739518253,
          0.11002555457310259,
          0.14545701876269226,
          0.0817940670637504,
          0.24526074409475596,
          0.28190192096543815,
          0.20949405831883947,
          0.05239173314418415,
          0.3221770941632578,
          0.08234305313990886,
          0.16691120028761042,
          0.08551065421650456,
          0.016216951524043646
         ],
         "yaxis": "y"
        },
        {
         "customdata": [
          [
           "Bruno Engler",
           "PRTB",
           "político"
          ],
          [
           "Clau de Luca",
           "PRTB",
           "publicitário, músico"
          ],
          [
           "Edson Salomão",
           "PRTB",
           "político, youtuber"
          ],
          [
           "Fernanda Barth vereadora",
           "PRTB",
           "cientista político, jornalista, político"
          ],
          [
           "Paula Marisa",
           "PRTB",
           "jornalista, professor"
          ]
         ],
         "hovertemplate": "Partido=%{customdata[1]}<br>Ponto Ideal=%{x}<br>Tamanho relativo de Seguidores Analisados=%{y}<br>Nome=%{customdata[0]}<br>Classificações=%{customdata[2]}<extra></extra>",
         "legendgroup": "PRTB",
         "marker": {
          "color": "blue",
          "symbol": "circle"
         },
         "mode": "markers",
         "name": "PRTB",
         "orientation": "v",
         "showlegend": true,
         "type": "scatter",
         "x": [
          1.549531,
          1.409497,
          1.814844,
          1.565589,
          1.7587720000000002
         ],
         "xaxis": "x",
         "y": [
          0.03533915679625329,
          0.039050885665147646,
          0.049539920518476055,
          0.01725176598618304,
          0.1660755754637232
         ],
         "yaxis": "y"
        },
        {
         "customdata": [
          [
           "Carina Vitral",
           "PCdoB",
           "político"
          ],
          [
           "Jandira Feghali",
           "PCdoB",
           "médico, político, sindicalista"
          ],
          [
           "Leci Brandão",
           "PCdoB",
           "político, músico"
          ],
          [
           "Manuela",
           "PCdoB",
           "político, escritor, jornalista"
          ],
          [
           "MC Carol",
           "PCdoB",
           "músico"
          ],
          [
           "Perpétua Almeida",
           "PCdoB",
           "professor, bancário , político"
          ]
         ],
         "hovertemplate": "Partido=%{customdata[1]}<br>Ponto Ideal=%{x}<br>Tamanho relativo de Seguidores Analisados=%{y}<br>Nome=%{customdata[0]}<br>Classificações=%{customdata[2]}<extra></extra>",
         "legendgroup": "PCdoB",
         "marker": {
          "color": "orange",
          "symbol": "circle"
         },
         "mode": "markers",
         "name": "PCdoB",
         "orientation": "v",
         "showlegend": true,
         "type": "scatter",
         "x": [
          -1.321101,
          -1.201901,
          -1.429151,
          -1.343015,
          -2.021261,
          -1.176082
         ],
         "xaxis": "x",
         "y": [
          0.02843553543146419,
          0.21285113246596774,
          0.02585092841804561,
          0.4900308015196712,
          0.08840619139695094,
          0.016668771923005917
         ],
         "yaxis": "y"
        },
        {
         "customdata": [
          [
           "Clara Averbuck",
           "PT",
           "jornalista, escritor"
          ],
          [
           "Benedita da Silva",
           "PT",
           "político, professor, servidor público, assistente social, auxiliar de enfermagem"
          ],
          [
           "Elika Takimoto",
           "PT",
           "político, acadêmico, escritor, professor"
          ],
          [
           "Erika Kokay",
           "PT",
           "psicólogo, político, bancário, sindicalista"
          ],
          [
           "Margarida Salomão",
           "PT",
           "acadêmico, professor, sindicalista, político"
          ],
          [
           "marcia tiburi",
           "PT",
           "filósofo, acadêmico, professor, artista, escritor"
          ],
          [
           "Marília Arraes",
           "PT",
           "político, advogado"
          ],
          [
           "Natália Bonavides",
           "PT",
           "político, advogado"
          ]
         ],
         "hovertemplate": "Partido=%{customdata[1]}<br>Ponto Ideal=%{x}<br>Tamanho relativo de Seguidores Analisados=%{y}<br>Nome=%{customdata[0]}<br>Classificações=%{customdata[2]}<extra></extra>",
         "legendgroup": "PT",
         "marker": {
          "color": "darkred",
          "symbol": "circle"
         },
         "mode": "markers",
         "name": "PT",
         "orientation": "v",
         "showlegend": true,
         "type": "scatter",
         "x": [
          -1.618628,
          -1.298902,
          -1.450352,
          -1.1654,
          -1.142013,
          -1.389608,
          -1.225918,
          -1.3322379999999998
         ],
         "xaxis": "x",
         "y": [
          0.06019413702303798,
          0.07657141191445534,
          0.12558177949221216,
          0.11236724739353071,
          0.049729393589008616,
          0.09316730957956411,
          0.03116103267681724,
          0.047999844534916486
         ],
         "yaxis": "y"
        },
        {
         "customdata": [
          [
           "Marília Moscou",
           "PCB",
           "acadêmico, escritor, professor, cientista social"
          ]
         ],
         "hovertemplate": "Partido=%{customdata[1]}<br>Ponto Ideal=%{x}<br>Tamanho relativo de Seguidores Analisados=%{y}<br>Nome=%{customdata[0]}<br>Classificações=%{customdata[2]}<extra></extra>",
         "legendgroup": "PCB",
         "marker": {
          "color": "lightgreen",
          "symbol": "circle"
         },
         "mode": "markers",
         "name": "PCB",
         "orientation": "v",
         "showlegend": true,
         "type": "scatter",
         "x": [
          -1.8225740000000001
         ],
         "xaxis": "x",
         "y": [
          0.02380073262920606
         ],
         "yaxis": "y"
        }
       ],
       "layout": {
        "legend": {
         "title": {
          "text": "Partido"
         },
         "tracegroupgap": 0
        },
        "margin": {
         "t": 60
        },
        "template": {
         "data": {
          "bar": [
           {
            "error_x": {
             "color": "#2a3f5f"
            },
            "error_y": {
             "color": "#2a3f5f"
            },
            "marker": {
             "line": {
              "color": "#E5ECF6",
              "width": 0.5
             }
            },
            "type": "bar"
           }
          ],
          "barpolar": [
           {
            "marker": {
             "line": {
              "color": "#E5ECF6",
              "width": 0.5
             }
            },
            "type": "barpolar"
           }
          ],
          "carpet": [
           {
            "aaxis": {
             "endlinecolor": "#2a3f5f",
             "gridcolor": "white",
             "linecolor": "white",
             "minorgridcolor": "white",
             "startlinecolor": "#2a3f5f"
            },
            "baxis": {
             "endlinecolor": "#2a3f5f",
             "gridcolor": "white",
             "linecolor": "white",
             "minorgridcolor": "white",
             "startlinecolor": "#2a3f5f"
            },
            "type": "carpet"
           }
          ],
          "choropleth": [
           {
            "colorbar": {
             "outlinewidth": 0,
             "ticks": ""
            },
            "type": "choropleth"
           }
          ],
          "contour": [
           {
            "colorbar": {
             "outlinewidth": 0,
             "ticks": ""
            },
            "colorscale": [
             [
              0,
              "#0d0887"
             ],
             [
              0.1111111111111111,
              "#46039f"
             ],
             [
              0.2222222222222222,
              "#7201a8"
             ],
             [
              0.3333333333333333,
              "#9c179e"
             ],
             [
              0.4444444444444444,
              "#bd3786"
             ],
             [
              0.5555555555555556,
              "#d8576b"
             ],
             [
              0.6666666666666666,
              "#ed7953"
             ],
             [
              0.7777777777777778,
              "#fb9f3a"
             ],
             [
              0.8888888888888888,
              "#fdca26"
             ],
             [
              1,
              "#f0f921"
             ]
            ],
            "type": "contour"
           }
          ],
          "contourcarpet": [
           {
            "colorbar": {
             "outlinewidth": 0,
             "ticks": ""
            },
            "type": "contourcarpet"
           }
          ],
          "heatmap": [
           {
            "colorbar": {
             "outlinewidth": 0,
             "ticks": ""
            },
            "colorscale": [
             [
              0,
              "#0d0887"
             ],
             [
              0.1111111111111111,
              "#46039f"
             ],
             [
              0.2222222222222222,
              "#7201a8"
             ],
             [
              0.3333333333333333,
              "#9c179e"
             ],
             [
              0.4444444444444444,
              "#bd3786"
             ],
             [
              0.5555555555555556,
              "#d8576b"
             ],
             [
              0.6666666666666666,
              "#ed7953"
             ],
             [
              0.7777777777777778,
              "#fb9f3a"
             ],
             [
              0.8888888888888888,
              "#fdca26"
             ],
             [
              1,
              "#f0f921"
             ]
            ],
            "type": "heatmap"
           }
          ],
          "heatmapgl": [
           {
            "colorbar": {
             "outlinewidth": 0,
             "ticks": ""
            },
            "colorscale": [
             [
              0,
              "#0d0887"
             ],
             [
              0.1111111111111111,
              "#46039f"
             ],
             [
              0.2222222222222222,
              "#7201a8"
             ],
             [
              0.3333333333333333,
              "#9c179e"
             ],
             [
              0.4444444444444444,
              "#bd3786"
             ],
             [
              0.5555555555555556,
              "#d8576b"
             ],
             [
              0.6666666666666666,
              "#ed7953"
             ],
             [
              0.7777777777777778,
              "#fb9f3a"
             ],
             [
              0.8888888888888888,
              "#fdca26"
             ],
             [
              1,
              "#f0f921"
             ]
            ],
            "type": "heatmapgl"
           }
          ],
          "histogram": [
           {
            "marker": {
             "colorbar": {
              "outlinewidth": 0,
              "ticks": ""
             }
            },
            "type": "histogram"
           }
          ],
          "histogram2d": [
           {
            "colorbar": {
             "outlinewidth": 0,
             "ticks": ""
            },
            "colorscale": [
             [
              0,
              "#0d0887"
             ],
             [
              0.1111111111111111,
              "#46039f"
             ],
             [
              0.2222222222222222,
              "#7201a8"
             ],
             [
              0.3333333333333333,
              "#9c179e"
             ],
             [
              0.4444444444444444,
              "#bd3786"
             ],
             [
              0.5555555555555556,
              "#d8576b"
             ],
             [
              0.6666666666666666,
              "#ed7953"
             ],
             [
              0.7777777777777778,
              "#fb9f3a"
             ],
             [
              0.8888888888888888,
              "#fdca26"
             ],
             [
              1,
              "#f0f921"
             ]
            ],
            "type": "histogram2d"
           }
          ],
          "histogram2dcontour": [
           {
            "colorbar": {
             "outlinewidth": 0,
             "ticks": ""
            },
            "colorscale": [
             [
              0,
              "#0d0887"
             ],
             [
              0.1111111111111111,
              "#46039f"
             ],
             [
              0.2222222222222222,
              "#7201a8"
             ],
             [
              0.3333333333333333,
              "#9c179e"
             ],
             [
              0.4444444444444444,
              "#bd3786"
             ],
             [
              0.5555555555555556,
              "#d8576b"
             ],
             [
              0.6666666666666666,
              "#ed7953"
             ],
             [
              0.7777777777777778,
              "#fb9f3a"
             ],
             [
              0.8888888888888888,
              "#fdca26"
             ],
             [
              1,
              "#f0f921"
             ]
            ],
            "type": "histogram2dcontour"
           }
          ],
          "mesh3d": [
           {
            "colorbar": {
             "outlinewidth": 0,
             "ticks": ""
            },
            "type": "mesh3d"
           }
          ],
          "parcoords": [
           {
            "line": {
             "colorbar": {
              "outlinewidth": 0,
              "ticks": ""
             }
            },
            "type": "parcoords"
           }
          ],
          "pie": [
           {
            "automargin": true,
            "type": "pie"
           }
          ],
          "scatter": [
           {
            "marker": {
             "colorbar": {
              "outlinewidth": 0,
              "ticks": ""
             }
            },
            "type": "scatter"
           }
          ],
          "scatter3d": [
           {
            "line": {
             "colorbar": {
              "outlinewidth": 0,
              "ticks": ""
             }
            },
            "marker": {
             "colorbar": {
              "outlinewidth": 0,
              "ticks": ""
             }
            },
            "type": "scatter3d"
           }
          ],
          "scattercarpet": [
           {
            "marker": {
             "colorbar": {
              "outlinewidth": 0,
              "ticks": ""
             }
            },
            "type": "scattercarpet"
           }
          ],
          "scattergeo": [
           {
            "marker": {
             "colorbar": {
              "outlinewidth": 0,
              "ticks": ""
             }
            },
            "type": "scattergeo"
           }
          ],
          "scattergl": [
           {
            "marker": {
             "colorbar": {
              "outlinewidth": 0,
              "ticks": ""
             }
            },
            "type": "scattergl"
           }
          ],
          "scattermapbox": [
           {
            "marker": {
             "colorbar": {
              "outlinewidth": 0,
              "ticks": ""
             }
            },
            "type": "scattermapbox"
           }
          ],
          "scatterpolar": [
           {
            "marker": {
             "colorbar": {
              "outlinewidth": 0,
              "ticks": ""
             }
            },
            "type": "scatterpolar"
           }
          ],
          "scatterpolargl": [
           {
            "marker": {
             "colorbar": {
              "outlinewidth": 0,
              "ticks": ""
             }
            },
            "type": "scatterpolargl"
           }
          ],
          "scatterternary": [
           {
            "marker": {
             "colorbar": {
              "outlinewidth": 0,
              "ticks": ""
             }
            },
            "type": "scatterternary"
           }
          ],
          "surface": [
           {
            "colorbar": {
             "outlinewidth": 0,
             "ticks": ""
            },
            "colorscale": [
             [
              0,
              "#0d0887"
             ],
             [
              0.1111111111111111,
              "#46039f"
             ],
             [
              0.2222222222222222,
              "#7201a8"
             ],
             [
              0.3333333333333333,
              "#9c179e"
             ],
             [
              0.4444444444444444,
              "#bd3786"
             ],
             [
              0.5555555555555556,
              "#d8576b"
             ],
             [
              0.6666666666666666,
              "#ed7953"
             ],
             [
              0.7777777777777778,
              "#fb9f3a"
             ],
             [
              0.8888888888888888,
              "#fdca26"
             ],
             [
              1,
              "#f0f921"
             ]
            ],
            "type": "surface"
           }
          ],
          "table": [
           {
            "cells": {
             "fill": {
              "color": "#EBF0F8"
             },
             "line": {
              "color": "white"
             }
            },
            "header": {
             "fill": {
              "color": "#C8D4E3"
             },
             "line": {
              "color": "white"
             }
            },
            "type": "table"
           }
          ]
         },
         "layout": {
          "annotationdefaults": {
           "arrowcolor": "#2a3f5f",
           "arrowhead": 0,
           "arrowwidth": 1
          },
          "coloraxis": {
           "colorbar": {
            "outlinewidth": 0,
            "ticks": ""
           }
          },
          "colorscale": {
           "diverging": [
            [
             0,
             "#8e0152"
            ],
            [
             0.1,
             "#c51b7d"
            ],
            [
             0.2,
             "#de77ae"
            ],
            [
             0.3,
             "#f1b6da"
            ],
            [
             0.4,
             "#fde0ef"
            ],
            [
             0.5,
             "#f7f7f7"
            ],
            [
             0.6,
             "#e6f5d0"
            ],
            [
             0.7,
             "#b8e186"
            ],
            [
             0.8,
             "#7fbc41"
            ],
            [
             0.9,
             "#4d9221"
            ],
            [
             1,
             "#276419"
            ]
           ],
           "sequential": [
            [
             0,
             "#0d0887"
            ],
            [
             0.1111111111111111,
             "#46039f"
            ],
            [
             0.2222222222222222,
             "#7201a8"
            ],
            [
             0.3333333333333333,
             "#9c179e"
            ],
            [
             0.4444444444444444,
             "#bd3786"
            ],
            [
             0.5555555555555556,
             "#d8576b"
            ],
            [
             0.6666666666666666,
             "#ed7953"
            ],
            [
             0.7777777777777778,
             "#fb9f3a"
            ],
            [
             0.8888888888888888,
             "#fdca26"
            ],
            [
             1,
             "#f0f921"
            ]
           ],
           "sequentialminus": [
            [
             0,
             "#0d0887"
            ],
            [
             0.1111111111111111,
             "#46039f"
            ],
            [
             0.2222222222222222,
             "#7201a8"
            ],
            [
             0.3333333333333333,
             "#9c179e"
            ],
            [
             0.4444444444444444,
             "#bd3786"
            ],
            [
             0.5555555555555556,
             "#d8576b"
            ],
            [
             0.6666666666666666,
             "#ed7953"
            ],
            [
             0.7777777777777778,
             "#fb9f3a"
            ],
            [
             0.8888888888888888,
             "#fdca26"
            ],
            [
             1,
             "#f0f921"
            ]
           ]
          },
          "colorway": [
           "#636efa",
           "#EF553B",
           "#00cc96",
           "#ab63fa",
           "#FFA15A",
           "#19d3f3",
           "#FF6692",
           "#B6E880",
           "#FF97FF",
           "#FECB52"
          ],
          "font": {
           "color": "#2a3f5f"
          },
          "geo": {
           "bgcolor": "white",
           "lakecolor": "white",
           "landcolor": "#E5ECF6",
           "showlakes": true,
           "showland": true,
           "subunitcolor": "white"
          },
          "hoverlabel": {
           "align": "left"
          },
          "hovermode": "closest",
          "mapbox": {
           "style": "light"
          },
          "paper_bgcolor": "white",
          "plot_bgcolor": "#E5ECF6",
          "polar": {
           "angularaxis": {
            "gridcolor": "white",
            "linecolor": "white",
            "ticks": ""
           },
           "bgcolor": "#E5ECF6",
           "radialaxis": {
            "gridcolor": "white",
            "linecolor": "white",
            "ticks": ""
           }
          },
          "scene": {
           "xaxis": {
            "backgroundcolor": "#E5ECF6",
            "gridcolor": "white",
            "gridwidth": 2,
            "linecolor": "white",
            "showbackground": true,
            "ticks": "",
            "zerolinecolor": "white"
           },
           "yaxis": {
            "backgroundcolor": "#E5ECF6",
            "gridcolor": "white",
            "gridwidth": 2,
            "linecolor": "white",
            "showbackground": true,
            "ticks": "",
            "zerolinecolor": "white"
           },
           "zaxis": {
            "backgroundcolor": "#E5ECF6",
            "gridcolor": "white",
            "gridwidth": 2,
            "linecolor": "white",
            "showbackground": true,
            "ticks": "",
            "zerolinecolor": "white"
           }
          },
          "shapedefaults": {
           "line": {
            "color": "#2a3f5f"
           }
          },
          "ternary": {
           "aaxis": {
            "gridcolor": "white",
            "linecolor": "white",
            "ticks": ""
           },
           "baxis": {
            "gridcolor": "white",
            "linecolor": "white",
            "ticks": ""
           },
           "bgcolor": "#E5ECF6",
           "caxis": {
            "gridcolor": "white",
            "linecolor": "white",
            "ticks": ""
           }
          },
          "title": {
           "x": 0.05
          },
          "xaxis": {
           "automargin": true,
           "gridcolor": "white",
           "linecolor": "white",
           "ticks": "",
           "title": {
            "standoff": 15
           },
           "zerolinecolor": "white",
           "zerolinewidth": 2
          },
          "yaxis": {
           "automargin": true,
           "gridcolor": "white",
           "linecolor": "white",
           "ticks": "",
           "title": {
            "standoff": 15
           },
           "zerolinecolor": "white",
           "zerolinewidth": 2
          }
         }
        },
        "xaxis": {
         "anchor": "y",
         "domain": [
          0,
          1
         ],
         "title": {
          "text": "Ponto Ideal"
         }
        },
        "yaxis": {
         "anchor": "x",
         "domain": [
          0,
          1
         ],
         "title": {
          "text": "Tamanho relativo de Seguidores Analisados"
         }
        }
       }
      },
      "text/html": [
       "<div>                            <div id=\"0a2ad1c3-c75c-446d-9223-b0b9ef56c1f2\" class=\"plotly-graph-div\" style=\"height:525px; width:100%;\"></div>            <script type=\"text/javascript\">                require([\"plotly\"], function(Plotly) {                    window.PLOTLYENV=window.PLOTLYENV || {};                                    if (document.getElementById(\"0a2ad1c3-c75c-446d-9223-b0b9ef56c1f2\")) {                    Plotly.newPlot(                        \"0a2ad1c3-c75c-446d-9223-b0b9ef56c1f2\",                        [{\"customdata\": [[\"Rosana Pinheiro-Machado\", \"PSOL\", \"acad\\u00eamico, antrop\\u00f3logo, jornalista, professor\"], [\"Antonia Pellegrino\", \"PSOL\", \"diretor, produtor, escritor, roteirista\"], [\"\\u00c1urea Carolina\", \"PSOL\", \"pol\\u00edtico, ativista negro, acad\\u00eamico, cientista social\"], [\"Dani Monteiro\", \"PSOL\", \"ativista negro, pol\\u00edtico\"], [\"ERIKA HILTON\", \"PSOL\", \"ativista negro, pol\\u00edtico, ativista trans\"], [\"Cida Falabella\", \"PSOL\", \"ator, diretor, professor , pol\\u00edtico\"], [\"Fernanda Melchionna\", \"PSOL\", \"bibliotec\\u00e1rio, banc\\u00e1rio, pol\\u00edtico\"], [\"Sonia Guajajara\", \"PSOL\", \"pol\\u00edtico, ativista ind\\u00edgena, enfermeiro\"], [\"Deputada Isa Penna #VacinaJ\\u00e1\", \"PSOL\", \"pol\\u00edtico, ativista ecossocialista, advogado\"], [\"Joanna Maranh\\u00e3o\", \"PSOL\", \"esportista\"], [\"Luciana Boiteux\", \"PSOL\", \"advogado, acad\\u00eamico, professor, pol\\u00edtico\"], [\"Luciana Genro\", \"PSOL\", \"pol\\u00edtico, advogado\"], [\"Luiza Erundina\", \"PSOL\", \"pol\\u00edtico, assistente social\"], [\"Erica Malunguinho\", \"PSOL\", \"ativista negro, pol\\u00edtico, ativista trans, artista, professor\"], [\"M\\u00f4nica Francisco\", \"PSOL\", \"ativista negro, religioso, pastor evang\\u00e9lico, pol\\u00edtico, cientista social\"], [\"Monica Seixas\", \"PSOL\", \"pol\\u00edtico, ativista negro, ativista ecossocialista, jornalista, redator\"], [\"Renata Souza\", \"PSOL\", \"acad\\u00eamico, jornalista, pol\\u00edtico, ativista negro\"], [\"Sabrina Fernandes\", \"PSOL\", \"cientista social, acad\\u00eamico, escritor, youtuber, ativista ecossocialista, professor, podcaster\"], [\"S\\u00e2mia Bomfim\", \"PSOL\", \"pol\\u00edtico, servidor p\\u00fablico\"], [\"Tal\\u00edria Petrone\", \"PSOL\", \"pol\\u00edtico, professor, historiador, ativista negro\"], [\"Tatiana Roque\", \"PSOL\", \"acad\\u00eamico, professor, matem\\u00e1tico, youtuber\"]], \"hovertemplate\": \"Partido=%{customdata[1]}<br>Ponto Ideal=%{x}<br>Tamanho relativo de Seguidores Analisados=%{y}<br>Nome=%{customdata[0]}<br>Classifica\\u00e7\\u00f5es=%{customdata[2]}<extra></extra>\", \"legendgroup\": \"PSOL\", \"marker\": {\"color\": \"yellow\", \"symbol\": \"circle\"}, \"mode\": \"markers\", \"name\": \"PSOL\", \"orientation\": \"v\", \"showlegend\": true, \"type\": \"scatter\", \"x\": [-1.3834799999999998, -1.448386, -1.5805360000000002, -1.656366, -2.031606, -1.59273, -1.324394, -1.575197, -1.432304, -1.466502, -1.584902, -1.2614809999999999, -1.320881, -2.0100279999999997, -1.680734, -1.518306, -1.6349790000000002, -1.6520029999999999, -1.4454209999999998, -1.569423, -1.430445], \"xaxis\": \"x\", \"y\": [0.12203037399069153, 0.02789626592302535, 0.07740703673834255, 0.025855786701905418, 0.019136780123789072, 0.027016916544399857, 0.08977136916155737, 0.08125965583917137, 0.025666313631372853, 0.1142328283956975, 0.01849548665429424, 0.1410068307471069, 0.15352662825383562, 0.03559178755696338, 0.030203950756434797, 0.02568088848295228, 0.04666867475732872, 0.16502132786614457, 0.2622695958879485, 0.1942001807281596, 0.03656344432892525], \"yaxis\": \"y\"}, {\"customdata\": [[\"Abraham Weintraub\", \"\", \"pol\\u00edtico\"], [\"Ailton Benedito\", \"\", \"procurador da rep\\u00fablica\"], [\"Alexandre Garcia\", \"\", \"jornalista, youtuber\"], [\"Aline Barros\", \"\", \"m\\u00fasico, religioso, escritor, empres\\u00e1rio\"], [\"Amanda Audi\", \"\", \"jornalista\"], [\"Ana Paula Valad\\u00e3o Bessa\", \"\", \"m\\u00fasico, religioso, escritor\"], [\"Ana Paula Henkel\", \"\", \"esportista, jornalista\"], [\"Andre Valadao\", \"\", \"m\\u00fasico, religioso\"], [\"Andreza\", \"\", \"ativista negro, produtor cultural, youtuber, podcaster, jornalista\"], [\"Anielle Franco\", \"\", \"professor, jornalista, escritor, ativista negro\"], [\"Arthur Weintraub\", \"\", \"acad\\u00eamico\"], [\"Isabela Reis\", \"\", \"jornalista, ativista negro, podcaster, escritor\"], [\"Edir Macedo\", \"\", \"religioso, pastor evang\\u00e9lico\"], [\"Blogueiras Feministas\", \"\", \"m\\u00eddia, feminista\"], [\"Blogueiras Negras\", \"\", \"m\\u00eddia, negro\"], [\"Brasil Paralelo\", \"\", \"m\\u00eddia, pol\\u00edtico\"], [\"Fam\\u00edliaDireitaBrasil\", \"\", \"m\\u00eddia, pol\\u00edtico\"], [\"Eliane Brum\", \"\", \"jornalista, escritor, documentarista\"], [\"Bruna Karla\", \"\", \"m\\u00fasico, religioso\"], [\"Conex\\u00e3o Pol\\u00edtica\", \"\", \"m\\u00eddia, pol\\u00edtico\"], [\"Cris Bartis\", \"\", \"podcaster, jornalista\"], [\"Cr\\u00edtica Nacional\", \"\", \"m\\u00eddia, pol\\u00edtico\"], [\"cynara menezes\", \"\", \"jornalista, blogueiro, escritor\"], [\"David M. Quinlan\", \"\", \"m\\u00fasico, religioso\"], [\"Debora Diniz\", \"\", \"antrop\\u00f3logo, acad\\u00eamico, pesquisador, professor, escritor, documentarista\"], [\"Debora Baldin\", \"\", \"podcaster, youtuber\"], [\"Bruna de Lara\", \"\", \"jornalista, escritor\"], [\"Caneta Desesquerdizadora\", \"\", \"m\\u00eddia, conservador\"], [\"Direita Goi\\u00e1s\", \"\", \"coletivo, pol\\u00edtico\"], [\"Direita Minas\", \"\", \"coletivo, pol\\u00edtico\"], [\"Elza Soares\", \"\", \"ativista negro, m\\u00fasico\"], [\"Ernesto Ara\\u00fajo\", \"\", \"pol\\u00edtico, diplomata, embaixador\"], [\"Escola sem Partido\", \"\", \"coletivo, pol\\u00edtico\"], [\"MBC \\u2013 Movimento Brasil Conservador\", \"\", \"coletivo, pol\\u00edtico\"], [\"Felipe C. Pedri\", \"\", \"pol\\u00edtico, publicit\\u00e1rio\"], [\"Filipe G. Martins\", \"\", \"professor, pol\\u00edtico\"], [\"Fl\\u00e1via Oliveira\", \"\", \"jornalista, podcaster\"], [\"Gabi Coelho\", \"\", \"jornalista, universit\\u00e1rio, podcaster, produtor\"], [\"gabrielle\", \"\", \"podcaster\"], [\"Geled\\u00e9s Instituto da Mulher Negra\", \"\", \"m\\u00eddia, negro\"], [\"Bia Ferreira\", \"\", \"m\\u00fasico, ativista negro, ativista l\\u00e9sbica\"], [\"Instituto Marielle Franco\", \"\", \"organiza\\u00e7\\u00e3o, negro\"], [\"Suzane Jardim\", \"\", \"historiador, acad\\u00eamico, ativista negro\"], [\"Brasil Sem Medo\", \"\", \"m\\u00eddia, pol\\u00edtico\"], [\"Jout Jout\", \"\", \"escritor, jornalista, youtuber\"], [\"Jurema Werneck\", \"\", \"ativista negro, m\\u00e9dico, acad\\u00eamico\"], [\"Ju Wallauer\", \"\", \"podcaster, jornalista\"], [\"Laerte Coutinho\", \"\", \"quadrinista, ativista trans\"], [\"Laura Carvalho\", \"\", \"economista, acad\\u00eamico, escritor, podcaster\"], [\"Leandro Ruschel\", \"\", \"empreendedor, escritor, investidor, youtuber\"], [\"Let\\u00edcia Parks\", \"\", \"professor, pol\\u00edtico\"], [\"Linn da Quebrada\", \"\", \"artista, ativista negro, ativista trans, ator, roteirista, jornalista, m\\u00fasico\"], [\"Lola Aronovich\", \"\", \"acad\\u00eamico, blogueiro, professor\"], [\"Italo Lorenzon\", \"\", \"jornalista\"], [\"louie ponto\", \"\", \"youtuber, ativista l\\u00e9sbica\"], [\"LUIZ CAMARGO vlog\", \"\", \"youtuber\"], [\"negaluy\", \"\", \"ativista negro\"], [\"Manuela Barem\", \"\", \"jornalista\"], [\"Maur\\u00edcio Costa\", \"\", \"jornalista, podcaster\"], [\"Movimento Avan\\u00e7a Brasil\", \"\", \"coletivo, pol\\u00edtico\"], [\"MBL - Movimento Brasil Livre\", \"\", \"coletivo, pol\\u00edtico\"], [\"Milly Lacombe\", \"\", \"ativista l\\u00e9sbica, jornalista, escritor, roteirista\"], [\"Monica Benicio\", \"\", \"arquiteto, urbanista, ativista l\\u00e9sbica, pol\\u00edtico\"], [\"M\\u00f4nica Bergamo\", \"\", \"jornalista\"], [\"Preta Ijim\\u00fa\", \"\", \"acad\\u00eamico, cientista pol\\u00edtico, podcaster, ativista negro, professor\"], [\"N\\u00e3o Me Kahlo\", \"\", \"coletivo, m\\u00eddia, feminista\"], [\"N\\u00e1taly Neri\", \"\", \"ativista negro, cientista social, ativista vegano, youtuber\"], [\"Olavo de Carvalho\", \"\", \"fil\\u00f3sofo, escritor, jornalista, professor\"], [\"ONU Mulheres Brasil\", \"\", \"coletivo, m\\u00eddia, feminista\"], [\"Padre Paulo Ricardo\", \"\", \"religioso, youtuber, professor, radialista\"], [\"Paola Carosella\", \"\", \"cozinheiro, chef, empres\\u00e1rio\"], [\"\\u262dLisa D\\u00e9bora Perp\\u00e9tua da Fa\\u00edsca\", \"\", \"ativista l\\u00e9sbica\"], [\"Silas Malafaia\", \"\", \"religioso, psic\\u00f3logo, te\\u00f3logo\"], [\"Paulo A. Briguet\", \"\", \"jornalista, escritor\"], [\"paulo eneas\", \"\", \"jornalista\"], [\"Petra Costa\", \"\", \"cineasta, diretor\"], [\"Fernanda Brum\", \"\", \"m\\u00fasico, religioso, escritor, ator\"], [\"Partido Social Liberal - PSL\", \"\", \"partido, pol\\u00edtico\"], [\"Rodrigo Constantino\", \"\", \"economista, jornalista\"], [\"Fernanda Salles\", \"\", \"jornalista, youtuber\"], [\"Revista AzMina\", \"\", \"m\\u00eddia, feminista\"], [\"Rita Lisauskas\", \"\", \"jornalista, blogueiro\"], [\"Sarita Coelho\", \"\", \"jornalista, servidor p\\u00fablico\"], [\"Senso Incomum\", \"\", \"m\\u00eddia, pol\\u00edtico\"], [\"S\\u00e9rgio Camargo\", \"\", \"pol\\u00edtico, jornalista\"], [\"Alian\\u00e7a pelo Brasil\", \"\", \"coletivo, pol\\u00edtico\"], [\"Sueli Carneiro\", \"\", \"acad\\u00eamico, ativista negro, fil\\u00f3sofo, escritor\"], [\"TeAtualizei\", \"\", \"youtuber\"], [\"Tati Nefertari\", \"\", \"universit\\u00e1rio, ativista negro\"], [\"Ana Flor\", \"\", \"ativista trans, pedagogo, acad\\u00eamico\"], [\"Portal Ter\\u00e7a Livre\", \"\", \"m\\u00eddia, pol\\u00edtico\"], [\"Tese Onze\", \"\", \"m\\u00eddia, pol\\u00edtico, ecossocialista\"], [\"Sher Machado\", \"\", \"ativista trans, ativista negro, f\\u00edsico, streamer\"], [\"Bueno.\", \"\", \"acad\\u00eamico, ativista negro\"]], \"hovertemplate\": \"Partido=%{customdata[1]}<br>Ponto Ideal=%{x}<br>Tamanho relativo de Seguidores Analisados=%{y}<br>Nome=%{customdata[0]}<br>Classifica\\u00e7\\u00f5es=%{customdata[2]}<extra></extra>\", \"legendgroup\": \"Sem Partido Encontrado\", \"marker\": {\"color\": \"lightgray\", \"symbol\": \"circle\"}, \"mode\": \"markers\", \"name\": \"Sem Partido Encontrado\", \"orientation\": \"v\", \"showlegend\": true, \"type\": \"scatter\", \"x\": [1.5077450000000001, 1.547544, 1.115909, 0.062928, -1.3184209999999998, 0.05396, 1.123759, 0.22532, -2.251423, -1.7380330000000002, 1.569364, -2.045617, 0.131298, -1.823219, -2.020968, 1.306806, 1.403122, -1.401738, 0.021424000000000002, 1.252818, -1.670168, 1.517881, -1.3220610000000002, 0.114927, -1.521974, -2.0058119999999997, -1.385043, 0.6285350000000001, 1.18195, 1.3503610000000001, -1.761039, 1.096643, 1.135365, 1.511924, 1.764806, 1.4221409999999999, -1.326052, -1.8704740000000002, -2.184599, -1.952359, -2.254809, -1.788807, -2.0657959999999997, 1.675497, -1.951114, -1.9856779999999998, -1.662236, -1.590255, -1.328849, 1.235371, -2.03648, -2.265995, -1.515064, 1.595204, -2.2264909999999998, 1.786427, -2.011198, -1.650467, 1.21685, 1.313536, 0.201953, -1.467044, -1.6855259999999999, -0.9054459999999999, -2.17928, -1.872436, -2.436118, 0.861183, -1.490895, 1.035599, -1.376681, -1.278515, 0.511582, 1.595725, 1.8136860000000001, -1.4258629999999999, 0.067284, 0.5743699999999999, 1.125796, 1.7270279999999998, -1.781304, -1.288384, 1.533498, 1.137893, 1.684748, 1.443481, -2.045003, 1.808327, -2.256308, -2.4336759999999997, 1.531937, -1.822257, -2.4905150000000003, -2.089623], \"xaxis\": \"x\", \"y\": [0.4255225084291225, 0.1676885257051799, 0.6397145272403976, 0.22040090558411146, 0.12781659006772447, 0.15603836100935706, 0.3817153628652215, 0.15400759835595673, 0.06750099594819126, 0.09012116559946365, 0.2884606041761808, 0.034246042927796184, 0.04714964485944985, 0.041096223170127386, 0.03672862598015877, 0.15313310726119106, 0.11556399817328526, 0.15653876424691743, 0.12476072951990438, 0.29618527551327767, 0.04170836693646336, 0.089577037807165, 0.15410476403315293, 0.09479969295646005, 0.13290807155280468, 0.04173265835576241, 0.07191231769289816, 0.17010309278350516, 0.016003187034212035, 0.03229787110001263, 0.06256012126276514, 0.3413381657063459, 0.10672677983229203, 0.13506514958656005, 0.058046775557002245, 0.23924618867631198, 0.14395580905001118, 0.022076041858973737, 0.03259908469932081, 0.0467075410282072, 0.04205330509050983, 0.060330168971112645, 0.019355402897480493, 0.18167552493757105, 0.15431367023912473, 0.01696026895459448, 0.04618770465520759, 0.21208838189997764, 0.1460983122321871, 0.22646404384115354, 0.024461459234140132, 0.10051303477559587, 0.12662631052207118, 0.1496740091530068, 0.09441588853153512, 0.07161110409358998, 0.02622501627525093, 0.04531807184430172, 0.07688720036534295, 0.03746708512684979, 0.22672639116958326, 0.048014419386495914, 0.0506038846837743, 0.3855582653983307, 0.04305896984949037, 0.06543136702391247, 0.14981004110108145, 0.36502715780677636, 0.022396688593721154, 0.07372445757260705, 0.425153278855777, 0.030757795116453063, 0.23752149790607965, 0.04355451480319092, 0.04303953671405113, 0.1819087225628419, 0.18511033162645626, 0.1031753743307714, 0.2788557769853377, 0.13437527327846713, 0.02403393025447691, 0.07792687311134215, 0.024281702731327185, 0.14763352993188686, 0.15513472021143251, 0.20403820554427354, 0.03448895712078665, 0.20278476830844272, 0.05598200491658327, 0.03101528416102296, 0.23860975349067695, 0.02691975086720367, 0.022066325291254116, 0.11351866066830553], \"yaxis\": \"y\"}, {\"customdata\": [[\"Davy Albuquerque\", \"Republicanos\", \"jornalista\"], [\"Andr\\u00e9 Fernandes\", \"Republicanos\", \"pol\\u00edtico, jornalista, youtuber\"], [\"Carlos Bolsonaro\", \"Republicanos\", \"pol\\u00edtico\"], [\"Carmelo Neto\", \"Republicanos\", \"pol\\u00edtico\"], [\"Dom\", \"Republicanos\", \"influencer, pol\\u00edtico\"], [\"Flavio Bolsonaro\", \"Republicanos\", \"pol\\u00edtico, advogado, empres\\u00e1rio\"], [\"Marcelo Crivella\", \"Republicanos\", \"pol\\u00edtico, engenheiro, m\\u00fasico, escritor, religioso\"], [\"Liomar de Oliveira\", \"Republicanos\", \"pol\\u00edtico, religioso\"]], \"hovertemplate\": \"Partido=%{customdata[1]}<br>Ponto Ideal=%{x}<br>Tamanho relativo de Seguidores Analisados=%{y}<br>Nome=%{customdata[0]}<br>Classifica\\u00e7\\u00f5es=%{customdata[2]}<extra></extra>\", \"legendgroup\": \"Republicanos\", \"marker\": {\"color\": \"green\", \"symbol\": \"circle\"}, \"mode\": \"markers\", \"name\": \"Republicanos\", \"orientation\": \"v\", \"showlegend\": true, \"type\": \"scatter\", \"x\": [1.555408, 1.404835, 1.058905, 1.45997, 1.5517100000000001, 0.770213, 0.371843, 1.281867], \"xaxis\": \"x\", \"y\": [0.10108631227105337, 0.10681908722562843, 0.5799867854679013, 0.09941506262327895, 0.043316458894060265, 0.4880631965564484, 0.05043384474868098, 0.04043549656519331], \"yaxis\": \"y\"}, {\"customdata\": [[\"Al\\u00ea Silva \\ud83c\\udde7\\ud83c\\uddf7 nem lugar na fila eu quero\\ud83c\\udde7\\ud83c\\uddf7\", \"PSL\", \"pol\\u00edtico\"], [\"Bia Kicis\", \"PSL\", \"procurador da rep\\u00fablica, pol\\u00edtico, advogado, youtuber\"], [\"Bibo Nunes\", \"PSL\", \"pol\\u00edtico, empres\\u00e1rio, jornalista\"], [\"Eduardo Bolsonaro\", \"PSL\", \"pol\\u00edtico, policial federal, advogado\"], [\"Junio Amaral\", \"PSL\", \"pol\\u00edtico, militar\"], [\"Carla Zambelli\", \"PSL\", \"pol\\u00edtico, escritor\"], [\"Carlos Jordy\", \"PSL\", \"pol\\u00edtico, turism\\u00f3logo, servidor p\\u00fablico\"], [\"Caroline De Toni\", \"PSL\", \"pol\\u00edtico, advogado\"], [\"Gil Diniz\", \"PSL\", \"pol\\u00edtico, servidor p\\u00fablico\"], [\"Helio Lopes\", \"PSL\", \"militar, pol\\u00edtico\"], [\"Professora Dayane Pimentel\", \"PSL\", \"pol\\u00edtico, professor\"], [\"Daniel Freitas\", \"PSL\", \"pol\\u00edtico, empres\\u00e1rio\"], [\"Dra. Soraya Manato\", \"PSL\", \"m\\u00e9dico, pol\\u00edtico\"], [\"Felipe Francischini\", \"PSL\", \"pol\\u00edtico, advogado\"], [\"Filipe Barros\", \"PSL\", \"pol\\u00edtico, advogado\"], [\"Heitor Freire\", \"PSL\", \"pol\\u00edtico\"], [\"Jair M. Bolsonaro\", \"PSL\", \"pol\\u00edtico, militar\"], [\"Leticia Aguiar\", \"PSL\", \"pol\\u00edtico\"], [\"V\\u00edtor Hugo\", \"PSL\", \"pol\\u00edtico, militar, advogado\"], [\"Marcio Labre Oficial\", \"PSL\", \"pol\\u00edtico, youtuber, empres\\u00e1rio , jornalista\"], [\"Tamires De Paula\", \"PSL\", \"influencer\"], [\"Chris Tonietto\", \"PSL\", \"pol\\u00edtico, advogado\"]], \"hovertemplate\": \"Partido=%{customdata[1]}<br>Ponto Ideal=%{x}<br>Tamanho relativo de Seguidores Analisados=%{y}<br>Nome=%{customdata[0]}<br>Classifica\\u00e7\\u00f5es=%{customdata[2]}<extra></extra>\", \"legendgroup\": \"PSL\", \"marker\": {\"color\": \"red\", \"symbol\": \"circle\"}, \"mode\": \"markers\", \"name\": \"PSL\", \"orientation\": \"v\", \"showlegend\": true, \"type\": \"scatter\", \"x\": [1.538618, 1.5002959999999999, 1.442361, 0.966274, 1.415577, 1.184482, 1.611404, 1.564577, 1.636417, 1.478428, 0.604191, 1.3864889999999999, 1.214076, 0.9688700000000001, 1.659356, 0.979309, 1.017907, 1.394875, 1.317431, 1.497774, 1.3362100000000001, 1.453762], \"xaxis\": \"x\", \"y\": [0.09143290224161217, 0.32190017198324866, 0.09804502657481272, 0.6060709115112177, 0.06602893593866903, 0.40376225502103635, 0.22025029878445737, 0.20786167494194352, 0.14761895508030742, 0.19406900706394473, 0.03450839025622589, 0.025117327555214397, 0.02377644120990701, 0.07657141191445534, 0.20091918730627592, 0.02052624930769455, 1.0, 0.02676914406754958, 0.14442220430055286, 0.0669520098720328, 0.04118853056346376, 0.04485653487761983], \"yaxis\": \"y\"}, {\"customdata\": [[\"Alexandre Aleluia\", \"Democratas\", \"pol\\u00edtico\"], [\"Capit\\u00e3o Derrite\", \"Progressistas\", \"militar, pol\\u00edtico\"], [\"Carlos Viana\", \"PSD\", \"pol\\u00edtico, jornalista\"], [\"Damares Alves\", \"Progressistas\", \"pol\\u00edtico, religioso, advogado\"], [\"Daniel Silveira\", \"PTB\", \"pol\\u00edtico, militar\"], [\"Douglas Garcia\", \"PTB\", \"pol\\u00edtico\"], [\"Delegado \\u00c9der Mauro\", \"PSD\", \"pol\\u00edtico, delegado\"], [\"Fabiana Barroso\", \"Patriota\", \"advogado\"], [\"Fernando Holiday\", \"Patriota\", \"pol\\u00edtico\"], [\"JOS\\u00c9 MEDEIROS\", \"Podemos\", \"pol\\u00edtico, policial rodovi\\u00e1rio, professor, matem\\u00e1tico\"], [\"Kim Kataguiri\", \"Democratas\", \"pol\\u00edtico\"], [\"magno malta\", \"PL\", \"pol\\u00edtico, religioso, m\\u00fasico\"], [\"Marcel van Hattem\", \"NOVO\", \"cientista pol\\u00edtico, jornalista, pol\\u00edtico\"], [\"MARISA LOBO-Supl.Dep.Federal\", \"Avante\", \"pol\\u00edtico, psic\\u00f3logo, religioso\"], [\"Onyx Lorenzoni\", \"Democratas\", \"pol\\u00edtico, veterin\\u00e1rio, empres\\u00e1rio\"], [\"Otoni de Paula\", \"PSC\", \"pol\\u00edtico, religioso\"], [\"Paulo Eduardo Martins\", \"PSC\", \"jornalista, pol\\u00edtico\"], [\"Rog\\u00e9rio Marinho\", \"PSDB\", \"pol\\u00edtico, economista\"], [\"Tenente Santini\", \"Progressistas\", \"policial militar, pol\\u00edtico, empres\\u00e1rio\"]], \"hovertemplate\": \"Partido=%{customdata[1]}<br>Ponto Ideal=%{x}<br>Tamanho relativo de Seguidores Analisados=%{y}<br>Nome=%{customdata[0]}<br>Classifica\\u00e7\\u00f5es=%{customdata[2]}<extra></extra>\", \"legendgroup\": \"Partido Pequeno\", \"marker\": {\"color\": \"gray\", \"symbol\": \"circle\"}, \"mode\": \"markers\", \"name\": \"Partido Pequeno\", \"orientation\": \"v\", \"showlegend\": true, \"type\": \"scatter\", \"x\": [1.5921040000000002, 1.362441, 0.513835, 1.149155, 1.514535, 1.83152, 1.439951, 1.5347680000000001, 0.303846, 1.070514, 0.20044, 0.834892, 0.878639, 0.7435970000000001, 0.916351, 1.573821, 1.153463, 1.054836, 1.450986], \"xaxis\": \"x\", \"y\": [0.028474401702342663, 0.08325641050555302, 0.02282421757338438, 0.41589338981898033, 0.09225395221391995, 0.16764965943430143, 0.06670423739518253, 0.11002555457310259, 0.14545701876269226, 0.0817940670637504, 0.24526074409475596, 0.28190192096543815, 0.20949405831883947, 0.05239173314418415, 0.3221770941632578, 0.08234305313990886, 0.16691120028761042, 0.08551065421650456, 0.016216951524043646], \"yaxis\": \"y\"}, {\"customdata\": [[\"Bruno Engler\", \"PRTB\", \"pol\\u00edtico\"], [\"Clau de Luca\", \"PRTB\", \"publicit\\u00e1rio, m\\u00fasico\"], [\"Edson Salom\\u00e3o\", \"PRTB\", \"pol\\u00edtico, youtuber\"], [\"Fernanda Barth vereadora\", \"PRTB\", \"cientista pol\\u00edtico, jornalista, pol\\u00edtico\"], [\"Paula Marisa\", \"PRTB\", \"jornalista, professor\"]], \"hovertemplate\": \"Partido=%{customdata[1]}<br>Ponto Ideal=%{x}<br>Tamanho relativo de Seguidores Analisados=%{y}<br>Nome=%{customdata[0]}<br>Classifica\\u00e7\\u00f5es=%{customdata[2]}<extra></extra>\", \"legendgroup\": \"PRTB\", \"marker\": {\"color\": \"blue\", \"symbol\": \"circle\"}, \"mode\": \"markers\", \"name\": \"PRTB\", \"orientation\": \"v\", \"showlegend\": true, \"type\": \"scatter\", \"x\": [1.549531, 1.409497, 1.814844, 1.565589, 1.7587720000000002], \"xaxis\": \"x\", \"y\": [0.03533915679625329, 0.039050885665147646, 0.049539920518476055, 0.01725176598618304, 0.1660755754637232], \"yaxis\": \"y\"}, {\"customdata\": [[\"Carina Vitral\", \"PCdoB\", \"pol\\u00edtico\"], [\"Jandira Feghali\", \"PCdoB\", \"m\\u00e9dico, pol\\u00edtico, sindicalista\"], [\"Leci Brand\\u00e3o\", \"PCdoB\", \"pol\\u00edtico, m\\u00fasico\"], [\"Manuela\", \"PCdoB\", \"pol\\u00edtico, escritor, jornalista\"], [\"MC Carol\", \"PCdoB\", \"m\\u00fasico\"], [\"Perp\\u00e9tua Almeida\", \"PCdoB\", \"professor, banc\\u00e1rio , pol\\u00edtico\"]], \"hovertemplate\": \"Partido=%{customdata[1]}<br>Ponto Ideal=%{x}<br>Tamanho relativo de Seguidores Analisados=%{y}<br>Nome=%{customdata[0]}<br>Classifica\\u00e7\\u00f5es=%{customdata[2]}<extra></extra>\", \"legendgroup\": \"PCdoB\", \"marker\": {\"color\": \"orange\", \"symbol\": \"circle\"}, \"mode\": \"markers\", \"name\": \"PCdoB\", \"orientation\": \"v\", \"showlegend\": true, \"type\": \"scatter\", \"x\": [-1.321101, -1.201901, -1.429151, -1.343015, -2.021261, -1.176082], \"xaxis\": \"x\", \"y\": [0.02843553543146419, 0.21285113246596774, 0.02585092841804561, 0.4900308015196712, 0.08840619139695094, 0.016668771923005917], \"yaxis\": \"y\"}, {\"customdata\": [[\"Clara Averbuck\", \"PT\", \"jornalista, escritor\"], [\"Benedita da Silva\", \"PT\", \"pol\\u00edtico, professor, servidor p\\u00fablico, assistente social, auxiliar de enfermagem\"], [\"Elika Takimoto\", \"PT\", \"pol\\u00edtico, acad\\u00eamico, escritor, professor\"], [\"Erika Kokay\", \"PT\", \"psic\\u00f3logo, pol\\u00edtico, banc\\u00e1rio, sindicalista\"], [\"Margarida Salom\\u00e3o\", \"PT\", \"acad\\u00eamico, professor, sindicalista, pol\\u00edtico\"], [\"marcia tiburi\", \"PT\", \"fil\\u00f3sofo, acad\\u00eamico, professor, artista, escritor\"], [\"Mar\\u00edlia Arraes\", \"PT\", \"pol\\u00edtico, advogado\"], [\"Nat\\u00e1lia Bonavides\", \"PT\", \"pol\\u00edtico, advogado\"]], \"hovertemplate\": \"Partido=%{customdata[1]}<br>Ponto Ideal=%{x}<br>Tamanho relativo de Seguidores Analisados=%{y}<br>Nome=%{customdata[0]}<br>Classifica\\u00e7\\u00f5es=%{customdata[2]}<extra></extra>\", \"legendgroup\": \"PT\", \"marker\": {\"color\": \"darkred\", \"symbol\": \"circle\"}, \"mode\": \"markers\", \"name\": \"PT\", \"orientation\": \"v\", \"showlegend\": true, \"type\": \"scatter\", \"x\": [-1.618628, -1.298902, -1.450352, -1.1654, -1.142013, -1.389608, -1.225918, -1.3322379999999998], \"xaxis\": \"x\", \"y\": [0.06019413702303798, 0.07657141191445534, 0.12558177949221216, 0.11236724739353071, 0.049729393589008616, 0.09316730957956411, 0.03116103267681724, 0.047999844534916486], \"yaxis\": \"y\"}, {\"customdata\": [[\"Mar\\u00edlia Moscou\", \"PCB\", \"acad\\u00eamico, escritor, professor, cientista social\"]], \"hovertemplate\": \"Partido=%{customdata[1]}<br>Ponto Ideal=%{x}<br>Tamanho relativo de Seguidores Analisados=%{y}<br>Nome=%{customdata[0]}<br>Classifica\\u00e7\\u00f5es=%{customdata[2]}<extra></extra>\", \"legendgroup\": \"PCB\", \"marker\": {\"color\": \"lightgreen\", \"symbol\": \"circle\"}, \"mode\": \"markers\", \"name\": \"PCB\", \"orientation\": \"v\", \"showlegend\": true, \"type\": \"scatter\", \"x\": [-1.8225740000000001], \"xaxis\": \"x\", \"y\": [0.02380073262920606], \"yaxis\": \"y\"}],                        {\"legend\": {\"title\": {\"text\": \"Partido\"}, \"tracegroupgap\": 0}, \"margin\": {\"t\": 60}, \"template\": {\"data\": {\"bar\": [{\"error_x\": {\"color\": \"#2a3f5f\"}, \"error_y\": {\"color\": \"#2a3f5f\"}, \"marker\": {\"line\": {\"color\": \"#E5ECF6\", \"width\": 0.5}}, \"type\": \"bar\"}], \"barpolar\": [{\"marker\": {\"line\": {\"color\": \"#E5ECF6\", \"width\": 0.5}}, \"type\": \"barpolar\"}], \"carpet\": [{\"aaxis\": {\"endlinecolor\": \"#2a3f5f\", \"gridcolor\": \"white\", \"linecolor\": \"white\", \"minorgridcolor\": \"white\", \"startlinecolor\": \"#2a3f5f\"}, \"baxis\": {\"endlinecolor\": \"#2a3f5f\", \"gridcolor\": \"white\", \"linecolor\": \"white\", \"minorgridcolor\": \"white\", \"startlinecolor\": \"#2a3f5f\"}, \"type\": \"carpet\"}], \"choropleth\": [{\"colorbar\": {\"outlinewidth\": 0, \"ticks\": \"\"}, \"type\": \"choropleth\"}], \"contour\": [{\"colorbar\": {\"outlinewidth\": 0, \"ticks\": \"\"}, \"colorscale\": [[0.0, \"#0d0887\"], [0.1111111111111111, \"#46039f\"], [0.2222222222222222, \"#7201a8\"], [0.3333333333333333, \"#9c179e\"], [0.4444444444444444, \"#bd3786\"], [0.5555555555555556, \"#d8576b\"], [0.6666666666666666, \"#ed7953\"], [0.7777777777777778, \"#fb9f3a\"], [0.8888888888888888, \"#fdca26\"], [1.0, \"#f0f921\"]], \"type\": \"contour\"}], \"contourcarpet\": [{\"colorbar\": {\"outlinewidth\": 0, \"ticks\": \"\"}, \"type\": \"contourcarpet\"}], \"heatmap\": [{\"colorbar\": {\"outlinewidth\": 0, \"ticks\": \"\"}, \"colorscale\": [[0.0, \"#0d0887\"], [0.1111111111111111, \"#46039f\"], [0.2222222222222222, \"#7201a8\"], [0.3333333333333333, \"#9c179e\"], [0.4444444444444444, \"#bd3786\"], [0.5555555555555556, \"#d8576b\"], [0.6666666666666666, \"#ed7953\"], [0.7777777777777778, \"#fb9f3a\"], [0.8888888888888888, \"#fdca26\"], [1.0, \"#f0f921\"]], \"type\": \"heatmap\"}], \"heatmapgl\": [{\"colorbar\": {\"outlinewidth\": 0, \"ticks\": \"\"}, \"colorscale\": [[0.0, \"#0d0887\"], [0.1111111111111111, \"#46039f\"], [0.2222222222222222, \"#7201a8\"], [0.3333333333333333, \"#9c179e\"], [0.4444444444444444, \"#bd3786\"], [0.5555555555555556, \"#d8576b\"], [0.6666666666666666, \"#ed7953\"], [0.7777777777777778, \"#fb9f3a\"], [0.8888888888888888, \"#fdca26\"], [1.0, \"#f0f921\"]], \"type\": \"heatmapgl\"}], \"histogram\": [{\"marker\": {\"colorbar\": {\"outlinewidth\": 0, \"ticks\": \"\"}}, \"type\": \"histogram\"}], \"histogram2d\": [{\"colorbar\": {\"outlinewidth\": 0, \"ticks\": \"\"}, \"colorscale\": [[0.0, \"#0d0887\"], [0.1111111111111111, \"#46039f\"], [0.2222222222222222, \"#7201a8\"], [0.3333333333333333, \"#9c179e\"], [0.4444444444444444, \"#bd3786\"], [0.5555555555555556, \"#d8576b\"], [0.6666666666666666, \"#ed7953\"], [0.7777777777777778, \"#fb9f3a\"], [0.8888888888888888, \"#fdca26\"], [1.0, \"#f0f921\"]], \"type\": \"histogram2d\"}], \"histogram2dcontour\": [{\"colorbar\": {\"outlinewidth\": 0, \"ticks\": \"\"}, \"colorscale\": [[0.0, \"#0d0887\"], [0.1111111111111111, \"#46039f\"], [0.2222222222222222, \"#7201a8\"], [0.3333333333333333, \"#9c179e\"], [0.4444444444444444, \"#bd3786\"], [0.5555555555555556, \"#d8576b\"], [0.6666666666666666, \"#ed7953\"], [0.7777777777777778, \"#fb9f3a\"], [0.8888888888888888, \"#fdca26\"], [1.0, \"#f0f921\"]], \"type\": \"histogram2dcontour\"}], \"mesh3d\": [{\"colorbar\": {\"outlinewidth\": 0, \"ticks\": \"\"}, \"type\": \"mesh3d\"}], \"parcoords\": [{\"line\": {\"colorbar\": {\"outlinewidth\": 0, \"ticks\": \"\"}}, \"type\": \"parcoords\"}], \"pie\": [{\"automargin\": true, \"type\": \"pie\"}], \"scatter\": [{\"marker\": {\"colorbar\": {\"outlinewidth\": 0, \"ticks\": \"\"}}, \"type\": \"scatter\"}], \"scatter3d\": [{\"line\": {\"colorbar\": {\"outlinewidth\": 0, \"ticks\": \"\"}}, \"marker\": {\"colorbar\": {\"outlinewidth\": 0, \"ticks\": \"\"}}, \"type\": \"scatter3d\"}], \"scattercarpet\": [{\"marker\": {\"colorbar\": {\"outlinewidth\": 0, \"ticks\": \"\"}}, \"type\": \"scattercarpet\"}], \"scattergeo\": [{\"marker\": {\"colorbar\": {\"outlinewidth\": 0, \"ticks\": \"\"}}, \"type\": \"scattergeo\"}], \"scattergl\": [{\"marker\": {\"colorbar\": {\"outlinewidth\": 0, \"ticks\": \"\"}}, \"type\": \"scattergl\"}], \"scattermapbox\": [{\"marker\": {\"colorbar\": {\"outlinewidth\": 0, \"ticks\": \"\"}}, \"type\": \"scattermapbox\"}], \"scatterpolar\": [{\"marker\": {\"colorbar\": {\"outlinewidth\": 0, \"ticks\": \"\"}}, \"type\": \"scatterpolar\"}], \"scatterpolargl\": [{\"marker\": {\"colorbar\": {\"outlinewidth\": 0, \"ticks\": \"\"}}, \"type\": \"scatterpolargl\"}], \"scatterternary\": [{\"marker\": {\"colorbar\": {\"outlinewidth\": 0, \"ticks\": \"\"}}, \"type\": \"scatterternary\"}], \"surface\": [{\"colorbar\": {\"outlinewidth\": 0, \"ticks\": \"\"}, \"colorscale\": [[0.0, \"#0d0887\"], [0.1111111111111111, \"#46039f\"], [0.2222222222222222, \"#7201a8\"], [0.3333333333333333, \"#9c179e\"], [0.4444444444444444, \"#bd3786\"], [0.5555555555555556, \"#d8576b\"], [0.6666666666666666, \"#ed7953\"], [0.7777777777777778, \"#fb9f3a\"], [0.8888888888888888, \"#fdca26\"], [1.0, \"#f0f921\"]], \"type\": \"surface\"}], \"table\": [{\"cells\": {\"fill\": {\"color\": \"#EBF0F8\"}, \"line\": {\"color\": \"white\"}}, \"header\": {\"fill\": {\"color\": \"#C8D4E3\"}, \"line\": {\"color\": \"white\"}}, \"type\": \"table\"}]}, \"layout\": {\"annotationdefaults\": {\"arrowcolor\": \"#2a3f5f\", \"arrowhead\": 0, \"arrowwidth\": 1}, \"coloraxis\": {\"colorbar\": {\"outlinewidth\": 0, \"ticks\": \"\"}}, \"colorscale\": {\"diverging\": [[0, \"#8e0152\"], [0.1, \"#c51b7d\"], [0.2, \"#de77ae\"], [0.3, \"#f1b6da\"], [0.4, \"#fde0ef\"], [0.5, \"#f7f7f7\"], [0.6, \"#e6f5d0\"], [0.7, \"#b8e186\"], [0.8, \"#7fbc41\"], [0.9, \"#4d9221\"], [1, \"#276419\"]], \"sequential\": [[0.0, \"#0d0887\"], [0.1111111111111111, \"#46039f\"], [0.2222222222222222, \"#7201a8\"], [0.3333333333333333, \"#9c179e\"], [0.4444444444444444, \"#bd3786\"], [0.5555555555555556, \"#d8576b\"], [0.6666666666666666, \"#ed7953\"], [0.7777777777777778, \"#fb9f3a\"], [0.8888888888888888, \"#fdca26\"], [1.0, \"#f0f921\"]], \"sequentialminus\": [[0.0, \"#0d0887\"], [0.1111111111111111, \"#46039f\"], [0.2222222222222222, \"#7201a8\"], [0.3333333333333333, \"#9c179e\"], [0.4444444444444444, \"#bd3786\"], [0.5555555555555556, \"#d8576b\"], [0.6666666666666666, \"#ed7953\"], [0.7777777777777778, \"#fb9f3a\"], [0.8888888888888888, \"#fdca26\"], [1.0, \"#f0f921\"]]}, \"colorway\": [\"#636efa\", \"#EF553B\", \"#00cc96\", \"#ab63fa\", \"#FFA15A\", \"#19d3f3\", \"#FF6692\", \"#B6E880\", \"#FF97FF\", \"#FECB52\"], \"font\": {\"color\": \"#2a3f5f\"}, \"geo\": {\"bgcolor\": \"white\", \"lakecolor\": \"white\", \"landcolor\": \"#E5ECF6\", \"showlakes\": true, \"showland\": true, \"subunitcolor\": \"white\"}, \"hoverlabel\": {\"align\": \"left\"}, \"hovermode\": \"closest\", \"mapbox\": {\"style\": \"light\"}, \"paper_bgcolor\": \"white\", \"plot_bgcolor\": \"#E5ECF6\", \"polar\": {\"angularaxis\": {\"gridcolor\": \"white\", \"linecolor\": \"white\", \"ticks\": \"\"}, \"bgcolor\": \"#E5ECF6\", \"radialaxis\": {\"gridcolor\": \"white\", \"linecolor\": \"white\", \"ticks\": \"\"}}, \"scene\": {\"xaxis\": {\"backgroundcolor\": \"#E5ECF6\", \"gridcolor\": \"white\", \"gridwidth\": 2, \"linecolor\": \"white\", \"showbackground\": true, \"ticks\": \"\", \"zerolinecolor\": \"white\"}, \"yaxis\": {\"backgroundcolor\": \"#E5ECF6\", \"gridcolor\": \"white\", \"gridwidth\": 2, \"linecolor\": \"white\", \"showbackground\": true, \"ticks\": \"\", \"zerolinecolor\": \"white\"}, \"zaxis\": {\"backgroundcolor\": \"#E5ECF6\", \"gridcolor\": \"white\", \"gridwidth\": 2, \"linecolor\": \"white\", \"showbackground\": true, \"ticks\": \"\", \"zerolinecolor\": \"white\"}}, \"shapedefaults\": {\"line\": {\"color\": \"#2a3f5f\"}}, \"ternary\": {\"aaxis\": {\"gridcolor\": \"white\", \"linecolor\": \"white\", \"ticks\": \"\"}, \"baxis\": {\"gridcolor\": \"white\", \"linecolor\": \"white\", \"ticks\": \"\"}, \"bgcolor\": \"#E5ECF6\", \"caxis\": {\"gridcolor\": \"white\", \"linecolor\": \"white\", \"ticks\": \"\"}}, \"title\": {\"x\": 0.05}, \"xaxis\": {\"automargin\": true, \"gridcolor\": \"white\", \"linecolor\": \"white\", \"ticks\": \"\", \"title\": {\"standoff\": 15}, \"zerolinecolor\": \"white\", \"zerolinewidth\": 2}, \"yaxis\": {\"automargin\": true, \"gridcolor\": \"white\", \"linecolor\": \"white\", \"ticks\": \"\", \"title\": {\"standoff\": 15}, \"zerolinecolor\": \"white\", \"zerolinewidth\": 2}}}, \"xaxis\": {\"anchor\": \"y\", \"domain\": [0.0, 1.0], \"title\": {\"text\": \"Ponto Ideal\"}}, \"yaxis\": {\"anchor\": \"x\", \"domain\": [0.0, 1.0], \"title\": {\"text\": \"Tamanho relativo de Seguidores Analisados\"}}},                        {\"responsive\": true}                    ).then(function(){\n",
       "                            \n",
       "var gd = document.getElementById('0a2ad1c3-c75c-446d-9223-b0b9ef56c1f2');\n",
       "var x = new MutationObserver(function (mutations, observer) {{\n",
       "        var display = window.getComputedStyle(gd).display;\n",
       "        if (!display || display === 'none') {{\n",
       "            console.log([gd, 'removed!']);\n",
       "            Plotly.purge(gd);\n",
       "            observer.disconnect();\n",
       "        }}\n",
       "}});\n",
       "\n",
       "// Listen for the removal of the full notebook cells\n",
       "var notebookContainer = gd.closest('#notebook-container');\n",
       "if (notebookContainer) {{\n",
       "    x.observe(notebookContainer, {childList: true});\n",
       "}}\n",
       "\n",
       "// Listen for the clearing of the current output cell\n",
       "var outputEl = gd.closest('.output');\n",
       "if (outputEl) {{\n",
       "    x.observe(outputEl, {childList: true});\n",
       "}}\n",
       "\n",
       "                        })                };                });            </script>        </div>"
      ]
     },
     "metadata": {},
     "output_type": "display_data"
    }
   ],
   "source": [
    "df.loc[df['partido'].isin(['PSOL', 'PT', 'PCB', 'PCdoB', 'PSL', 'Republicanos', 'PRTB']), 'partido_str'] = df['partido']\n",
    "df.loc[(~df['partido'].isin(['PSOL', 'PT', 'PCB', 'PCdoB', 'PSL', 'Republicanos', 'PRTB'])) & (df['partido'] != ''), 'partido_str'] = 'Partido Pequeno'\n",
    "df['partido_str'].fillna('Sem Partido Encontrado', inplace=True)\n",
    "\n",
    "fig = px.scatter(df, x=\"ponto_ideal\", \n",
    "                 y=\"seguidores_analisados_rel\", \n",
    "                 color=\"partido_str\",\n",
    "                 color_discrete_sequence=['yellow', 'lightgray', 'green', 'red', 'gray', 'blue', 'orange', 'darkred', 'lightgreen'],\n",
    "                 hover_data=['nome', 'partido', 'profissoes'],\n",
    "                 labels={'seguidores_analisados_rel':'Tamanho relativo de Seguidores Analisados', \n",
    "                         'ponto_ideal':'Ponto Ideal',\n",
    "                         'posicao': 'Classificação',\n",
    "                         'nome': 'Nome',\n",
    "                         'partido_str': 'Partido',\n",
    "                         'partido': 'Partido',\n",
    "                         'profissoes': 'Classificações'})\n",
    "fig.show()"
   ]
  },
  {
   "cell_type": "code",
   "execution_count": 52,
   "metadata": {},
   "outputs": [
    {
     "data": {
      "text/plain": [
       "15222"
      ]
     },
     "execution_count": 52,
     "metadata": {},
     "output_type": "execute_result"
    }
   ],
   "source": [
    "df['20210215_seguidores'].min()"
   ]
  }
 ],
 "metadata": {
  "kernelspec": {
   "display_name": "Python 3",
   "language": "python",
   "name": "python3"
  },
  "language_info": {
   "codemirror_mode": {
    "name": "ipython",
    "version": 3
   },
   "file_extension": ".py",
   "mimetype": "text/x-python",
   "name": "python",
   "nbconvert_exporter": "python",
   "pygments_lexer": "ipython3",
   "version": "3.8.3"
  }
 },
 "nbformat": 4,
 "nbformat_minor": 4
}
