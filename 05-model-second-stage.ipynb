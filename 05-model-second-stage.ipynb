{
 "cells": [
  {
   "cell_type": "code",
   "execution_count": 1,
   "id": "db061bab-94ab-4692-b1c1-c5ce4df8fed9",
   "metadata": {
    "vscode": {
     "languageId": "r"
    }
   },
   "outputs": [],
   "source": [
    "#==============================================================================\n",
    "# 05-model-second-stage.R\n",
    "# Purpose: running second stage of the model (estimation of mass-level ideal\n",
    "# points) with a parallelized metropolis algorithm\n",
    "# Author: Pablo Barbera\n",
    "#==============================================================================\n",
    "\n",
    "source('auxiliary_functions/functions.R')\n",
    "\n",
    "samplesfile <- 'data/output/samples-tcc-filter-br.rdata'\n",
    "matrixfile <- 'data/output/results-elites-tcc-filter-br-final.rdata'\n",
    "\n",
    "# loading results of first stage\n",
    "load(samplesfile)\n",
    "alpha.i <- samples$alpha\n",
    "gamma.i <- samples$gamma\n",
    "phi.i <- samples$phi\n",
    "mu_beta.i <- samples$mu_beta\n",
    "sigma_beta.i <- samples$sigma_beta\n",
    "\n",
    "# loading data matrix\n",
    "library(Matrix)\n",
    "load(matrixfile)"
   ]
  },
  {
   "cell_type": "code",
   "execution_count": null,
   "id": "4bc11bb5-8d11-4f0d-ad18-0e4e012e9d14",
   "metadata": {
    "vscode": {
     "languageId": "r"
    }
   },
   "outputs": [
    {
     "data": {
      "text/html": [
       "NA"
      ],
      "text/latex": [
       "NA"
      ],
      "text/markdown": [
       "NA"
      ],
      "text/plain": [
       "[1] NA"
      ]
     },
     "metadata": {},
     "output_type": "display_data"
    }
   ],
   "source": [
    "results"
   ]
  }
 ],
 "metadata": {
  "kernelspec": {
   "display_name": "R",
   "language": "R",
   "name": "ir"
  },
  "language_info": {
   "codemirror_mode": "r",
   "file_extension": ".r",
   "mimetype": "text/x-r-source",
   "name": "R",
   "pygments_lexer": "r",
   "version": "4.2.0"
  }
 },
 "nbformat": 4,
 "nbformat_minor": 5
}
